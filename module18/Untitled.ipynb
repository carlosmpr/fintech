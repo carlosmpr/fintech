{
 "cells": [
  {
   "cell_type": "markdown",
   "metadata": {},
   "source": [
    "\n",
    "# Introduction to Blockchain\n",
    "\n",
    "A blockchain is a technology that records and shares data over a network, such as the internet. You can think of it as a bunch of computers that allow users to securely record and access data from anywhere on the network. The computers work together to make sure that they all agree on what was recorded. Therefore, we can trust that the system will always have a complete and accurate record of the data. We can thus use the blockchain for all sorts of financial applications or services for which recording transactions or other data has importance. Over the course of this module, you’ll learn all about the technology that powers a blockchain—specifically, how it works and why we can trust it to maintain complete and accurate data records.\n",
    "\n",
    "story. We can use blockchain to record any type of transaction or data. Examples include recording an agreement to buy a house, recording a vote, and even recording a marriage contract.\n",
    "\n",
    "All kinds of industries—from finance to healthcare, logistics, real estate, and energy—are finding ways to apply blockchain technologies. Many applications of blockchain prove useful, convenient, and even fun. Here are a few examples:\n",
    "\n",
    "Mythical Games (Links to an external site.), a large games studio, allows users to buy and sell digital in-game items over a blockchain, even across different games.\n",
    "\n",
    "Doc.ai (Links to an external site.) links medical records across a distributed ledger to lower healthcare costs and advance scientific research.\n",
    "\n",
    "Bloq (Links to an external site.), an infrastructure platform, allows any company to add blockchain applications to its existing business.\n",
    "\n",
    "TraDove (Links to an external site.), a platform that connects suppliers with customers, resembles Alibaba.com. But, it relies on blockchain to enable trust and lower transaction costs.\n",
    "\n",
    "\n",
    "# Features of Blockchain\n",
    "Most blockchains share the following key features:\n",
    "\n",
    "Decentralization: A blockchain is decentralized, because all the users can simultaneously edit the blockchain. Every user always has direct access to the blockchain, and no central authority monitors the user transactions. This is the defining feature of a blockchain.\n",
    "\n",
    "A distributed architecture: A blockchain is distributed for two reasons. First, many computers in various locations store identical copies of the same ledger. Second, these computers communicate with each other to arrive at particular decisions, like the validity of a new block in the chain.\n",
    "\n",
    "Trust: The technology is designed so that users can trust that the blockchain accurately records all its data and prevents tampering with that data. Without this trust, no one would use a blockchain for a transaction.\n",
    "\n",
    "Record keeping: In a blockchain, each block represents a transaction, and the chain links these transactions over time.\n",
    "\n",
    "Transparency: Anyone can review the history of the transactions in a blockchain. This doesn’t mean that anyone can review all the data that the transactions contain. The data itself might be private or sensitive. But, users can verify the existence of the transactions—specifically, who added data to the chain and when. Not all blockchains have full transparency, but it’s a common feature.\n",
    "\n",
    "# Centralization and Traditional Banking\n",
    "\n",
    "Historically, most systems that maintain financial records (like those of banks and governments) have been centralized. This means that one location or one authoritative source runs the financial tasks that are involved in maintaining the system. For example, banks keep internal logs of their money flows. A bank exchanges assets (like cash and stocks) with a wide variety of customers. But, the bank doesn't rely on those customers to agree on the amount of money that the bank currently has. The bank keeps its own, authoritative record. Now, people usually consider banks as trustworthy institutions. So, when you transfer $50 from your bank account into a friend's account at a different bank, you can trust both that the money will arrive at the correct destination and that the bank will record a decrease of $50 in your balance.\n",
    "\n",
    "The bank's internal log of its money flow is an example of a centralized accounting system—which is also called a ledger. At a basic level, a ledger keeps track of financial transactions. Any financial ledger includes both settlement and reconciliation. A ledger must facilitate the transfer of assets between one person and another, which is known as a settlement. A ledger must also verify that all its transactions have been correctly done, which is known as reconciliation.\n",
    "\n",
    "Centralization has advantages. For example, it makes transactions easy and fast. All we need to do is log the transaction to the appropriate server, and we’re done! We don’t cross-check the transaction against other copies on the network, which saves time and energy. If we reviewed the settlement and reconciliation of a single transaction in a centralized system, we could likely determine in a simple manner whether that transaction was correctly done.\n",
    "\n",
    "However, centralization has hidden costs. For instance, say that a centralized system processes millions or even billions of transactions every day. We now have complex and expensive problems. First, we need to invest in extra servers, in case a server goes down or reaches capacity. Furthermore, any downtime can lead to a chain reaction of failed transactions and other issues, which is a costly problem to solve. Finally, we also need to pay specialists to monitor these millions of transactions and audit any that appear erroneous.\n",
    "\n",
    "Blockchain technology mitigates these types of problems by using distributed ledgers and decentralization.\n",
    "\n",
    "# Decentralization and Blockchains\n",
    "\n",
    "Decentralization might sound technical, but its definition in the context of blockchain is just this: a process by which computers around the world copy and maintain a blockchain. These computers might consist of the local machines of Bitcoin users, for example. Unlike a centralized financial system that has one authoritative ledger to record all transactions, the ledger of a blockchain is distributed across all the computers that have a copy of the blockchain. All these computers update the ledger with the current transactions, and no single authority monitors the ledger for problematic transactions. Instead, the blockchain technology itself has fraud prevention built in. \n",
    "\n",
    "When correctly designed, this kind of distributed ledger—spread across thousands or millions of computers—is more immune to server outages, malicious hackers, and other factors that can cause transactions to go wrong. If one computer goes offline, millions remain to both maintain the transaction history and continue processing new transactions. Even if a malicious hacker compromises the blockchain on thousands of computers, the system is designed so that the remaining blockchains—replicated on potentially thousands or millions more computers—will automatically identify the compromised blockchains as invalid. So, distributed blockchain technology has a built-in auditing system. By contrast, the legacy technology of banks has to rely on more costly techniques to monitor problematic transactions. This is just one reason why large banks, credit card companies, and other traditional financial institutions are embracing blockchain technology.\n",
    "\n",
    "A decentralized blockchain network uses a set of rules, called a blockchain standard, to govern what the blockchain code can do. The blockchain standard sets a system for copying and distributing transaction records. This way, the collection of records represents a source of truth. Enough blockchain copies in agreement about what transactions took place and when determines the source of truth, or historical record.\n",
    "\n",
    "\n",
    "# Permissioned vs. Permissionless Blockchains\n",
    "A permissioned blockchain has a trusted, third-party arbiter—for example, a government or other well-respected institution. By contrast, a permissionless blockchain doesn’t have a central authority to provide trust. Instead, people place their trust in the prespecified rules of the blockchain, which are the incentives that keep the users acting appropriately.\n",
    "\n",
    "For permissionless—or open—blockchains, the code of the blockchain includes its “rules of the game.” This code runs for all the users of the chain—that is, the code is distributed across all the users. Bitcoin is an example of a permissionless blockchain.\n",
    "\n",
    "However, what if the rules need to change? In this case, the blockchain is rather democratic. The users of the chain can vote on the proposed changes. If a threshold of votes (usually a majority) accepts the changes, the code is rewritten going forward. However, a disagreement concerning the proposed changes, with the dissenters feeling strongly enough, might result in a blockchain fork. Those in favor of the new standard fork the code into a new blockchain that contains the new rule. Those opposed to the new standard continue using the original blockchain.\n",
    "\n",
    "The following image illustrates a blockchain fork:\n",
    "\n"
   ]
  },
  {
   "cell_type": "code",
   "execution_count": null,
   "metadata": {},
   "outputs": [],
   "source": []
  }
 ],
 "metadata": {
  "kernelspec": {
   "display_name": "Python 3",
   "language": "python",
   "name": "python3"
  },
  "language_info": {
   "codemirror_mode": {
    "name": "ipython",
    "version": 3
   },
   "file_extension": ".py",
   "mimetype": "text/x-python",
   "name": "python",
   "nbconvert_exporter": "python",
   "pygments_lexer": "ipython3",
   "version": "3.8.3"
  }
 },
 "nbformat": 4,
 "nbformat_minor": 4
}
