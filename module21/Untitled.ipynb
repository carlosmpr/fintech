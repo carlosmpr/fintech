{
 "cells": [
  {
   "cell_type": "markdown",
   "metadata": {},
   "source": [
    "\n",
    "# Blockchain Tokens\n",
    "\n",
    "In the traditional financial market, when a company wants to raise capital, they can sell shares of the company to the public through an initial public offering (IPO). Blockchain companies have another option available to them: raising funds directly on the blockchain through a similar process called an initial coin offering (ICO). When a company holds an ICO, the company uses blockchain technology to generate and sell blockchain “coins,” or digital tokens.\n",
    "\n",
    "These tokens could represent any asset, utility, service, or currency that’s of value to the potential buyers. Tokens might represent equity in the company (as in a traditional IPO), or a promise of future payment. They might also represent some sort of utility or benefit related to the company’s blockchain application or service, such as extra privileges on the system or exclusive or early access. In a gaming system, for example, a token might represent a special or unique item in the game. Regardless of the asset that an ICO’s tokens represent, the blockchain uses a particular type of smart contract to encode the details of the token’s value.\n",
    "\n",
    "Tokenomics, or the economics of tokens, refers to how blockchain tokens are conceptualized, produced, valued, distributed, traded, and used. A blockchain token represents an asset or utility on a blockchain platform. Essentially, it is a symbol of value\n",
    "\n",
    "On a blockchain, you can tokenize—or, represent as a token—commodities like gold and silver, as well as currencies like the US dollar. You can also tokenize other types of goods and assets, including items such as real-estate properties, cars, or even works of art. You can tokenize virtually anything that holds value.\n",
    "\n",
    "Some tokens represent assets whose values are interchangeable and exchangeable. These tokens are called fungible. Tokens representing fiat currency or cryptocurrency often fall into this category. A token representing one ether, for example, holds the same value as, and is interchangeable with, another token that represents one ether. Tokens representing other types of assets can be fungible, too. For example, consider tokens that represent votes: any individual’s vote holds equal power to any other individual’s vote, so the tokens representing their votes would have equivalent value.\n",
    "\n",
    "Non-fungible tokens such as cryptokitties are fundamentally different from fungible tokens. Both are valuable, but each NFT’s value is unique. This leads to different sets of rules, processes, and implementations for fungible and non-fungible tokens. The smart contracts that create NFTs follow different standards than the smart contracts that create fungible tokens do. We will further explore the possibilities offered by NFTs in a future module. In this module, we’ll focus on fungible tokens."
   ]
  }
 ],
 "metadata": {
  "kernelspec": {
   "display_name": "Python 3",
   "language": "python",
   "name": "python3"
  },
  "language_info": {
   "codemirror_mode": {
    "name": "ipython",
    "version": 3
   },
   "file_extension": ".py",
   "mimetype": "text/x-python",
   "name": "python",
   "nbconvert_exporter": "python",
   "pygments_lexer": "ipython3",
   "version": "3.8.3"
  }
 },
 "nbformat": 4,
 "nbformat_minor": 4
}
