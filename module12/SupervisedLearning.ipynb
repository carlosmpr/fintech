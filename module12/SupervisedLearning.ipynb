{
 "cells": [
  {
   "cell_type": "markdown",
   "metadata": {},
   "source": [
    "# Supervised Learning \n",
    "Supervised learning trains an algorithm to learn based on a labeled dataset, where each item in the dataset is tagged with the answer. This provides an answer key that you can use to evaluate the accuracy of the training data. Supervised learning can consider multiple factors and known past outcomes to make predictions about future outcomes, such as financial risk.\n",
    "\n",
    "supervised learning, unsupervised learning, and reinforcement learning. As previously explained, we can use unsupervised learning for knowledge discovery and clustering. By contrast, supervised learning can learn from the data and the expected outcomes that you choose to feed into it. If you supply the data and the expected outcome together, the model can learn how to make predictions for new pieces of data that have similar features. You supervise the model's learning by feeding it carefully selected data with known outcomes that the model can use to make the most accurate predictions that are possible.\n",
    "\n",
    " divide supervised learning into two types of algorithms: regression and classification.\n",
    "\n",
    "# Regression\n",
    "We use regression algorithms to model and predict continuous variables. For example, say that we want to predict a person's weight. Weight is a continuous variable, because it can be any number. We can use regression to predict a person's weight based on factors like height, age, and exercise duration. In finance, we can use regression to predict prices, dividends, rates, or any other continuous variables.\n",
    "\n",
    "\n",
    "# Classification\n",
    "Conversely, we use classification algorithms to predict discrete outcomes. For example, say that we want to use a person's traits, such as age, income, and geographic location, to predict how the person will vote on a particular issue. The outcome is finite, with two possibilities in this case—whether the person will vote Yes or No. The classification model will try to learn patterns from the data and, if successful, gain the ability to make accurate predictions for new voters. In finance, we can use classification to predict any discrete outcome, such as buy vs. sell, high risk vs. low risk, and fraud vs. not fraud.\n",
    "\n",
    "Regardless of whether we use a regression or a classification model, we create most supervised learning models by following a basic pattern: model-fit-predict. In this three-stage pattern, we present a machine learning algorithm with data (the model stage), and the algorithm learns from this data (the fit stage) to form a predictive model (the predict stage). A predictive model is simply the resulting model, where the algorithm has mathematically adjusted itself so that it can translate a new set of inputs to the correct output.\n",
    "\n",
    "\n",
    "# Model\n",
    "A machine learning model mathematically represents something in the real world. A model starts as untrained. That is, we haven’t yet adjusted it to make sense of the data. You can think of an untrained model as a mathematical ball of clay that’s ready to be shaped to the data.\n",
    "\n",
    "# Fit\n",
    "The fit stage (also known as the training stage) is when we fit the model to the data. In the mathematical ball-of-clay analogy, we adjust the model so that it matches patterns in the data. Recall that in our time series forecasting, the Prophet tool built a model that matched the time series components of the data. We could then use that model to forecast the values that future data might have. The fit stage of supervised learning works the same way. This is when the model starts to learn how to adjust (or train) itself to make predictions matching the data that we give it.\n",
    "\n",
    "# Predict\n",
    "Once the model has been fit to the data (that is, trained), we can use the trained model to predict new data. If we give the model new data that’s similar enough to the data that it’s gotten before, it can guess (or predict) the outcome for that data."
   ]
  },
  {
   "cell_type": "markdown",
   "metadata": {},
   "source": [
    "# Logistic Regression"
   ]
  },
  {
   "cell_type": "code",
   "execution_count": 1,
   "metadata": {},
   "outputs": [],
   "source": [
    "import pandas as pd"
   ]
  },
  {
   "cell_type": "code",
   "execution_count": 2,
   "metadata": {},
   "outputs": [
    {
     "data": {
      "text/html": [
       "<div>\n",
       "<style scoped>\n",
       "    .dataframe tbody tr th:only-of-type {\n",
       "        vertical-align: middle;\n",
       "    }\n",
       "\n",
       "    .dataframe tbody tr th {\n",
       "        vertical-align: top;\n",
       "    }\n",
       "\n",
       "    .dataframe thead th {\n",
       "        text-align: right;\n",
       "    }\n",
       "</style>\n",
       "<table border=\"1\" class=\"dataframe\">\n",
       "  <thead>\n",
       "    <tr style=\"text-align: right;\">\n",
       "      <th></th>\n",
       "      <th>Financial Performance</th>\n",
       "      <th>Industry Health</th>\n",
       "      <th>Firm Category</th>\n",
       "    </tr>\n",
       "  </thead>\n",
       "  <tbody>\n",
       "    <tr>\n",
       "      <th>0</th>\n",
       "      <td>-2.761650</td>\n",
       "      <td>-2.414516</td>\n",
       "      <td>0</td>\n",
       "    </tr>\n",
       "    <tr>\n",
       "      <th>1</th>\n",
       "      <td>2.867162</td>\n",
       "      <td>1.989524</td>\n",
       "      <td>1</td>\n",
       "    </tr>\n",
       "    <tr>\n",
       "      <th>2</th>\n",
       "      <td>-0.701230</td>\n",
       "      <td>-1.074845</td>\n",
       "      <td>0</td>\n",
       "    </tr>\n",
       "  </tbody>\n",
       "</table>\n",
       "</div>"
      ],
      "text/plain": [
       "   Financial Performance  Industry Health  Firm Category\n",
       "0              -2.761650        -2.414516              0\n",
       "1               2.867162         1.989524              1\n",
       "2              -0.701230        -1.074845              0"
      ]
     },
     "execution_count": 2,
     "metadata": {},
     "output_type": "execute_result"
    }
   ],
   "source": [
    "df = pd.read_csv(\"./start-up_success.csv\")\n",
    "df.head(3)"
   ]
  },
  {
   "cell_type": "code",
   "execution_count": 3,
   "metadata": {},
   "outputs": [
    {
     "data": {
      "text/plain": [
       "0    978\n",
       "1    346\n",
       "Name: Firm Category, dtype: int64"
      ]
     },
     "execution_count": 3,
     "metadata": {},
     "output_type": "execute_result"
    }
   ],
   "source": [
    "# Count how many firms are in each category\n",
    "df['Firm Category'].value_counts()"
   ]
  },
  {
   "cell_type": "markdown",
   "metadata": {},
   "source": [
    "# Split the Data into Training and Testing Sets\n",
    "\n",
    "We need to split our data into training data and testing data. The reason is to train our classifiers, the algorithms that learn the models, with the training data, and then evaluate the models with the testing data. Doing this helps us make unbiased evaluations of the model, because we’ll find out how the model performs when classifying data that it’s never encountered before (the test data).\n",
    "\n",
    "We can use the train_test_split function from the scikit-learn library to automatically split our data into training and testing data.\n",
    "\n",
    "This function takes two parameters: the X data and the y data. The X data consists of the variables that the model will use to make predictions. These variables are sometimes called the features. The y data is the variable that we want to predict and is sometimes called the target variable. We’ll use each firm’s “Financial Performance” and “Industry Health” scores to predict whether the firm will become healthy (“Firm Category” value = 1) or unhealthy (“Firm Category” value = 0), as the following code shows:"
   ]
  },
  {
   "cell_type": "code",
   "execution_count": 4,
   "metadata": {},
   "outputs": [],
   "source": [
    "# Import module\n",
    "from sklearn.model_selection import train_test_split\n",
    "# Split training and testing sets\n",
    "# Create X, or features DataFrame\n",
    "features = df[['Financial Performance', 'Industry Health']]\n",
    "# Create y, or target DataFrame\n",
    "target = df['Firm Category']\n",
    "\n",
    "# Use train_test_split to separate the data\n",
    "training_features, testing_features, training_targets, testing_targets = train_test_split(features, target)"
   ]
  },
  {
   "cell_type": "code",
   "execution_count": 5,
   "metadata": {},
   "outputs": [
    {
     "data": {
      "text/html": [
       "<div>\n",
       "<style scoped>\n",
       "    .dataframe tbody tr th:only-of-type {\n",
       "        vertical-align: middle;\n",
       "    }\n",
       "\n",
       "    .dataframe tbody tr th {\n",
       "        vertical-align: top;\n",
       "    }\n",
       "\n",
       "    .dataframe thead th {\n",
       "        text-align: right;\n",
       "    }\n",
       "</style>\n",
       "<table border=\"1\" class=\"dataframe\">\n",
       "  <thead>\n",
       "    <tr style=\"text-align: right;\">\n",
       "      <th></th>\n",
       "      <th>Financial Performance</th>\n",
       "      <th>Industry Health</th>\n",
       "    </tr>\n",
       "  </thead>\n",
       "  <tbody>\n",
       "    <tr>\n",
       "      <th>1044</th>\n",
       "      <td>-2.889454</td>\n",
       "      <td>-2.949241</td>\n",
       "    </tr>\n",
       "    <tr>\n",
       "      <th>1279</th>\n",
       "      <td>-2.493397</td>\n",
       "      <td>-2.010643</td>\n",
       "    </tr>\n",
       "    <tr>\n",
       "      <th>134</th>\n",
       "      <td>-2.392900</td>\n",
       "      <td>-1.892502</td>\n",
       "    </tr>\n",
       "    <tr>\n",
       "      <th>496</th>\n",
       "      <td>-0.770771</td>\n",
       "      <td>-2.000300</td>\n",
       "    </tr>\n",
       "    <tr>\n",
       "      <th>1203</th>\n",
       "      <td>-0.697879</td>\n",
       "      <td>-1.729591</td>\n",
       "    </tr>\n",
       "    <tr>\n",
       "      <th>...</th>\n",
       "      <td>...</td>\n",
       "      <td>...</td>\n",
       "    </tr>\n",
       "    <tr>\n",
       "      <th>470</th>\n",
       "      <td>-1.481085</td>\n",
       "      <td>-1.914125</td>\n",
       "    </tr>\n",
       "    <tr>\n",
       "      <th>466</th>\n",
       "      <td>-1.407555</td>\n",
       "      <td>-2.762960</td>\n",
       "    </tr>\n",
       "    <tr>\n",
       "      <th>23</th>\n",
       "      <td>-2.625529</td>\n",
       "      <td>-2.350007</td>\n",
       "    </tr>\n",
       "    <tr>\n",
       "      <th>508</th>\n",
       "      <td>-1.576896</td>\n",
       "      <td>-3.789669</td>\n",
       "    </tr>\n",
       "    <tr>\n",
       "      <th>1107</th>\n",
       "      <td>-0.873968</td>\n",
       "      <td>-1.896719</td>\n",
       "    </tr>\n",
       "  </tbody>\n",
       "</table>\n",
       "<p>993 rows × 2 columns</p>\n",
       "</div>"
      ],
      "text/plain": [
       "      Financial Performance  Industry Health\n",
       "1044              -2.889454        -2.949241\n",
       "1279              -2.493397        -2.010643\n",
       "134               -2.392900        -1.892502\n",
       "496               -0.770771        -2.000300\n",
       "1203              -0.697879        -1.729591\n",
       "...                     ...              ...\n",
       "470               -1.481085        -1.914125\n",
       "466               -1.407555        -2.762960\n",
       "23                -2.625529        -2.350007\n",
       "508               -1.576896        -3.789669\n",
       "1107              -0.873968        -1.896719\n",
       "\n",
       "[993 rows x 2 columns]"
      ]
     },
     "execution_count": 5,
     "metadata": {},
     "output_type": "execute_result"
    }
   ],
   "source": [
    "training_features"
   ]
  },
  {
   "cell_type": "markdown",
   "metadata": {},
   "source": [
    "# Create a Model"
   ]
  },
  {
   "cell_type": "code",
   "execution_count": 6,
   "metadata": {},
   "outputs": [],
   "source": [
    "# Import LogisticRegression from sklearn\n",
    "from sklearn.linear_model import LogisticRegression\n",
    "logistic_regression_model = LogisticRegression()"
   ]
  },
  {
   "cell_type": "code",
   "execution_count": null,
   "metadata": {},
   "outputs": [],
   "source": [
    "Fit: Train the Model"
   ]
  }
 ],
 "metadata": {
  "kernelspec": {
   "display_name": "Python 3",
   "language": "python",
   "name": "python3"
  },
  "language_info": {
   "codemirror_mode": {
    "name": "ipython",
    "version": 3
   },
   "file_extension": ".py",
   "mimetype": "text/x-python",
   "name": "python",
   "nbconvert_exporter": "python",
   "pygments_lexer": "ipython3",
   "version": "3.8.3"
  }
 },
 "nbformat": 4,
 "nbformat_minor": 4
}
