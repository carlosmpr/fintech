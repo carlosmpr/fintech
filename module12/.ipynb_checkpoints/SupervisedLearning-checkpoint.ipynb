{
 "cells": [
  {
   "cell_type": "markdown",
   "metadata": {},
   "source": [
    "# Supervised Learning \n",
    "Supervised learning trains an algorithm to learn based on a labeled dataset, where each item in the dataset is tagged with the answer. This provides an answer key that you can use to evaluate the accuracy of the training data. Supervised learning can consider multiple factors and known past outcomes to make predictions about future outcomes, such as financial risk.\n",
    "\n",
    "supervised learning, unsupervised learning, and reinforcement learning. As previously explained, we can use unsupervised learning for knowledge discovery and clustering. By contrast, supervised learning can learn from the data and the expected outcomes that you choose to feed into it. If you supply the data and the expected outcome together, the model can learn how to make predictions for new pieces of data that have similar features. You supervise the model's learning by feeding it carefully selected data with known outcomes that the model can use to make the most accurate predictions that are possible.\n",
    "\n",
    " divide supervised learning into two types of algorithms: regression and classification.\n",
    "\n",
    "# Regression\n",
    "We use regression algorithms to model and predict continuous variables. For example, say that we want to predict a person's weight. Weight is a continuous variable, because it can be any number. We can use regression to predict a person's weight based on factors like height, age, and exercise duration. In finance, we can use regression to predict prices, dividends, rates, or any other continuous variables.\n",
    "\n",
    "\n",
    "# Classification\n",
    "Conversely, we use classification algorithms to predict discrete outcomes. For example, say that we want to use a person's traits, such as age, income, and geographic location, to predict how the person will vote on a particular issue. The outcome is finite, with two possibilities in this case—whether the person will vote Yes or No. The classification model will try to learn patterns from the data and, if successful, gain the ability to make accurate predictions for new voters. In finance, we can use classification to predict any discrete outcome, such as buy vs. sell, high risk vs. low risk, and fraud vs. not fraud.\n",
    "\n",
    "Regardless of whether we use a regression or a classification model, we create most supervised learning models by following a basic pattern: model-fit-predict. In this three-stage pattern, we present a machine learning algorithm with data (the model stage), and the algorithm learns from this data (the fit stage) to form a predictive model (the predict stage). A predictive model is simply the resulting model, where the algorithm has mathematically adjusted itself so that it can translate a new set of inputs to the correct output.\n",
    "\n",
    "\n",
    "# Model\n",
    "A machine learning model mathematically represents something in the real world. A model starts as untrained. That is, we haven’t yet adjusted it to make sense of the data. You can think of an untrained model as a mathematical ball of clay that’s ready to be shaped to the data.\n",
    "\n",
    "# Fit\n",
    "The fit stage (also known as the training stage) is when we fit the model to the data. In the mathematical ball-of-clay analogy, we adjust the model so that it matches patterns in the data. Recall that in our time series forecasting, the Prophet tool built a model that matched the time series components of the data. We could then use that model to forecast the values that future data might have. The fit stage of supervised learning works the same way. This is when the model starts to learn how to adjust (or train) itself to make predictions matching the data that we give it.\n",
    "\n",
    "# Predict\n",
    "Once the model has been fit to the data (that is, trained), we can use the trained model to predict new data. If we give the model new data that’s similar enough to the data that it’s gotten before, it can guess (or predict) the outcome for that data."
   ]
  },
  {
   "cell_type": "markdown",
   "metadata": {},
   "source": [
    "# Logistic Regression"
   ]
  },
  {
   "cell_type": "code",
   "execution_count": 1,
   "metadata": {},
   "outputs": [],
   "source": [
    "import pandas as pd"
   ]
  },
  {
   "cell_type": "code",
   "execution_count": 2,
   "metadata": {},
   "outputs": [
    {
     "data": {
      "text/html": [
       "<div>\n",
       "<style scoped>\n",
       "    .dataframe tbody tr th:only-of-type {\n",
       "        vertical-align: middle;\n",
       "    }\n",
       "\n",
       "    .dataframe tbody tr th {\n",
       "        vertical-align: top;\n",
       "    }\n",
       "\n",
       "    .dataframe thead th {\n",
       "        text-align: right;\n",
       "    }\n",
       "</style>\n",
       "<table border=\"1\" class=\"dataframe\">\n",
       "  <thead>\n",
       "    <tr style=\"text-align: right;\">\n",
       "      <th></th>\n",
       "      <th>Financial Performance</th>\n",
       "      <th>Industry Health</th>\n",
       "      <th>Firm Category</th>\n",
       "    </tr>\n",
       "  </thead>\n",
       "  <tbody>\n",
       "    <tr>\n",
       "      <th>0</th>\n",
       "      <td>-2.761650</td>\n",
       "      <td>-2.414516</td>\n",
       "      <td>0</td>\n",
       "    </tr>\n",
       "    <tr>\n",
       "      <th>1</th>\n",
       "      <td>2.867162</td>\n",
       "      <td>1.989524</td>\n",
       "      <td>1</td>\n",
       "    </tr>\n",
       "    <tr>\n",
       "      <th>2</th>\n",
       "      <td>-0.701230</td>\n",
       "      <td>-1.074845</td>\n",
       "      <td>0</td>\n",
       "    </tr>\n",
       "  </tbody>\n",
       "</table>\n",
       "</div>"
      ],
      "text/plain": [
       "   Financial Performance  Industry Health  Firm Category\n",
       "0              -2.761650        -2.414516              0\n",
       "1               2.867162         1.989524              1\n",
       "2              -0.701230        -1.074845              0"
      ]
     },
     "execution_count": 2,
     "metadata": {},
     "output_type": "execute_result"
    }
   ],
   "source": [
    "df = pd.read_csv(\"./start-up_success.csv\")\n",
    "df.head(3)"
   ]
  },
  {
   "cell_type": "code",
   "execution_count": 3,
   "metadata": {},
   "outputs": [
    {
     "data": {
      "text/plain": [
       "0    978\n",
       "1    346\n",
       "Name: Firm Category, dtype: int64"
      ]
     },
     "execution_count": 3,
     "metadata": {},
     "output_type": "execute_result"
    }
   ],
   "source": [
    "# Count how many firms are in each category\n",
    "df['Firm Category'].value_counts()"
   ]
  },
  {
   "cell_type": "markdown",
   "metadata": {},
   "source": [
    "# Split the Data into Training and Testing Sets\n",
    "\n",
    "We need to split our data into training data and testing data. The reason is to train our classifiers, the algorithms that learn the models, with the training data, and then evaluate the models with the testing data. Doing this helps us make unbiased evaluations of the model, because we’ll find out how the model performs when classifying data that it’s never encountered before (the test data).\n",
    "\n",
    "We can use the train_test_split function from the scikit-learn library to automatically split our data into training and testing data.\n",
    "\n",
    "This function takes two parameters: the X data and the y data. The X data consists of the variables that the model will use to make predictions. These variables are sometimes called the features. The y data is the variable that we want to predict and is sometimes called the target variable. We’ll use each firm’s “Financial Performance” and “Industry Health” scores to predict whether the firm will become healthy (“Firm Category” value = 1) or unhealthy (“Firm Category” value = 0), as the following code shows:"
   ]
  },
  {
   "cell_type": "code",
   "execution_count": 4,
   "metadata": {},
   "outputs": [],
   "source": [
    "# Import module\n",
    "from sklearn.model_selection import train_test_split\n",
    "# Split training and testing sets\n",
    "# Create X, or features DataFrame\n",
    "features = df[['Financial Performance', 'Industry Health']]\n",
    "# Create y, or target DataFrame\n",
    "target = df['Firm Category']\n",
    "\n",
    "# Use train_test_split to separate the data\n",
    "training_features, testing_features, training_targets, testing_targets = train_test_split(features, target)"
   ]
  },
  {
   "cell_type": "code",
   "execution_count": 5,
   "metadata": {},
   "outputs": [
    {
     "data": {
      "text/html": [
       "<div>\n",
       "<style scoped>\n",
       "    .dataframe tbody tr th:only-of-type {\n",
       "        vertical-align: middle;\n",
       "    }\n",
       "\n",
       "    .dataframe tbody tr th {\n",
       "        vertical-align: top;\n",
       "    }\n",
       "\n",
       "    .dataframe thead th {\n",
       "        text-align: right;\n",
       "    }\n",
       "</style>\n",
       "<table border=\"1\" class=\"dataframe\">\n",
       "  <thead>\n",
       "    <tr style=\"text-align: right;\">\n",
       "      <th></th>\n",
       "      <th>Financial Performance</th>\n",
       "      <th>Industry Health</th>\n",
       "    </tr>\n",
       "  </thead>\n",
       "  <tbody>\n",
       "    <tr>\n",
       "      <th>1044</th>\n",
       "      <td>-2.889454</td>\n",
       "      <td>-2.949241</td>\n",
       "    </tr>\n",
       "    <tr>\n",
       "      <th>1279</th>\n",
       "      <td>-2.493397</td>\n",
       "      <td>-2.010643</td>\n",
       "    </tr>\n",
       "    <tr>\n",
       "      <th>134</th>\n",
       "      <td>-2.392900</td>\n",
       "      <td>-1.892502</td>\n",
       "    </tr>\n",
       "    <tr>\n",
       "      <th>496</th>\n",
       "      <td>-0.770771</td>\n",
       "      <td>-2.000300</td>\n",
       "    </tr>\n",
       "    <tr>\n",
       "      <th>1203</th>\n",
       "      <td>-0.697879</td>\n",
       "      <td>-1.729591</td>\n",
       "    </tr>\n",
       "    <tr>\n",
       "      <th>...</th>\n",
       "      <td>...</td>\n",
       "      <td>...</td>\n",
       "    </tr>\n",
       "    <tr>\n",
       "      <th>470</th>\n",
       "      <td>-1.481085</td>\n",
       "      <td>-1.914125</td>\n",
       "    </tr>\n",
       "    <tr>\n",
       "      <th>466</th>\n",
       "      <td>-1.407555</td>\n",
       "      <td>-2.762960</td>\n",
       "    </tr>\n",
       "    <tr>\n",
       "      <th>23</th>\n",
       "      <td>-2.625529</td>\n",
       "      <td>-2.350007</td>\n",
       "    </tr>\n",
       "    <tr>\n",
       "      <th>508</th>\n",
       "      <td>-1.576896</td>\n",
       "      <td>-3.789669</td>\n",
       "    </tr>\n",
       "    <tr>\n",
       "      <th>1107</th>\n",
       "      <td>-0.873968</td>\n",
       "      <td>-1.896719</td>\n",
       "    </tr>\n",
       "  </tbody>\n",
       "</table>\n",
       "<p>993 rows × 2 columns</p>\n",
       "</div>"
      ],
      "text/plain": [
       "      Financial Performance  Industry Health\n",
       "1044              -2.889454        -2.949241\n",
       "1279              -2.493397        -2.010643\n",
       "134               -2.392900        -1.892502\n",
       "496               -0.770771        -2.000300\n",
       "1203              -0.697879        -1.729591\n",
       "...                     ...              ...\n",
       "470               -1.481085        -1.914125\n",
       "466               -1.407555        -2.762960\n",
       "23                -2.625529        -2.350007\n",
       "508               -1.576896        -3.789669\n",
       "1107              -0.873968        -1.896719\n",
       "\n",
       "[993 rows x 2 columns]"
      ]
     },
     "execution_count": 5,
     "metadata": {},
     "output_type": "execute_result"
    }
   ],
   "source": [
    "training_features"
   ]
  },
  {
   "cell_type": "markdown",
   "metadata": {},
   "source": [
    "# Create a Model"
   ]
  },
  {
   "cell_type": "code",
   "execution_count": 6,
   "metadata": {},
   "outputs": [],
   "source": [
    "# Import LogisticRegression from sklearn\n",
    "from sklearn.linear_model import LogisticRegression\n",
    "logistic_regression_model = LogisticRegression()"
   ]
  },
  {
   "cell_type": "markdown",
   "metadata": {},
   "source": [
    "# Fit: Train the Model"
   ]
  },
  {
   "cell_type": "code",
   "execution_count": 7,
   "metadata": {},
   "outputs": [
    {
     "data": {
      "text/plain": [
       "LogisticRegression()"
      ]
     },
     "execution_count": 7,
     "metadata": {},
     "output_type": "execute_result"
    }
   ],
   "source": [
    "# Fit the model\n",
    "logistic_regression_model.fit(training_features, training_targets)"
   ]
  },
  {
   "cell_type": "markdown",
   "metadata": {},
   "source": [
    "# Predict: Classify Features with the Model"
   ]
  },
  {
   "cell_type": "code",
   "execution_count": 8,
   "metadata": {},
   "outputs": [
    {
     "data": {
      "text/html": [
       "<div>\n",
       "<style scoped>\n",
       "    .dataframe tbody tr th:only-of-type {\n",
       "        vertical-align: middle;\n",
       "    }\n",
       "\n",
       "    .dataframe tbody tr th {\n",
       "        vertical-align: top;\n",
       "    }\n",
       "\n",
       "    .dataframe thead th {\n",
       "        text-align: right;\n",
       "    }\n",
       "</style>\n",
       "<table border=\"1\" class=\"dataframe\">\n",
       "  <thead>\n",
       "    <tr style=\"text-align: right;\">\n",
       "      <th></th>\n",
       "      <th>Prediction</th>\n",
       "      <th>Actual</th>\n",
       "    </tr>\n",
       "  </thead>\n",
       "  <tbody>\n",
       "    <tr>\n",
       "      <th>1044</th>\n",
       "      <td>0</td>\n",
       "      <td>0</td>\n",
       "    </tr>\n",
       "    <tr>\n",
       "      <th>1279</th>\n",
       "      <td>0</td>\n",
       "      <td>0</td>\n",
       "    </tr>\n",
       "    <tr>\n",
       "      <th>134</th>\n",
       "      <td>0</td>\n",
       "      <td>0</td>\n",
       "    </tr>\n",
       "    <tr>\n",
       "      <th>496</th>\n",
       "      <td>0</td>\n",
       "      <td>0</td>\n",
       "    </tr>\n",
       "    <tr>\n",
       "      <th>1203</th>\n",
       "      <td>0</td>\n",
       "      <td>0</td>\n",
       "    </tr>\n",
       "    <tr>\n",
       "      <th>...</th>\n",
       "      <td>...</td>\n",
       "      <td>...</td>\n",
       "    </tr>\n",
       "    <tr>\n",
       "      <th>470</th>\n",
       "      <td>0</td>\n",
       "      <td>0</td>\n",
       "    </tr>\n",
       "    <tr>\n",
       "      <th>466</th>\n",
       "      <td>0</td>\n",
       "      <td>0</td>\n",
       "    </tr>\n",
       "    <tr>\n",
       "      <th>23</th>\n",
       "      <td>0</td>\n",
       "      <td>0</td>\n",
       "    </tr>\n",
       "    <tr>\n",
       "      <th>508</th>\n",
       "      <td>0</td>\n",
       "      <td>0</td>\n",
       "    </tr>\n",
       "    <tr>\n",
       "      <th>1107</th>\n",
       "      <td>0</td>\n",
       "      <td>0</td>\n",
       "    </tr>\n",
       "  </tbody>\n",
       "</table>\n",
       "<p>993 rows × 2 columns</p>\n",
       "</div>"
      ],
      "text/plain": [
       "      Prediction  Actual\n",
       "1044           0       0\n",
       "1279           0       0\n",
       "134            0       0\n",
       "496            0       0\n",
       "1203           0       0\n",
       "...          ...     ...\n",
       "470            0       0\n",
       "466            0       0\n",
       "23             0       0\n",
       "508            0       0\n",
       "1107           0       0\n",
       "\n",
       "[993 rows x 2 columns]"
      ]
     },
     "execution_count": 8,
     "metadata": {},
     "output_type": "execute_result"
    }
   ],
   "source": [
    "# Generate predictions from the model we just fit\n",
    "predictions = logistic_regression_model.predict(training_features)\n",
    "\n",
    "# Convert those predictions (and actual values) to a DataFrame\n",
    "results_df = pd.DataFrame({\"Prediction\": predictions, \"Actual\": training_targets})\n",
    "results_df"
   ]
  },
  {
   "cell_type": "markdown",
   "metadata": {},
   "source": [
    "# Predict: Test the Model on New Data\n",
    "\n",
    "Similarly to the way that we made predictions by using the training data, we can make new predictions by using the testing data. This will give us a better sense of how well this model will perform when we apply it to new data (that is, in real life). We’ve already trained the model. So, it should be able to take the features of new data and predict which category each startup belongs to. To make predictions on the testing data, we use logistic_regression_model, which we’ve already fit. But this time, we run predict by using the testing_features DataFrame rather than the training_features DataFrame. Like before, we save those predictions and actual values to a DataFrame, as the"
   ]
  },
  {
   "cell_type": "markdown",
   "metadata": {},
   "source": [
    "# Apply the fitted model to the test dataset\n",
    "testing_predictions = logistic_regression_model.predict(testing_features)\n",
    "\n",
    "# Save both the test predictions and actual test values to a DataFrame\n",
    "results_df = pd.DataFrame({\n",
    "    \"Testing Data Predictions\": testing_predictions,\n",
    "    \"Testing Data Actual Targets\": testing_targets})\n",
    "results_df"
   ]
  },
  {
   "cell_type": "code",
   "execution_count": 10,
   "metadata": {},
   "outputs": [
    {
     "data": {
      "text/plain": [
       "1.0"
      ]
     },
     "execution_count": 10,
     "metadata": {},
     "output_type": "execute_result"
    }
   ],
   "source": [
    "# Evaluate the classifiers\n",
    "# Import the accuracy_score function\n",
    "from sklearn.metrics import accuracy_score\n",
    "\n",
    "# Calculate the model's accuracy on the test dataset\n",
    "accuracy_score(testing_targets, testing_predictions)\n"
   ]
  },
  {
   "cell_type": "markdown",
   "metadata": {},
   "source": [
    "Overfitting means that the model is so good at predicting the correct target for the training data that it won’t perform well on new data that it wasn't trained on. And while the model still performed well on the testing data, we might not get so lucky with other datasets. Later in this module, we’ll discuss overfitting in more detail.\n",
    "\n",
    "# Logistic Regression\n",
    "\n",
    "1. Create a model with LogisticRegression().\n",
    "2. Train the model with model.fit().\n",
    "3. Make predictions with model.predict().\n",
    "4. Evaluate the model with accuracy_score(). "
   ]
  },
  {
   "cell_type": "markdown",
   "metadata": {},
   "source": [
    "# Assessing Model Performance\n",
    "\n",
    "t's often not enough to train and then use a machine learning model for making predictions. We also need to know how well the model performs at its prediction task. In the previous lesson, we learned one way of assessing performance—by using the accuracy score. But, we also want to know the percentage of predictions that the model gets right and how well it predicts each outcome.\n",
    "\n",
    "\n",
    "# Accuracy\n",
    "\n",
    "The accuracy measures how often the model was correct. It does so by calculating the ratio of the number of correct predictions to the total number of outcomes.\n",
    "\n",
    "The formula for the accuracy is as follows:\n",
    "\n",
    "accuracy = (TPs + TNs) ÷ (TPs + TNs + FPs + FNs)\n",
    "\n",
    "# Precision\n",
    "This gets us to the precision. The precision, also known as the positive predictive value (PPV), measures how confident we are that the model correctly made the positive predictions.\n",
    "\n",
    "We get the precision by dividing the number of TPs by the number of all the positives. (The latter is the sum of the TPs and the FPs.)\n",
    "\n",
    "Thus, the formula for the precision is as follows:\n",
    "\n",
    "precision = TPs ÷ (TPs + FPs)\n",
    "To summarize, in machine learning, the precision measures the reliability of positive classification\n",
    "\n",
    "# Recall\n",
    "\n",
    "Another way that we can assess a model's performance is by using the recall, which is also called the sensitivity. (People in machine learning more commonly use the term recall.) In our example, the recall measures the number of actually fraudulent transactions that the model correctly classified as fraudulent.\n",
    "\n",
    "To understand the recall, ask yourself the following question: I know that this transaction is fraudulent. But, how likely is it that the model will predict it as fraudulent?\n",
    "\n",
    "The formula for the recall is as follows:\n",
    "\n",
    "recall = TPs / (TPs + FNs)\n",
    "\n",
    "# F1 Score\n",
    "We can characterize the F1 score, which is also called the harmonic mean, as a single summary statistic for the precision and the recall. The formula for the F1 score is as follows:\n",
    "\n",
    "F1 = 2 × (precision × recall) ÷ (precision + recall)\n",
    "\n",
    "The F1 score for our fraudulent transaction classifier is thus as follows:\n",
    "\n",
    "2 × (0.6 × 0.75) ÷ (0.6 + 0.75) = 0.66"
   ]
  },
  {
   "cell_type": "code",
   "execution_count": 11,
   "metadata": {},
   "outputs": [],
   "source": [
    "#Import modules\n",
    "import matplotlib.pyplot as plt\n",
    "import pandas as pd\n",
    "from sklearn.model_selection import train_test_split\n",
    "from sklearn.linear_model import LogisticRegression"
   ]
  },
  {
   "cell_type": "code",
   "execution_count": 14,
   "metadata": {},
   "outputs": [
    {
     "data": {
      "text/html": [
       "<div>\n",
       "<style scoped>\n",
       "    .dataframe tbody tr th:only-of-type {\n",
       "        vertical-align: middle;\n",
       "    }\n",
       "\n",
       "    .dataframe tbody tr th {\n",
       "        vertical-align: top;\n",
       "    }\n",
       "\n",
       "    .dataframe thead th {\n",
       "        text-align: right;\n",
       "    }\n",
       "</style>\n",
       "<table border=\"1\" class=\"dataframe\">\n",
       "  <thead>\n",
       "    <tr style=\"text-align: right;\">\n",
       "      <th></th>\n",
       "      <th>GEO_Score</th>\n",
       "      <th>PROD_Score</th>\n",
       "      <th>y</th>\n",
       "    </tr>\n",
       "  </thead>\n",
       "  <tbody>\n",
       "    <tr>\n",
       "      <th>0</th>\n",
       "      <td>19.997056</td>\n",
       "      <td>0.102230</td>\n",
       "      <td>0</td>\n",
       "    </tr>\n",
       "    <tr>\n",
       "      <th>1</th>\n",
       "      <td>7.076726</td>\n",
       "      <td>-3.820771</td>\n",
       "      <td>0</td>\n",
       "    </tr>\n",
       "    <tr>\n",
       "      <th>2</th>\n",
       "      <td>-17.707267</td>\n",
       "      <td>-3.430517</td>\n",
       "      <td>1</td>\n",
       "    </tr>\n",
       "    <tr>\n",
       "      <th>3</th>\n",
       "      <td>13.190588</td>\n",
       "      <td>-7.243853</td>\n",
       "      <td>0</td>\n",
       "    </tr>\n",
       "    <tr>\n",
       "      <th>4</th>\n",
       "      <td>3.936697</td>\n",
       "      <td>-4.589524</td>\n",
       "      <td>0</td>\n",
       "    </tr>\n",
       "  </tbody>\n",
       "</table>\n",
       "</div>"
      ],
      "text/plain": [
       "   GEO_Score  PROD_Score  y\n",
       "0  19.997056    0.102230  0\n",
       "1   7.076726   -3.820771  0\n",
       "2 -17.707267   -3.430517  1\n",
       "3  13.190588   -7.243853  0\n",
       "4   3.936697   -4.589524  0"
      ]
     },
     "execution_count": 14,
     "metadata": {},
     "output_type": "execute_result"
    }
   ],
   "source": [
    "df = pd.read_csv(\n",
    "    (\"./fraud_transactions.csv\")\n",
    ")\n",
    "df.head()"
   ]
  },
  {
   "cell_type": "code",
   "execution_count": 15,
   "metadata": {},
   "outputs": [
    {
     "data": {
      "text/plain": [
       "<matplotlib.collections.PathCollection at 0x22bace25160>"
      ]
     },
     "execution_count": 15,
     "metadata": {},
     "output_type": "execute_result"
    },
    {
     "data": {
      "image/png": "[encoded data removed]",
      "text/plain": [
       "<Figure size 432x288 with 1 Axes>"
      ]
     },
     "metadata": {
      "needs_background": "light"
     },
     "output_type": "display_data"
    }
   ],
   "source": [
    "plt.scatter(\n",
    "    # One feature on the x-axis\n",
    "    x=df['GEO_Score'],\n",
    "    # Another feature on the y-axis\n",
    "    y=df['PROD_Score'],\n",
    "    # And, the y variable displayed as the color\n",
    "    c=df['y']\n",
    ")\n"
   ]
  },
  {
   "cell_type": "code",
   "execution_count": 16,
   "metadata": {},
   "outputs": [],
   "source": [
    "# Separate the data into y and X\n",
    "y = df[\"y\"]\n",
    "# The \"X\" column should be all the features\n",
    "X = df.drop(columns=\"y\")"
   ]
  },
  {
   "cell_type": "code",
   "execution_count": 17,
   "metadata": {},
   "outputs": [
    {
     "data": {
      "text/plain": [
       "LogisticRegression()"
      ]
     },
     "execution_count": 17,
     "metadata": {},
     "output_type": "execute_result"
    }
   ],
   "source": [
    "# Split into testing and training sets\n",
    "X_train, X_test, y_train, y_test = train_test_split(X, y)\n",
    "\n",
    "# Train the logistic regression classifier\n",
    "logistic_regression_model = LogisticRegression()\n",
    "\n",
    "# Then fit it\n",
    "logistic_regression_model.fit(X_train, y_train)"
   ]
  },
  {
   "cell_type": "code",
   "execution_count": 18,
   "metadata": {},
   "outputs": [],
   "source": [
    "#Generate training predictions\n",
    "training_predictions = logistic_regression_model.predict(X_train)\n",
    "\n",
    "#Generate testing predictions\n",
    "testing_predictions = logistic_regression_model.predict(X_test)"
   ]
  },
  {
   "cell_type": "code",
   "execution_count": 19,
   "metadata": {},
   "outputs": [
    {
     "name": "stdout",
     "output_type": "stream",
     "text": [
      "[[745   4]\n",
      " [  9  29]]\n"
     ]
    }
   ],
   "source": [
    "#Import the module\n",
    "from sklearn.metrics import confusion_matrix\n",
    "\n",
    "#Print the confusion matrix\n",
    "training_matrix = confusion_matrix(y_train, training_predictions)\n",
    "print(training_matrix)"
   ]
  },
  {
   "cell_type": "markdown",
   "metadata": {},
   "source": [
    "# Introduction to Resolving Imbalanced Classes\n",
    "\n",
    "Imbalanced classes present us with a common classification problem. This occurs when the size of one class greatly exceeds that of the other class. As we found in the previous lesson, if someone works for a credit card company and wants to detect fraudulent transactions, they’ll have many more transactions that aren’t fraudulent than transactions that are. In this case, the size of the “not fraudulent” class greatly exceeds that of the “fraudulent” class.\n",
    "\n",
    "One approach to solving the imbalanced class problem involves resampling. Resampling is a way to artificially balance the classes that the model gets during training. This helps the model avoid hyperfocusing on the larger class and can improve the predictions for the smaller class.\n",
    "\n",
    "Oversampling: Creating more instances of a class label, usually for the smaller class.\n",
    "\n",
    "Undersampling: Creating fewer instances of a class label, usually for the larger class.\n",
    "\n",
    "Oversampling techniques:\n",
    "\n",
    "Random oversampling\n",
    "\n",
    "Synthetic minority oversampling technique (SMOTE)\n",
    "\n",
    "Undersampling techniques:\n",
    "\n",
    "Random undersampling\n",
    "\n",
    "Cluster centroid\n",
    "\n",
    "Combination sampling technique:\n",
    "\n",
    "SMOTE and edited nearest neighbors (ENN), or SMOTEENN"
   ]
  },
  {
   "cell_type": "markdown",
   "metadata": {},
   "source": [
    "# Oversampling\n",
    "oversampling. The idea is this: If one class doesn’t have enough instances in the training set, we’ll choose more instances from that class to do the training. In fact, we'll resample enough of the original instances to make the size of the smaller class equal to the size of the larger class in the training set\n",
    "\n",
    "# Random Oversampling\n",
    "\n",
    "In random oversampling, we randomly select instances of the minority class and add them to the training set until we’ve balanced the majority and minority classes."
   ]
  },
  {
   "cell_type": "code",
   "execution_count": null,
   "metadata": {},
   "outputs": [],
   "source": [
    "import pandas as pd\n",
    "df = pd.read_csv(\n",
    "    (\"./app_stats.csv\")\n",
    ")"
   ]
  },
  {
   "cell_type": "code",
   "execution_count": null,
   "metadata": {},
   "outputs": [],
   "source": []
  }
 ],
 "metadata": {
  "kernelspec": {
   "display_name": "Python 3 (ipykernel)",
   "language": "python",
   "name": "python3"
  },
  "language_info": {
   "codemirror_mode": {
    "name": "ipython",
    "version": 3
   },
   "file_extension": ".py",
   "mimetype": "text/x-python",
   "name": "python",
   "nbconvert_exporter": "python",
   "pygments_lexer": "ipython3",
   "version": "3.8.3"
  }
 },
 "nbformat": 4,
 "nbformat_minor": 4
}
