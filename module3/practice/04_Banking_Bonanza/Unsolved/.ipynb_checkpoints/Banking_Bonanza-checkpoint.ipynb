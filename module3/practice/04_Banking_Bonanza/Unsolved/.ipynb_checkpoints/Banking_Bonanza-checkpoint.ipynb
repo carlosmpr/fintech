{
 "cells": [
  {
   "cell_type": "markdown",
   "metadata": {},
   "source": [
    "# Banking Bonanza\n",
    "\n",
    "In this activity, you’ll use Pandas functions to perform both a high-level and a targeted analysis of trends in bank funding rates—that is, the bank’s cost to borrow money.\n",
    "\n",
    "Instructions:\n",
    "\n",
    "1. Import the Pandas and `pathlib` libraries.\n",
    "\n",
    "2. Use `Path` with the `read_csv` function to read the CSV file into the DataFrame. Review the first five rows of the DataFrame to confirm the import.\n",
    "\n",
    "3. Use the `plot` function to visualize how each of the rates in the DataFrame has evolved over time.\n",
    "\n",
    "4. Use the `describe` function to generate the summary statistics for the DataFrame. Then use these statistics to determine the spread (or difference) between the average funding rate of the bank and the average prime rate that the bank charges its most credit-worthy customers. This spread quantifies one way that the bank profits from lending.\n",
    "\n",
    "5. Use the `loc` function to create a new DataFrame that includes all the rows of only the Funding Rate column. Review this Funding Rate DataFrame by creating both a line plot and a histogram.\n",
    "\n",
    "6. Use the `loc` function to create a new DataFrame that includes the data only from 2020. This new DataFrame should include all the columns of data. Review this 2020 DataFrame by creating a box plot to determine how the data was distributed during 2020.\n",
    "\n",
    "7. Use conditional statements to filter and analyze the 2020 DataFrame. The goal is to compare the bank’s profits from the times that the funding rates were greater than or equal to 1% to the times that they were less than 1%.\n",
    "  \n"
   ]
  },
  {
   "cell_type": "markdown",
   "metadata": {},
   "source": [
    "## Step 1: Import the Pandas and `pathlib` libraries."
   ]
  },
  {
   "cell_type": "code",
   "execution_count": 1,
   "metadata": {},
   "outputs": [],
   "source": [
    "# Import the Pandas library\n",
    "import pandas as pd\n",
    "from pathlib import Path\n",
    "\n",
    "csvpath = Path(\"../Resources/lending_rates.csv\")\n",
    "# Import the Path module from the pathlib library\n",
    "# YOUR CODE HERE\n"
   ]
  },
  {
   "cell_type": "markdown",
   "metadata": {},
   "source": [
    "## Step 2: Use `Path` with the `read_csv` function to read the CSV file into the DataFrame. Review the first five rows of the DataFrame to confirm the import."
   ]
  },
  {
   "cell_type": "code",
   "execution_count": 2,
   "metadata": {},
   "outputs": [
    {
     "data": {
      "text/html": [
       "<div>\n",
       "<style scoped>\n",
       "    .dataframe tbody tr th:only-of-type {\n",
       "        vertical-align: middle;\n",
       "    }\n",
       "\n",
       "    .dataframe tbody tr th {\n",
       "        vertical-align: top;\n",
       "    }\n",
       "\n",
       "    .dataframe thead th {\n",
       "        text-align: right;\n",
       "    }\n",
       "</style>\n",
       "<table border=\"1\" class=\"dataframe\">\n",
       "  <thead>\n",
       "    <tr style=\"text-align: right;\">\n",
       "      <th></th>\n",
       "      <th>Funding Rate</th>\n",
       "      <th>Prime Rate</th>\n",
       "      <th>Retail Rate</th>\n",
       "      <th>Sub-prime Rate</th>\n",
       "    </tr>\n",
       "    <tr>\n",
       "      <th>Date</th>\n",
       "      <th></th>\n",
       "      <th></th>\n",
       "      <th></th>\n",
       "      <th></th>\n",
       "    </tr>\n",
       "  </thead>\n",
       "  <tbody>\n",
       "    <tr>\n",
       "      <th>2019-01-01</th>\n",
       "      <td>1.49</td>\n",
       "      <td>2.70</td>\n",
       "      <td>4.69</td>\n",
       "      <td>7.77</td>\n",
       "    </tr>\n",
       "    <tr>\n",
       "      <th>2019-01-02</th>\n",
       "      <td>1.84</td>\n",
       "      <td>2.82</td>\n",
       "      <td>4.64</td>\n",
       "      <td>8.06</td>\n",
       "    </tr>\n",
       "    <tr>\n",
       "      <th>2019-01-03</th>\n",
       "      <td>1.69</td>\n",
       "      <td>2.92</td>\n",
       "      <td>4.61</td>\n",
       "      <td>8.08</td>\n",
       "    </tr>\n",
       "    <tr>\n",
       "      <th>2019-01-04</th>\n",
       "      <td>1.57</td>\n",
       "      <td>3.01</td>\n",
       "      <td>4.70</td>\n",
       "      <td>8.04</td>\n",
       "    </tr>\n",
       "    <tr>\n",
       "      <th>2019-01-05</th>\n",
       "      <td>1.30</td>\n",
       "      <td>2.94</td>\n",
       "      <td>5.05</td>\n",
       "      <td>7.95</td>\n",
       "    </tr>\n",
       "  </tbody>\n",
       "</table>\n",
       "</div>"
      ],
      "text/plain": [
       "            Funding Rate  Prime Rate  Retail Rate  Sub-prime Rate\n",
       "Date                                                             \n",
       "2019-01-01          1.49        2.70         4.69            7.77\n",
       "2019-01-02          1.84        2.82         4.64            8.06\n",
       "2019-01-03          1.69        2.92         4.61            8.08\n",
       "2019-01-04          1.57        3.01         4.70            8.04\n",
       "2019-01-05          1.30        2.94         5.05            7.95"
      ]
     },
     "execution_count": 2,
     "metadata": {},
     "output_type": "execute_result"
    }
   ],
   "source": [
    "# Read in the CSV file called \"lending_rates.csv\" using the Path module. \n",
    "# The CSV file is located in the Resources folder.\n",
    "# Set the index to the column \"Date\"\n",
    "# Set the parse_dates and infer_datetime_format parameters\n",
    "lending_rates_df = pd.read_csv(csvpath, parse_dates=True,  infer_datetime_format=True, index_col=\"Date\")\n",
    "lending_rates_df.head()\n",
    "# Review the first 5 rows of the DataFrame\n",
    "# YOUR CODE HERE\n"
   ]
  },
  {
   "cell_type": "markdown",
   "metadata": {},
   "source": [
    "## Step 3. se the `plot` function to visualize how each of the rates in the DataFrame has evolved over time."
   ]
  },
  {
   "cell_type": "code",
   "execution_count": 3,
   "metadata": {},
   "outputs": [
    {
     "data": {
      "text/plain": [
       "<matplotlib.axes._subplots.AxesSubplot at 0x265bc394640>"
      ]
     },
     "execution_count": 3,
     "metadata": {},
     "output_type": "execute_result"
    },
    {
     "data": {
      "image/png": "[encoded data removed]",
      "text/plain": [
       "<Figure size 432x288 with 1 Axes>"
      ]
     },
     "metadata": {
      "needs_background": "light"
     },
     "output_type": "display_data"
    }
   ],
   "source": [
    "# Use the default line plot to vizualize the rates in the DataFrame\n",
    "# YOUR CODE HERE\n",
    "\n",
    "lending_rates_df.plot(kind = 'scatter')\n"
   ]
  },
  {
   "cell_type": "markdown",
   "metadata": {},
   "source": [
    "## Step 4: Use the `describe` function to generate the summary statistics for the DataFrame. Then use these statistics to determine the spread (or difference) between the average funding rate of the bank and the average prime rate that the bank charges its most credit-worthy customers. This spread quantifies one way that the bank profits from lending."
   ]
  },
  {
   "cell_type": "code",
   "execution_count": 4,
   "metadata": {},
   "outputs": [],
   "source": [
    "# Use the describe function to generate summary statistics for the DataFrame\n",
    "# YOUR CODE HERE\n"
   ]
  },
  {
   "cell_type": "markdown",
   "metadata": {},
   "source": [
    "**Question:** Can you quantify the spread, or difference between the bank's average funding rate and the average prime rate that it charges its most credit-worthy customers?\n",
    "\n",
    "**Answer:** # YOUR ANSWER HERE"
   ]
  },
  {
   "cell_type": "markdown",
   "metadata": {},
   "source": [
    "## Step 5: Use the `loc` function to create a new DataFrame that includes all the rows of only the Funding Rate column. Review this Funding Rate DataFrame by creating both a line plot and a histogram."
   ]
  },
  {
   "cell_type": "code",
   "execution_count": 5,
   "metadata": {},
   "outputs": [
    {
     "ename": "NameError",
     "evalue": "name 'l' is not defined",
     "output_type": "error",
     "traceback": [
      "\u001b[1;31m---------------------------------------------------------------------------\u001b[0m",
      "\u001b[1;31mNameError\u001b[0m                                 Traceback (most recent call last)",
      "\u001b[1;32m<ipython-input-5-c379b9381ae9>\u001b[0m in \u001b[0;36m<module>\u001b[1;34m\u001b[0m\n\u001b[0;32m      1\u001b[0m \u001b[1;31m# Use the loc function to create a `funding_rate` Series\u001b[0m\u001b[1;33m\u001b[0m\u001b[1;33m\u001b[0m\u001b[1;33m\u001b[0m\u001b[0m\n\u001b[0;32m      2\u001b[0m \u001b[1;31m# The Series should contains all rows for the \"Funding Rate\" column only\u001b[0m\u001b[1;33m\u001b[0m\u001b[1;33m\u001b[0m\u001b[1;33m\u001b[0m\u001b[0m\n\u001b[1;32m----> 3\u001b[1;33m \u001b[0mfunding_rate\u001b[0m \u001b[1;33m=\u001b[0m \u001b[0ml\u001b[0m\u001b[1;31m# YOUR CODE HERE\u001b[0m\u001b[1;33m\u001b[0m\u001b[1;33m\u001b[0m\u001b[0m\n\u001b[0m\u001b[0;32m      4\u001b[0m \u001b[1;33m\u001b[0m\u001b[0m\n\u001b[0;32m      5\u001b[0m \u001b[1;31m# Review the top 5 rows of the `funding_rate` Series\u001b[0m\u001b[1;33m\u001b[0m\u001b[1;33m\u001b[0m\u001b[1;33m\u001b[0m\u001b[0m\n",
      "\u001b[1;31mNameError\u001b[0m: name 'l' is not defined"
     ]
    }
   ],
   "source": [
    "# Use the loc function to create a `funding_rate` Series\n",
    "# The Series should contains all rows for the \"Funding Rate\" column only\n",
    "funding_rate = l# YOUR CODE HERE\n",
    "\n",
    "# Review the top 5 rows of the `funding_rate` Series\n",
    "# YOUR CODE HERE\n"
   ]
  },
  {
   "cell_type": "code",
   "execution_count": null,
   "metadata": {},
   "outputs": [],
   "source": [
    "# Create a line plot to visualize how the funding rate values changed over time\n",
    "# YOUR CODE HERE\n"
   ]
  },
  {
   "cell_type": "code",
   "execution_count": null,
   "metadata": {},
   "outputs": [],
   "source": [
    "# Plot a histogram to visualize the distribution of the funding rates\n",
    "# YOUR CODE HERE\n"
   ]
  },
  {
   "cell_type": "markdown",
   "metadata": {},
   "source": [
    "## Step 6: Use the `loc` function to create a new DataFrame that includes the data only from 2020. This new DataFrame should include all the columns of data. Review this 2020 DataFrame by creating a box plot to determine how the data was distributed during 2020."
   ]
  },
  {
   "cell_type": "code",
   "execution_count": null,
   "metadata": {},
   "outputs": [],
   "source": [
    "# Using the loc function, create a DataFrame that includes data only from 2020\n",
    "# This DataFrame should include all columns and rows of data\n",
    "rates_2020_df = # YOUR CODE HERE\n",
    "\n",
    "# Review the first 5 rows of the rates_2020_df` DataFrame \n",
    "# YOUR CODE HERE\n"
   ]
  },
  {
   "cell_type": "code",
   "execution_count": null,
   "metadata": {},
   "outputs": [],
   "source": [
    "# Create a box plot that visualizes the distribution of the different rates over 2020\n",
    "# YOUR CODE HERE\n"
   ]
  },
  {
   "cell_type": "markdown",
   "metadata": {},
   "source": [
    "**Question:** Based on the box-plot visualization, what category of rates exhibited the largest distribution for 2020? What category of rates exhibit the smallest distribution for 2020?\n",
    "\n",
    "**Answer:** # YOUR ANSWER HERE"
   ]
  },
  {
   "cell_type": "markdown",
   "metadata": {},
   "source": [
    "## Step 7: Use conditional statements to filter and analyze the 2020 DataFrame. The goal is to compare the bank’s profits from the times that the funding rates were greater than or equal to 1% to the times that they were less than 1%."
   ]
  },
  {
   "cell_type": "code",
   "execution_count": null,
   "metadata": {},
   "outputs": [],
   "source": [
    "# Add a conditional statement to the `rates_2020_df` DataFrame\n",
    "# Keep only days when `Funding Rate` is  greater than or equal to 1.00%\n",
    "high_filter_rates = # YOUR CODE HERE\n",
    "\n",
    "# Create a subset of the `rates_2020_df` DataFrame using the loc function \n",
    "# in conjunction with the conditional statement that includes only funding rates\n",
    "# that are greater than or equal to 1%\n",
    "high_funding_rates_df = # YOUR CODE HERE\n",
    "\n",
    "# Review the first 5 rows of the `high_funding_rates_df` DataFrame \n",
    "# YOUR CODE HERE\n"
   ]
  },
  {
   "cell_type": "code",
   "execution_count": null,
   "metadata": {},
   "outputs": [],
   "source": [
    "# Use thed describe function to generate summary statistics of the `high_funding_rates` DataFrame.\n",
    "# YOUR CODE HERE\n"
   ]
  },
  {
   "cell_type": "code",
   "execution_count": null,
   "metadata": {},
   "outputs": [],
   "source": [
    "# Add a conditional statement to the `rates_2020_df` DataFrame\n",
    "# Keep only days when `Funding Rate` is  less than 1.00%.\n",
    "low_filter_rates = # YOUR CODE HERE\n",
    "\n",
    "# Create a subset of the `rates_2020_df` DataFrame using the loc function \n",
    "# in conjunction with the conditional statement that includes only funding rates\n",
    "# that are less than 1%\n",
    "low_funding_rates_df = # YOUR CODE HERE\n",
    "\n",
    "# Review the first 5 rows of the `low_funding_rates_df` DataFrame \n",
    "# YOUR CODE HERE\n"
   ]
  },
  {
   "cell_type": "code",
   "execution_count": null,
   "metadata": {},
   "outputs": [],
   "source": [
    "# Use the describe function to generate summary statistics of the `low_funding_rates` DataFrame.\n",
    "# YOUR CODE HERE"
   ]
  },
  {
   "cell_type": "markdown",
   "metadata": {},
   "source": [
    "**Question:** What does the average profit spread, across the banks different clients, look like on days in 2020 when the Funding Rate is less than 1% versus when the Funding Rate is greater than or equal to 1%?\n",
    "\n",
    "**Answer:** # YOUR CODE HERE"
   ]
  },
  {
   "cell_type": "code",
   "execution_count": null,
   "metadata": {},
   "outputs": [],
   "source": []
  }
 ],
 "metadata": {
  "kernelspec": {
   "display_name": "Python 3",
   "language": "python",
   "name": "python3"
  },
  "language_info": {
   "codemirror_mode": {
    "name": "ipython",
    "version": 3
   },
   "file_extension": ".py",
   "mimetype": "text/x-python",
   "name": "python",
   "nbconvert_exporter": "python",
   "pygments_lexer": "ipython3",
   "version": "3.8.3"
  }
 },
 "nbformat": 4,
 "nbformat_minor": 4
}
