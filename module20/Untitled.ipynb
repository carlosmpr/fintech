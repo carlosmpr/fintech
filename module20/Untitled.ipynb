{
 "cells": [
  {
   "cell_type": "markdown",
   "metadata": {},
   "source": [
    "# Smart Contracts: The Basics\n",
    "\n",
    "Because smart contracts exist in a blockchain, they inherit two valuable properties. The first is that smart contracts are immutable, meaning that once a smart contract is created and validated, it can never be changed.\n",
    "\n",
    "The second property is that smart contracts are distributed. This means that everyone in the blockchain network validates the terms of the contract. If one party to the contract or member of the blockchain network tries to override the terms of the contract—for example, by trying to trigger an early release of funds—the other network members will recognize the change to the contract as invalid and prevent the action."
   ]
  }
 ],
 "metadata": {
  "kernelspec": {
   "display_name": "Python 3",
   "language": "python",
   "name": "python3"
  },
  "language_info": {
   "codemirror_mode": {
    "name": "ipython",
    "version": 3
   },
   "file_extension": ".py",
   "mimetype": "text/x-python",
   "name": "python",
   "nbconvert_exporter": "python",
   "pygments_lexer": "ipython3",
   "version": "3.8.3"
  }
 },
 "nbformat": 4,
 "nbformat_minor": 4
}
