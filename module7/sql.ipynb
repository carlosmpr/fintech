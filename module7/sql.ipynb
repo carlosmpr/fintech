{
 "cells": [
  {
   "cell_type": "markdown",
   "metadata": {},
   "source": [
    "# Introduction to SQL"
   ]
  },
  {
   "cell_type": "code",
   "execution_count": 1,
   "metadata": {},
   "outputs": [],
   "source": [
    "import pandas as pd\n",
    "import sqlalchemy"
   ]
  },
  {
   "cell_type": "markdown",
   "metadata": {},
   "source": [
    "Create a Database Engine\n",
    "An engine is a tool that can communicate with our database. Think of it as a smart connection that knows the dialect, or type, of database that we have and how to connect and interact with it.\n",
    "\n",
    "First, we need to define a connection string to connect to our database. The connection string tells the engine the type of database that we’re using and other important connection details, like a password, server name, port number, or IP address.\n",
    "\n"
   ]
  },
  {
   "cell_type": "code",
   "execution_count": 2,
   "metadata": {},
   "outputs": [
    {
     "data": {
      "text/plain": [
       "Engine(sqlite:///)"
      ]
     },
     "execution_count": 2,
     "metadata": {},
     "output_type": "execute_result"
    }
   ],
   "source": [
    "# Create a temporary sqlite database\n",
    "database_connection_string = 'sqlite:///'\n",
    "engine = sqlalchemy.create_engine(database_connection_string)\n",
    "engine"
   ]
  },
  {
   "cell_type": "code",
   "execution_count": 3,
   "metadata": {},
   "outputs": [
    {
     "name": "stderr",
     "output_type": "stream",
     "text": [
      "<ipython-input-3-d72bc75a6b62>:1: SADeprecationWarning: The Engine.table_names() method is deprecated and will be removed in a future release.  Please refer to Inspector.get_table_names(). (deprecated since: 1.4)\n",
      "  engine.table_names()\n"
     ]
    },
    {
     "data": {
      "text/plain": [
       "[]"
      ]
     },
     "execution_count": 3,
     "metadata": {},
     "output_type": "execute_result"
    }
   ],
   "source": [
    "engine.table_names()"
   ]
  },
  {
   "cell_type": "code",
   "execution_count": 4,
   "metadata": {},
   "outputs": [
    {
     "data": {
      "text/html": [
       "<div>\n",
       "<style scoped>\n",
       "    .dataframe tbody tr th:only-of-type {\n",
       "        vertical-align: middle;\n",
       "    }\n",
       "\n",
       "    .dataframe tbody tr th {\n",
       "        vertical-align: top;\n",
       "    }\n",
       "\n",
       "    .dataframe thead th {\n",
       "        text-align: right;\n",
       "    }\n",
       "</style>\n",
       "<table border=\"1\" class=\"dataframe\">\n",
       "  <thead>\n",
       "    <tr style=\"text-align: right;\">\n",
       "      <th></th>\n",
       "      <th>AAPL</th>\n",
       "      <th>GOOG</th>\n",
       "    </tr>\n",
       "  </thead>\n",
       "  <tbody>\n",
       "    <tr>\n",
       "      <th>0</th>\n",
       "      <td>1</td>\n",
       "      <td>3</td>\n",
       "    </tr>\n",
       "    <tr>\n",
       "      <th>1</th>\n",
       "      <td>2</td>\n",
       "      <td>4</td>\n",
       "    </tr>\n",
       "  </tbody>\n",
       "</table>\n",
       "</div>"
      ],
      "text/plain": [
       "   AAPL  GOOG\n",
       "0     1     3\n",
       "1     2     4"
      ]
     },
     "execution_count": 4,
     "metadata": {},
     "output_type": "execute_result"
    }
   ],
   "source": [
    "stocks_dataframe = pd.DataFrame({'AAPL': [1, 2], 'GOOG': [3, 4]})\n",
    "stocks_dataframe"
   ]
  },
  {
   "cell_type": "code",
   "execution_count": 5,
   "metadata": {},
   "outputs": [
    {
     "data": {
      "text/plain": [
       "2"
      ]
     },
     "execution_count": 5,
     "metadata": {},
     "output_type": "execute_result"
    }
   ],
   "source": [
    "stocks_dataframe.to_sql('stocks', engine,  index=False, if_exists='replace')\n",
    "\n"
   ]
  },
  {
   "cell_type": "code",
   "execution_count": 6,
   "metadata": {},
   "outputs": [
    {
     "name": "stderr",
     "output_type": "stream",
     "text": [
      "<ipython-input-6-d72bc75a6b62>:1: SADeprecationWarning: The Engine.table_names() method is deprecated and will be removed in a future release.  Please refer to Inspector.get_table_names(). (deprecated since: 1.4)\n",
      "  engine.table_names()\n"
     ]
    },
    {
     "data": {
      "text/plain": [
       "['stocks']"
      ]
     },
     "execution_count": 6,
     "metadata": {},
     "output_type": "execute_result"
    }
   ],
   "source": [
    "engine.table_names()"
   ]
  },
  {
   "cell_type": "markdown",
   "metadata": {},
   "source": [
    "Do you wonder where the database is and how to get data from it? Currently, your SQLite database resides in your computer’s memory—but only temporarily. As soon as you close your Jupyter notebook, the database will disappear. If you want to save the database to access it in the future, you can specify a file name, such as sqlite:///mydatabase.db. This will save the database information to a file named mydatabase.db, which will reside on your computer's hard drive. But for now, it’s easier to use the temporary in-memory database, sqlite:///."
   ]
  },
  {
   "cell_type": "code",
   "execution_count": 7,
   "metadata": {},
   "outputs": [
    {
     "data": {
      "text/html": [
       "<div>\n",
       "<style scoped>\n",
       "    .dataframe tbody tr th:only-of-type {\n",
       "        vertical-align: middle;\n",
       "    }\n",
       "\n",
       "    .dataframe tbody tr th {\n",
       "        vertical-align: top;\n",
       "    }\n",
       "\n",
       "    .dataframe thead th {\n",
       "        text-align: right;\n",
       "    }\n",
       "</style>\n",
       "<table border=\"1\" class=\"dataframe\">\n",
       "  <thead>\n",
       "    <tr style=\"text-align: right;\">\n",
       "      <th></th>\n",
       "      <th>AAPL</th>\n",
       "      <th>GOOG</th>\n",
       "    </tr>\n",
       "  </thead>\n",
       "  <tbody>\n",
       "    <tr>\n",
       "      <th>0</th>\n",
       "      <td>1</td>\n",
       "      <td>3</td>\n",
       "    </tr>\n",
       "    <tr>\n",
       "      <th>1</th>\n",
       "      <td>2</td>\n",
       "      <td>4</td>\n",
       "    </tr>\n",
       "  </tbody>\n",
       "</table>\n",
       "</div>"
      ],
      "text/plain": [
       "   AAPL  GOOG\n",
       "0     1     3\n",
       "1     2     4"
      ]
     },
     "execution_count": 7,
     "metadata": {},
     "output_type": "execute_result"
    }
   ],
   "source": [
    "sql_stocks_df = pd.read_sql_table('stocks', con=engine)\n",
    "sql_stocks_df"
   ]
  },
  {
   "cell_type": "code",
   "execution_count": 8,
   "metadata": {},
   "outputs": [],
   "source": [
    "database_connection_string = 'sqlite:///'\n",
    "# Create the database engine\n",
    "engine = sqlalchemy.create_engine(\n",
    "    database_connection_string,\n",
    "    echo=True\n",
    ")"
   ]
  },
  {
   "cell_type": "code",
   "execution_count": 9,
   "metadata": {},
   "outputs": [
    {
     "name": "stdout",
     "output_type": "stream",
     "text": [
      "2022-05-05 09:21:37,870 INFO sqlalchemy.engine.Engine PRAGMA main.table_info(\"stocks\")\n",
      "2022-05-05 09:21:37,871 INFO sqlalchemy.engine.Engine [raw sql] ()\n",
      "2022-05-05 09:21:37,872 INFO sqlalchemy.engine.Engine PRAGMA temp.table_info(\"stocks\")\n",
      "2022-05-05 09:21:37,873 INFO sqlalchemy.engine.Engine [raw sql] ()\n",
      "2022-05-05 09:21:37,875 INFO sqlalchemy.engine.Engine BEGIN (implicit)\n",
      "2022-05-05 09:21:37,876 INFO sqlalchemy.engine.Engine \n",
      "CREATE TABLE stocks (\n",
      "\t\"AAPL\" BIGINT, \n",
      "\t\"GOOG\" BIGINT\n",
      ")\n",
      "\n",
      "\n",
      "2022-05-05 09:21:37,876 INFO sqlalchemy.engine.Engine [no key 0.00087s] ()\n",
      "2022-05-05 09:21:37,878 INFO sqlalchemy.engine.Engine COMMIT\n",
      "2022-05-05 09:21:37,879 INFO sqlalchemy.engine.Engine BEGIN (implicit)\n",
      "2022-05-05 09:21:37,880 INFO sqlalchemy.engine.Engine INSERT INTO stocks (\"AAPL\", \"GOOG\") VALUES (?, ?)\n",
      "2022-05-05 09:21:37,881 INFO sqlalchemy.engine.Engine [generated in 0.00089s] ((1, 3), (2, 4))\n",
      "2022-05-05 09:21:37,881 INFO sqlalchemy.engine.Engine COMMIT\n"
     ]
    },
    {
     "data": {
      "text/plain": [
       "2"
      ]
     },
     "execution_count": 9,
     "metadata": {},
     "output_type": "execute_result"
    }
   ],
   "source": [
    "stocks_dataframe.to_sql('stocks', engine, index=False, if_exists='replace')"
   ]
  },
  {
   "cell_type": "code",
   "execution_count": 10,
   "metadata": {},
   "outputs": [
    {
     "data": {
      "text/plain": [
       "'\\nCREATE TABLE stocks (\\n    \"AAPL\" BIGINT,\\n    \"GOOG\" BIGINT\\n)\\n'"
      ]
     },
     "execution_count": 10,
     "metadata": {},
     "output_type": "execute_result"
    }
   ],
   "source": [
    "#Create a Table via a Raw SQL Statement\n",
    "create_table = \"\"\"\n",
    "CREATE TABLE stocks (\n",
    "    \"AAPL\" BIGINT,\n",
    "    \"GOOG\" BIGINT\n",
    ")\n",
    "\"\"\"\n",
    "create_table"
   ]
  },
  {
   "cell_type": "code",
   "execution_count": 11,
   "metadata": {},
   "outputs": [],
   "source": [
    "create_table = \"\"\"\n",
    "CREATE TABLE delicious_stocks (\n",
    "    \"EAT\" BIGINT,\n",
    "    \"CAKE\" BIGINT\n",
    ")\n",
    "\"\"\""
   ]
  },
  {
   "cell_type": "code",
   "execution_count": 12,
   "metadata": {},
   "outputs": [
    {
     "name": "stdout",
     "output_type": "stream",
     "text": [
      "2022-05-05 09:21:37,933 INFO sqlalchemy.engine.Engine \n",
      "CREATE TABLE delicious_stocks (\n",
      "    \"EAT\" BIGINT,\n",
      "    \"CAKE\" BIGINT\n",
      ")\n",
      "\n",
      "2022-05-05 09:21:37,934 INFO sqlalchemy.engine.Engine [raw sql] ()\n",
      "2022-05-05 09:21:37,935 INFO sqlalchemy.engine.Engine COMMIT\n"
     ]
    },
    {
     "data": {
      "text/plain": [
       "<sqlalchemy.engine.cursor.LegacyCursorResult at 0x22a72ec13d0>"
      ]
     },
     "execution_count": 12,
     "metadata": {},
     "output_type": "execute_result"
    }
   ],
   "source": [
    "engine.execute(create_table)"
   ]
  },
  {
   "cell_type": "code",
   "execution_count": 13,
   "metadata": {},
   "outputs": [
    {
     "name": "stdout",
     "output_type": "stream",
     "text": [
      "2022-05-05 09:21:37,948 INFO sqlalchemy.engine.Engine SELECT name FROM sqlite_master WHERE type='table' ORDER BY name\n",
      "2022-05-05 09:21:37,949 INFO sqlalchemy.engine.Engine [raw sql] ()\n"
     ]
    },
    {
     "name": "stderr",
     "output_type": "stream",
     "text": [
      "<ipython-input-13-d72bc75a6b62>:1: SADeprecationWarning: The Engine.table_names() method is deprecated and will be removed in a future release.  Please refer to Inspector.get_table_names(). (deprecated since: 1.4)\n",
      "  engine.table_names()\n"
     ]
    },
    {
     "data": {
      "text/plain": [
       "['delicious_stocks', 'stocks']"
      ]
     },
     "execution_count": 13,
     "metadata": {},
     "output_type": "execute_result"
    }
   ],
   "source": [
    "engine.table_names()"
   ]
  },
  {
   "cell_type": "code",
   "execution_count": 14,
   "metadata": {},
   "outputs": [
    {
     "name": "stdout",
     "output_type": "stream",
     "text": [
      "2022-05-05 09:21:37,964 INFO sqlalchemy.engine.Engine PRAGMA main.table_info(\"delicious_stocks\")\n",
      "2022-05-05 09:21:37,965 INFO sqlalchemy.engine.Engine [raw sql] ()\n",
      "2022-05-05 09:21:37,967 INFO sqlalchemy.engine.Engine PRAGMA main.table_xinfo(\"delicious_stocks\")\n",
      "2022-05-05 09:21:37,967 INFO sqlalchemy.engine.Engine [raw sql] ()\n",
      "2022-05-05 09:21:37,969 INFO sqlalchemy.engine.Engine SELECT sql FROM  (SELECT * FROM sqlite_master UNION ALL   SELECT * FROM sqlite_temp_master) WHERE name = ? AND type = 'table'\n",
      "2022-05-05 09:21:37,971 INFO sqlalchemy.engine.Engine [raw sql] ('delicious_stocks',)\n",
      "2022-05-05 09:21:37,972 INFO sqlalchemy.engine.Engine PRAGMA main.foreign_key_list(\"delicious_stocks\")\n",
      "2022-05-05 09:21:37,973 INFO sqlalchemy.engine.Engine [raw sql] ()\n",
      "2022-05-05 09:21:37,974 INFO sqlalchemy.engine.Engine PRAGMA temp.foreign_key_list(\"delicious_stocks\")\n",
      "2022-05-05 09:21:37,974 INFO sqlalchemy.engine.Engine [raw sql] ()\n",
      "2022-05-05 09:21:37,975 INFO sqlalchemy.engine.Engine SELECT sql FROM  (SELECT * FROM sqlite_master UNION ALL   SELECT * FROM sqlite_temp_master) WHERE name = ? AND type = 'table'\n",
      "2022-05-05 09:21:37,976 INFO sqlalchemy.engine.Engine [raw sql] ('delicious_stocks',)\n",
      "2022-05-05 09:21:37,978 INFO sqlalchemy.engine.Engine PRAGMA main.index_list(\"delicious_stocks\")\n",
      "2022-05-05 09:21:37,978 INFO sqlalchemy.engine.Engine [raw sql] ()\n",
      "2022-05-05 09:21:37,979 INFO sqlalchemy.engine.Engine PRAGMA temp.index_list(\"delicious_stocks\")\n",
      "2022-05-05 09:21:37,980 INFO sqlalchemy.engine.Engine [raw sql] ()\n",
      "2022-05-05 09:21:37,981 INFO sqlalchemy.engine.Engine PRAGMA main.index_list(\"delicious_stocks\")\n",
      "2022-05-05 09:21:37,981 INFO sqlalchemy.engine.Engine [raw sql] ()\n",
      "2022-05-05 09:21:37,982 INFO sqlalchemy.engine.Engine PRAGMA temp.index_list(\"delicious_stocks\")\n",
      "2022-05-05 09:21:37,983 INFO sqlalchemy.engine.Engine [raw sql] ()\n",
      "2022-05-05 09:21:37,984 INFO sqlalchemy.engine.Engine SELECT sql FROM  (SELECT * FROM sqlite_master UNION ALL   SELECT * FROM sqlite_temp_master) WHERE name = ? AND type = 'table'\n",
      "2022-05-05 09:21:37,984 INFO sqlalchemy.engine.Engine [raw sql] ('delicious_stocks',)\n",
      "2022-05-05 09:21:37,986 INFO sqlalchemy.engine.Engine SELECT delicious_stocks.\"EAT\", delicious_stocks.\"CAKE\" \n",
      "FROM delicious_stocks\n",
      "2022-05-05 09:21:37,986 INFO sqlalchemy.engine.Engine [generated in 0.00074s] ()\n"
     ]
    },
    {
     "data": {
      "text/html": [
       "<div>\n",
       "<style scoped>\n",
       "    .dataframe tbody tr th:only-of-type {\n",
       "        vertical-align: middle;\n",
       "    }\n",
       "\n",
       "    .dataframe tbody tr th {\n",
       "        vertical-align: top;\n",
       "    }\n",
       "\n",
       "    .dataframe thead th {\n",
       "        text-align: right;\n",
       "    }\n",
       "</style>\n",
       "<table border=\"1\" class=\"dataframe\">\n",
       "  <thead>\n",
       "    <tr style=\"text-align: right;\">\n",
       "      <th></th>\n",
       "      <th>EAT</th>\n",
       "      <th>CAKE</th>\n",
       "    </tr>\n",
       "  </thead>\n",
       "  <tbody>\n",
       "  </tbody>\n",
       "</table>\n",
       "</div>"
      ],
      "text/plain": [
       "Empty DataFrame\n",
       "Columns: [EAT, CAKE]\n",
       "Index: []"
      ]
     },
     "execution_count": 14,
     "metadata": {},
     "output_type": "execute_result"
    }
   ],
   "source": [
    "pd.read_sql_table('delicious_stocks', con=engine)"
   ]
  },
  {
   "cell_type": "code",
   "execution_count": 15,
   "metadata": {},
   "outputs": [],
   "source": [
    "insert_data = \"\"\"\n",
    "INSERT INTO delicious_stocks (\"EAT\", \"CAKE\") VALUES (?, ?)\n",
    "\"\"\""
   ]
  },
  {
   "cell_type": "code",
   "execution_count": 16,
   "metadata": {},
   "outputs": [
    {
     "name": "stdout",
     "output_type": "stream",
     "text": [
      "2022-05-05 09:21:38,025 INFO sqlalchemy.engine.Engine \n",
      "INSERT INTO delicious_stocks (\"EAT\", \"CAKE\") VALUES (?, ?)\n",
      "\n",
      "2022-05-05 09:21:38,027 INFO sqlalchemy.engine.Engine [raw sql] ((10, 30), (20, 40))\n",
      "2022-05-05 09:21:38,028 INFO sqlalchemy.engine.Engine COMMIT\n"
     ]
    },
    {
     "data": {
      "text/plain": [
       "<sqlalchemy.engine.cursor.LegacyCursorResult at 0x22a72ef6970>"
      ]
     },
     "execution_count": 16,
     "metadata": {},
     "output_type": "execute_result"
    }
   ],
   "source": [
    "engine.execute(insert_data, ((10, 30), (20, 40)))"
   ]
  },
  {
   "cell_type": "code",
   "execution_count": 17,
   "metadata": {},
   "outputs": [
    {
     "name": "stdout",
     "output_type": "stream",
     "text": [
      "2022-05-05 09:21:38,042 INFO sqlalchemy.engine.Engine PRAGMA main.table_info(\"delicious_stocks\")\n",
      "2022-05-05 09:21:38,043 INFO sqlalchemy.engine.Engine [raw sql] ()\n",
      "2022-05-05 09:21:38,044 INFO sqlalchemy.engine.Engine PRAGMA main.table_xinfo(\"delicious_stocks\")\n",
      "2022-05-05 09:21:38,045 INFO sqlalchemy.engine.Engine [raw sql] ()\n",
      "2022-05-05 09:21:38,046 INFO sqlalchemy.engine.Engine SELECT sql FROM  (SELECT * FROM sqlite_master UNION ALL   SELECT * FROM sqlite_temp_master) WHERE name = ? AND type = 'table'\n",
      "2022-05-05 09:21:38,047 INFO sqlalchemy.engine.Engine [raw sql] ('delicious_stocks',)\n",
      "2022-05-05 09:21:38,048 INFO sqlalchemy.engine.Engine PRAGMA main.foreign_key_list(\"delicious_stocks\")\n",
      "2022-05-05 09:21:38,048 INFO sqlalchemy.engine.Engine [raw sql] ()\n",
      "2022-05-05 09:21:38,049 INFO sqlalchemy.engine.Engine PRAGMA temp.foreign_key_list(\"delicious_stocks\")\n",
      "2022-05-05 09:21:38,050 INFO sqlalchemy.engine.Engine [raw sql] ()\n",
      "2022-05-05 09:21:38,050 INFO sqlalchemy.engine.Engine SELECT sql FROM  (SELECT * FROM sqlite_master UNION ALL   SELECT * FROM sqlite_temp_master) WHERE name = ? AND type = 'table'\n",
      "2022-05-05 09:21:38,051 INFO sqlalchemy.engine.Engine [raw sql] ('delicious_stocks',)\n",
      "2022-05-05 09:21:38,052 INFO sqlalchemy.engine.Engine PRAGMA main.index_list(\"delicious_stocks\")\n",
      "2022-05-05 09:21:38,052 INFO sqlalchemy.engine.Engine [raw sql] ()\n",
      "2022-05-05 09:21:38,053 INFO sqlalchemy.engine.Engine PRAGMA temp.index_list(\"delicious_stocks\")\n",
      "2022-05-05 09:21:38,053 INFO sqlalchemy.engine.Engine [raw sql] ()\n",
      "2022-05-05 09:21:38,054 INFO sqlalchemy.engine.Engine PRAGMA main.index_list(\"delicious_stocks\")\n",
      "2022-05-05 09:21:38,054 INFO sqlalchemy.engine.Engine [raw sql] ()\n",
      "2022-05-05 09:21:38,055 INFO sqlalchemy.engine.Engine PRAGMA temp.index_list(\"delicious_stocks\")\n",
      "2022-05-05 09:21:38,056 INFO sqlalchemy.engine.Engine [raw sql] ()\n",
      "2022-05-05 09:21:38,056 INFO sqlalchemy.engine.Engine SELECT sql FROM  (SELECT * FROM sqlite_master UNION ALL   SELECT * FROM sqlite_temp_master) WHERE name = ? AND type = 'table'\n",
      "2022-05-05 09:21:38,056 INFO sqlalchemy.engine.Engine [raw sql] ('delicious_stocks',)\n",
      "2022-05-05 09:21:38,059 INFO sqlalchemy.engine.Engine SELECT delicious_stocks.\"EAT\", delicious_stocks.\"CAKE\" \n",
      "FROM delicious_stocks\n",
      "2022-05-05 09:21:38,059 INFO sqlalchemy.engine.Engine [generated in 0.00084s] ()\n"
     ]
    },
    {
     "data": {
      "text/html": [
       "<div>\n",
       "<style scoped>\n",
       "    .dataframe tbody tr th:only-of-type {\n",
       "        vertical-align: middle;\n",
       "    }\n",
       "\n",
       "    .dataframe tbody tr th {\n",
       "        vertical-align: top;\n",
       "    }\n",
       "\n",
       "    .dataframe thead th {\n",
       "        text-align: right;\n",
       "    }\n",
       "</style>\n",
       "<table border=\"1\" class=\"dataframe\">\n",
       "  <thead>\n",
       "    <tr style=\"text-align: right;\">\n",
       "      <th></th>\n",
       "      <th>EAT</th>\n",
       "      <th>CAKE</th>\n",
       "    </tr>\n",
       "  </thead>\n",
       "  <tbody>\n",
       "    <tr>\n",
       "      <th>0</th>\n",
       "      <td>10</td>\n",
       "      <td>30</td>\n",
       "    </tr>\n",
       "    <tr>\n",
       "      <th>1</th>\n",
       "      <td>20</td>\n",
       "      <td>40</td>\n",
       "    </tr>\n",
       "  </tbody>\n",
       "</table>\n",
       "</div>"
      ],
      "text/plain": [
       "   EAT  CAKE\n",
       "0   10    30\n",
       "1   20    40"
      ]
     },
     "execution_count": 17,
     "metadata": {},
     "output_type": "execute_result"
    }
   ],
   "source": [
    "pd.read_sql_table('delicious_stocks', con=engine)"
   ]
  },
  {
   "cell_type": "code",
   "execution_count": 18,
   "metadata": {},
   "outputs": [
    {
     "name": "stdout",
     "output_type": "stream",
     "text": [
      "2022-05-05 09:21:38,073 INFO sqlalchemy.engine.Engine \n",
      "SELECT \"EAT\", \"CAKE\" FROM delicious_stocks\n",
      "\n",
      "2022-05-05 09:21:38,074 INFO sqlalchemy.engine.Engine [raw sql] ()\n"
     ]
    },
    {
     "data": {
      "text/plain": [
       "<sqlalchemy.engine.cursor.LegacyCursorResult at 0x22a72f28fd0>"
      ]
     },
     "execution_count": 18,
     "metadata": {},
     "output_type": "execute_result"
    }
   ],
   "source": [
    "# Read data from the sqlalchemy table\n",
    "read_all_data = \"\"\"\n",
    "SELECT \"EAT\", \"CAKE\" FROM delicious_stocks\n",
    "\"\"\"\n",
    "engine.execute(read_all_data)"
   ]
  },
  {
   "cell_type": "code",
   "execution_count": 19,
   "metadata": {},
   "outputs": [
    {
     "name": "stdout",
     "output_type": "stream",
     "text": [
      "2022-05-05 09:21:38,089 INFO sqlalchemy.engine.Engine \n",
      "SELECT \"EAT\", \"CAKE\" FROM delicious_stocks\n",
      "\n",
      "2022-05-05 09:21:38,090 INFO sqlalchemy.engine.Engine [raw sql] ()\n",
      "(10, 30)\n",
      "(20, 40)\n"
     ]
    }
   ],
   "source": [
    "results = engine.execute(read_all_data)\n",
    "for row in results:\n",
    "    print(row)"
   ]
  },
  {
   "cell_type": "code",
   "execution_count": 20,
   "metadata": {},
   "outputs": [
    {
     "name": "stdout",
     "output_type": "stream",
     "text": [
      "2022-05-05 09:21:38,106 INFO sqlalchemy.engine.Engine \n",
      "SELECT \"EAT\", \"CAKE\" FROM delicious_stocks\n",
      "\n",
      "2022-05-05 09:21:38,106 INFO sqlalchemy.engine.Engine [raw sql] ()\n"
     ]
    },
    {
     "data": {
      "text/plain": [
       "[(10, 30), (20, 40)]"
      ]
     },
     "execution_count": 20,
     "metadata": {},
     "output_type": "execute_result"
    }
   ],
   "source": [
    "results = engine.execute(read_all_data)\n",
    "list(results)"
   ]
  },
  {
   "cell_type": "code",
   "execution_count": 21,
   "metadata": {},
   "outputs": [
    {
     "name": "stdout",
     "output_type": "stream",
     "text": [
      "2022-05-05 09:21:38,122 INFO sqlalchemy.engine.Engine \n",
      "SELECT * FROM delicious_stocks\n",
      "\n",
      "2022-05-05 09:21:38,123 INFO sqlalchemy.engine.Engine [raw sql] ()\n"
     ]
    },
    {
     "data": {
      "text/plain": [
       "[(10, 30), (20, 40)]"
      ]
     },
     "execution_count": 21,
     "metadata": {},
     "output_type": "execute_result"
    }
   ],
   "source": [
    "read_all_data = \"\"\"\n",
    "SELECT * FROM delicious_stocks\n",
    "\"\"\"\n",
    "results = engine.execute(read_all_data)\n",
    "list(results)"
   ]
  },
  {
   "cell_type": "code",
   "execution_count": 22,
   "metadata": {},
   "outputs": [
    {
     "name": "stdout",
     "output_type": "stream",
     "text": [
      "2022-05-05 09:21:38,138 INFO sqlalchemy.engine.Engine \n",
      "UPDATE delicious_stocks\n",
      "SET CAKE = 100\n",
      "WHERE CAKE = 40\n",
      "\n",
      "2022-05-05 09:21:38,139 INFO sqlalchemy.engine.Engine [raw sql] ()\n",
      "2022-05-05 09:21:38,140 INFO sqlalchemy.engine.Engine COMMIT\n"
     ]
    },
    {
     "data": {
      "text/plain": [
       "<sqlalchemy.engine.cursor.LegacyCursorResult at 0x22a72f1a9a0>"
      ]
     },
     "execution_count": 22,
     "metadata": {},
     "output_type": "execute_result"
    }
   ],
   "source": [
    "# Update data\n",
    "\n",
    "update_cake = \"\"\"\n",
    "UPDATE delicious_stocks\n",
    "SET CAKE = 100\n",
    "WHERE CAKE = 40\n",
    "\"\"\"\n",
    "engine.execute(update_cake)"
   ]
  },
  {
   "cell_type": "code",
   "execution_count": 23,
   "metadata": {},
   "outputs": [
    {
     "name": "stdout",
     "output_type": "stream",
     "text": [
      "2022-05-05 09:21:38,154 INFO sqlalchemy.engine.Engine \n",
      "SELECT * FROM delicious_stocks\n",
      "\n",
      "2022-05-05 09:21:38,155 INFO sqlalchemy.engine.Engine [raw sql] ()\n"
     ]
    },
    {
     "data": {
      "text/plain": [
       "[(10, 30), (20, 100)]"
      ]
     },
     "execution_count": 23,
     "metadata": {},
     "output_type": "execute_result"
    }
   ],
   "source": [
    "read_all_data = \"\"\"\n",
    "SELECT * FROM delicious_stocks\n",
    "\"\"\"\n",
    "results = engine.execute(read_all_data)\n",
    "list(results)"
   ]
  },
  {
   "cell_type": "code",
   "execution_count": 24,
   "metadata": {},
   "outputs": [
    {
     "name": "stdout",
     "output_type": "stream",
     "text": [
      "2022-05-05 09:21:38,170 INFO sqlalchemy.engine.Engine \n",
      "DELETE FROM delicious_stocks\n",
      "WHERE EAT = 20\n",
      "\n",
      "2022-05-05 09:21:38,170 INFO sqlalchemy.engine.Engine [raw sql] ()\n",
      "2022-05-05 09:21:38,171 INFO sqlalchemy.engine.Engine COMMIT\n"
     ]
    },
    {
     "data": {
      "text/plain": [
       "<sqlalchemy.engine.cursor.LegacyCursorResult at 0x22a72f1adf0>"
      ]
     },
     "execution_count": 24,
     "metadata": {},
     "output_type": "execute_result"
    }
   ],
   "source": [
    "# Delete information \n",
    "delete_eat = \"\"\"\n",
    "DELETE FROM delicious_stocks\n",
    "WHERE EAT = 20\n",
    "\"\"\"\n",
    "engine.execute(delete_eat)"
   ]
  },
  {
   "cell_type": "code",
   "execution_count": 25,
   "metadata": {},
   "outputs": [
    {
     "name": "stdout",
     "output_type": "stream",
     "text": [
      "2022-05-05 09:21:38,186 INFO sqlalchemy.engine.Engine \n",
      "SELECT * FROM delicious_stocks\n",
      "\n",
      "2022-05-05 09:21:38,187 INFO sqlalchemy.engine.Engine [raw sql] ()\n"
     ]
    },
    {
     "data": {
      "text/plain": [
       "[(10, 30)]"
      ]
     },
     "execution_count": 25,
     "metadata": {},
     "output_type": "execute_result"
    }
   ],
   "source": [
    "read_all_data = \"\"\"\n",
    "SELECT * FROM delicious_stocks\n",
    "\"\"\"\n",
    "results = engine.execute(read_all_data)\n",
    "list(results)"
   ]
  },
  {
   "cell_type": "markdown",
   "metadata": {},
   "source": [
    "# Designing Database Queries"
   ]
  },
  {
   "cell_type": "code",
   "execution_count": 26,
   "metadata": {},
   "outputs": [],
   "source": [
    "import pandas as pd\n",
    "import numpy as np\n",
    "import sqlalchemy\n",
    "\n",
    "# Create a temporary sqlite database\n",
    "database_connection_string = 'sqlite:///'\n",
    "\n",
    "# Create an engine to interact with the database\n",
    "engine = sqlalchemy.create_engine(database_connection_string)"
   ]
  },
  {
   "cell_type": "code",
   "execution_count": 27,
   "metadata": {},
   "outputs": [
    {
     "name": "stderr",
     "output_type": "stream",
     "text": [
      "<ipython-input-27-5b966f38758c>:3: SADeprecationWarning: The Engine.table_names() method is deprecated and will be removed in a future release.  Please refer to Inspector.get_table_names(). (deprecated since: 1.4)\n",
      "  engine.table_names()\n"
     ]
    },
    {
     "data": {
      "text/plain": [
       "['stocks']"
      ]
     },
     "execution_count": 27,
     "metadata": {},
     "output_type": "execute_result"
    }
   ],
   "source": [
    "stocks_dataframe = pd.DataFrame({'AAPL': [1, 2, 3], 'GOOG': [4, 5, 6]})\n",
    "stocks_dataframe.to_sql('stocks', engine)\n",
    "engine.table_names()"
   ]
  },
  {
   "cell_type": "code",
   "execution_count": 28,
   "metadata": {},
   "outputs": [
    {
     "data": {
      "text/plain": [
       "[(1,), (2,), (3,)]"
      ]
     },
     "execution_count": 28,
     "metadata": {},
     "output_type": "execute_result"
    }
   ],
   "source": [
    "query = \"\"\"\n",
    "SELECT \"AAPL\" FROM stocks;\n",
    "\"\"\"\n",
    "\n",
    "results = engine.execute(query)\n",
    "list(results)"
   ]
  },
  {
   "cell_type": "code",
   "execution_count": 29,
   "metadata": {},
   "outputs": [
    {
     "data": {
      "text/plain": [
       "<matplotlib.axes._subplots.AxesSubplot at 0x22a73a87850>"
      ]
     },
     "execution_count": 29,
     "metadata": {},
     "output_type": "execute_result"
    },
    {
     "data": {
      "image/png": "[encoded data removed]",
      "text/plain": [
       "<Figure size 432x288 with 1 Axes>"
      ]
     },
     "metadata": {
      "needs_background": "light"
     },
     "output_type": "display_data"
    }
   ],
   "source": [
    "# Panda query parameter to data frame\n",
    "\n",
    "df = pd.read_sql_query(query, con=engine)\n",
    "df.plot()"
   ]
  },
  {
   "cell_type": "code",
   "execution_count": 30,
   "metadata": {},
   "outputs": [
    {
     "data": {
      "text/html": [
       "<div>\n",
       "<style scoped>\n",
       "    .dataframe tbody tr th:only-of-type {\n",
       "        vertical-align: middle;\n",
       "    }\n",
       "\n",
       "    .dataframe tbody tr th {\n",
       "        vertical-align: top;\n",
       "    }\n",
       "\n",
       "    .dataframe thead th {\n",
       "        text-align: right;\n",
       "    }\n",
       "</style>\n",
       "<table border=\"1\" class=\"dataframe\">\n",
       "  <thead>\n",
       "    <tr style=\"text-align: right;\">\n",
       "      <th></th>\n",
       "      <th>AAPL</th>\n",
       "    </tr>\n",
       "  </thead>\n",
       "  <tbody>\n",
       "    <tr>\n",
       "      <th>0</th>\n",
       "      <td>1</td>\n",
       "    </tr>\n",
       "    <tr>\n",
       "      <th>1</th>\n",
       "      <td>2</td>\n",
       "    </tr>\n",
       "  </tbody>\n",
       "</table>\n",
       "</div>"
      ],
      "text/plain": [
       "   AAPL\n",
       "0     1\n",
       "1     2"
      ]
     },
     "execution_count": 30,
     "metadata": {},
     "output_type": "execute_result"
    }
   ],
   "source": [
    "query = \"\"\"\n",
    "SELECT AAPL FROM stocks\n",
    "WHERE AAPL < 3;\n",
    "\"\"\"\n",
    "apple_df = pd.read_sql_query(query, con=engine)\n",
    "apple_df"
   ]
  },
  {
   "cell_type": "code",
   "execution_count": 31,
   "metadata": {},
   "outputs": [
    {
     "data": {
      "text/html": [
       "<div>\n",
       "<style scoped>\n",
       "    .dataframe tbody tr th:only-of-type {\n",
       "        vertical-align: middle;\n",
       "    }\n",
       "\n",
       "    .dataframe tbody tr th {\n",
       "        vertical-align: top;\n",
       "    }\n",
       "\n",
       "    .dataframe thead th {\n",
       "        text-align: right;\n",
       "    }\n",
       "</style>\n",
       "<table border=\"1\" class=\"dataframe\">\n",
       "  <thead>\n",
       "    <tr style=\"text-align: right;\">\n",
       "      <th></th>\n",
       "      <th>AAPL</th>\n",
       "    </tr>\n",
       "  </thead>\n",
       "  <tbody>\n",
       "    <tr>\n",
       "      <th>0</th>\n",
       "      <td>1</td>\n",
       "    </tr>\n",
       "    <tr>\n",
       "      <th>1</th>\n",
       "      <td>3</td>\n",
       "    </tr>\n",
       "  </tbody>\n",
       "</table>\n",
       "</div>"
      ],
      "text/plain": [
       "   AAPL\n",
       "0     1\n",
       "1     3"
      ]
     },
     "execution_count": 31,
     "metadata": {},
     "output_type": "execute_result"
    }
   ],
   "source": [
    "query = \"\"\"\n",
    "SELECT AAPL FROM stocks\n",
    "WHERE AAPL = 1 OR AAPL = 3;\n",
    "\"\"\"\n",
    "df = pd.read_sql_query(query, con=engine)\n",
    "df"
   ]
  },
  {
   "cell_type": "code",
   "execution_count": 32,
   "metadata": {},
   "outputs": [
    {
     "data": {
      "text/html": [
       "<div>\n",
       "<style scoped>\n",
       "    .dataframe tbody tr th:only-of-type {\n",
       "        vertical-align: middle;\n",
       "    }\n",
       "\n",
       "    .dataframe tbody tr th {\n",
       "        vertical-align: top;\n",
       "    }\n",
       "\n",
       "    .dataframe thead th {\n",
       "        text-align: right;\n",
       "    }\n",
       "</style>\n",
       "<table border=\"1\" class=\"dataframe\">\n",
       "  <thead>\n",
       "    <tr style=\"text-align: right;\">\n",
       "      <th></th>\n",
       "      <th>AAPL</th>\n",
       "      <th>GOOG</th>\n",
       "    </tr>\n",
       "  </thead>\n",
       "  <tbody>\n",
       "    <tr>\n",
       "      <th>0</th>\n",
       "      <td>44</td>\n",
       "      <td>47</td>\n",
       "    </tr>\n",
       "    <tr>\n",
       "      <th>1</th>\n",
       "      <td>64</td>\n",
       "      <td>67</td>\n",
       "    </tr>\n",
       "    <tr>\n",
       "      <th>2</th>\n",
       "      <td>67</td>\n",
       "      <td>9</td>\n",
       "    </tr>\n",
       "  </tbody>\n",
       "</table>\n",
       "</div>"
      ],
      "text/plain": [
       "   AAPL  GOOG\n",
       "0    44    47\n",
       "1    64    67\n",
       "2    67     9"
      ]
     },
     "metadata": {},
     "output_type": "display_data"
    },
    {
     "data": {
      "text/html": [
       "<div>\n",
       "<style scoped>\n",
       "    .dataframe tbody tr th:only-of-type {\n",
       "        vertical-align: middle;\n",
       "    }\n",
       "\n",
       "    .dataframe tbody tr th {\n",
       "        vertical-align: top;\n",
       "    }\n",
       "\n",
       "    .dataframe thead th {\n",
       "        text-align: right;\n",
       "    }\n",
       "</style>\n",
       "<table border=\"1\" class=\"dataframe\">\n",
       "  <thead>\n",
       "    <tr style=\"text-align: right;\">\n",
       "      <th></th>\n",
       "      <th>AAPL</th>\n",
       "      <th>GOOG</th>\n",
       "    </tr>\n",
       "  </thead>\n",
       "  <tbody>\n",
       "    <tr>\n",
       "      <th>0</th>\n",
       "      <td>44</td>\n",
       "      <td>47</td>\n",
       "    </tr>\n",
       "    <tr>\n",
       "      <th>1</th>\n",
       "      <td>64</td>\n",
       "      <td>67</td>\n",
       "    </tr>\n",
       "    <tr>\n",
       "      <th>2</th>\n",
       "      <td>67</td>\n",
       "      <td>9</td>\n",
       "    </tr>\n",
       "  </tbody>\n",
       "</table>\n",
       "</div>"
      ],
      "text/plain": [
       "   AAPL  GOOG\n",
       "0    44    47\n",
       "1    64    67\n",
       "2    67     9"
      ]
     },
     "metadata": {},
     "output_type": "display_data"
    }
   ],
   "source": [
    "# Set the random seed so we all get the same random data\n",
    "np.random.seed(0)\n",
    "stocks_dataframe = pd.DataFrame(\n",
    "    np.random.randint(0, 100, size=(10, 2)),\n",
    "    columns=[\"AAPL\", \"GOOG\"]\n",
    ")\n",
    "\n",
    "# To view the data, use either the iloc function or the head function.\n",
    "display(stocks_dataframe.iloc[:3])\n",
    "display(stocks_dataframe.head(3))"
   ]
  },
  {
   "cell_type": "code",
   "execution_count": 33,
   "metadata": {},
   "outputs": [
    {
     "data": {
      "text/html": [
       "<div>\n",
       "<style scoped>\n",
       "    .dataframe tbody tr th:only-of-type {\n",
       "        vertical-align: middle;\n",
       "    }\n",
       "\n",
       "    .dataframe tbody tr th {\n",
       "        vertical-align: top;\n",
       "    }\n",
       "\n",
       "    .dataframe thead th {\n",
       "        text-align: right;\n",
       "    }\n",
       "</style>\n",
       "<table border=\"1\" class=\"dataframe\">\n",
       "  <thead>\n",
       "    <tr style=\"text-align: right;\">\n",
       "      <th></th>\n",
       "      <th>AAPL</th>\n",
       "      <th>GOOG</th>\n",
       "    </tr>\n",
       "  </thead>\n",
       "  <tbody>\n",
       "    <tr>\n",
       "      <th>0</th>\n",
       "      <td>44</td>\n",
       "      <td>47</td>\n",
       "    </tr>\n",
       "    <tr>\n",
       "      <th>1</th>\n",
       "      <td>64</td>\n",
       "      <td>67</td>\n",
       "    </tr>\n",
       "    <tr>\n",
       "      <th>2</th>\n",
       "      <td>67</td>\n",
       "      <td>9</td>\n",
       "    </tr>\n",
       "  </tbody>\n",
       "</table>\n",
       "</div>"
      ],
      "text/plain": [
       "   AAPL  GOOG\n",
       "0    44    47\n",
       "1    64    67\n",
       "2    67     9"
      ]
     },
     "execution_count": 33,
     "metadata": {},
     "output_type": "execute_result"
    }
   ],
   "source": [
    "stocks_dataframe.to_sql('stocks', engine, index=False, if_exists='replace')\n",
    "query = \"\"\"\n",
    "SELECT *\n",
    "FROM stocks\n",
    "LIMIT 3;\n",
    "\"\"\"\n",
    "\n",
    "limit_df = pd.read_sql_query(query, con=engine)\n",
    "limit_df"
   ]
  },
  {
   "cell_type": "code",
   "execution_count": 34,
   "metadata": {},
   "outputs": [
    {
     "data": {
      "text/html": [
       "<div>\n",
       "<style scoped>\n",
       "    .dataframe tbody tr th:only-of-type {\n",
       "        vertical-align: middle;\n",
       "    }\n",
       "\n",
       "    .dataframe tbody tr th {\n",
       "        vertical-align: top;\n",
       "    }\n",
       "\n",
       "    .dataframe thead th {\n",
       "        text-align: right;\n",
       "    }\n",
       "</style>\n",
       "<table border=\"1\" class=\"dataframe\">\n",
       "  <thead>\n",
       "    <tr style=\"text-align: right;\">\n",
       "      <th></th>\n",
       "      <th>AAPL</th>\n",
       "      <th>GOOG</th>\n",
       "    </tr>\n",
       "  </thead>\n",
       "  <tbody>\n",
       "    <tr>\n",
       "      <th>0</th>\n",
       "      <td>44</td>\n",
       "      <td>47</td>\n",
       "    </tr>\n",
       "    <tr>\n",
       "      <th>1</th>\n",
       "      <td>36</td>\n",
       "      <td>87</td>\n",
       "    </tr>\n",
       "    <tr>\n",
       "      <th>2</th>\n",
       "      <td>39</td>\n",
       "      <td>87</td>\n",
       "    </tr>\n",
       "  </tbody>\n",
       "</table>\n",
       "</div>"
      ],
      "text/plain": [
       "   AAPL  GOOG\n",
       "0    44    47\n",
       "1    36    87\n",
       "2    39    87"
      ]
     },
     "execution_count": 34,
     "metadata": {},
     "output_type": "execute_result"
    }
   ],
   "source": [
    "query = \"\"\"\n",
    "SELECT * FROM stocks\n",
    "WHERE AAPL < 50\n",
    "LIMIT 3;\n",
    "\"\"\"\n",
    "\n",
    "where_limit_df = pd.read_sql_query(query, con=engine)\n",
    "where_limit_df"
   ]
  },
  {
   "cell_type": "code",
   "execution_count": 35,
   "metadata": {},
   "outputs": [
    {
     "data": {
      "text/html": [
       "<div>\n",
       "<style scoped>\n",
       "    .dataframe tbody tr th:only-of-type {\n",
       "        vertical-align: middle;\n",
       "    }\n",
       "\n",
       "    .dataframe tbody tr th {\n",
       "        vertical-align: top;\n",
       "    }\n",
       "\n",
       "    .dataframe thead th {\n",
       "        text-align: right;\n",
       "    }\n",
       "</style>\n",
       "<table border=\"1\" class=\"dataframe\">\n",
       "  <thead>\n",
       "    <tr style=\"text-align: right;\">\n",
       "      <th></th>\n",
       "      <th>AAPL</th>\n",
       "      <th>GOOG</th>\n",
       "    </tr>\n",
       "  </thead>\n",
       "  <tbody>\n",
       "    <tr>\n",
       "      <th>0</th>\n",
       "      <td>46</td>\n",
       "      <td>88</td>\n",
       "    </tr>\n",
       "    <tr>\n",
       "      <th>1</th>\n",
       "      <td>44</td>\n",
       "      <td>47</td>\n",
       "    </tr>\n",
       "    <tr>\n",
       "      <th>2</th>\n",
       "      <td>39</td>\n",
       "      <td>87</td>\n",
       "    </tr>\n",
       "  </tbody>\n",
       "</table>\n",
       "</div>"
      ],
      "text/plain": [
       "   AAPL  GOOG\n",
       "0    46    88\n",
       "1    44    47\n",
       "2    39    87"
      ]
     },
     "execution_count": 35,
     "metadata": {},
     "output_type": "execute_result"
    }
   ],
   "source": [
    "query = \"\"\"\n",
    "SELECT * FROM stocks\n",
    "WHERE AAPL < 50\n",
    "ORDER BY AAPL DESC\n",
    "LIMIT 3;\n",
    "\"\"\"\n",
    "\n",
    "orderby_df = pd.read_sql_query(query, con=engine)\n",
    "orderby_df"
   ]
  },
  {
   "cell_type": "markdown",
   "metadata": {},
   "source": [
    "# Selecting Data From multiple Tables\n",
    "\n",
    "To accomplish this goal in SQL, we use joins via the JOIN clause. This clause offers four main types of joins: inner join, left join, right join, and full join (also referred to as a full outer join). Depending on our goal, we can use any of these types of joins, which represent different techniques for combining data from multiple tables, as follows:\n",
    "\n",
    "Inner join: This selects the elements in every row that match in Table A and Table B.\n",
    "\n",
    "Left join: This selects all the elements in Table A (regardless of whether they match the elements in Table B).\n",
    "\n",
    "Right join: This selects all the elements in Table B (regardless of whether they match the elements in Table A).\n",
    "\n",
    "Full join: This selects all the elements in Table A and in Table B (regardless of whether they match the elements in the other table)."
   ]
  },
  {
   "cell_type": "code",
   "execution_count": 36,
   "metadata": {},
   "outputs": [
    {
     "data": {
      "text/html": [
       "<div>\n",
       "<style scoped>\n",
       "    .dataframe tbody tr th:only-of-type {\n",
       "        vertical-align: middle;\n",
       "    }\n",
       "\n",
       "    .dataframe tbody tr th {\n",
       "        vertical-align: top;\n",
       "    }\n",
       "\n",
       "    .dataframe thead th {\n",
       "        text-align: right;\n",
       "    }\n",
       "</style>\n",
       "<table border=\"1\" class=\"dataframe\">\n",
       "  <thead>\n",
       "    <tr style=\"text-align: right;\">\n",
       "      <th></th>\n",
       "      <th>bank_id</th>\n",
       "      <th>bank_default_currency</th>\n",
       "    </tr>\n",
       "  </thead>\n",
       "  <tbody>\n",
       "    <tr>\n",
       "      <th>0</th>\n",
       "      <td>CLFXGBTQ</td>\n",
       "      <td>Bahraini dinar</td>\n",
       "    </tr>\n",
       "    <tr>\n",
       "      <th>1</th>\n",
       "      <td>TBSVGBK1</td>\n",
       "      <td>Central African CFA franc</td>\n",
       "    </tr>\n",
       "    <tr>\n",
       "      <th>2</th>\n",
       "      <td>ZXQLGB826RC</td>\n",
       "      <td>Zimbabwean dollar</td>\n",
       "    </tr>\n",
       "    <tr>\n",
       "      <th>3</th>\n",
       "      <td>OKMNGB7K9LP</td>\n",
       "      <td>Australian dollar</td>\n",
       "    </tr>\n",
       "    <tr>\n",
       "      <th>4</th>\n",
       "      <td>FKFEGB66</td>\n",
       "      <td>Hungarian forint</td>\n",
       "    </tr>\n",
       "    <tr>\n",
       "      <th>5</th>\n",
       "      <td>OZNXGB7X</td>\n",
       "      <td>Burmese kyat</td>\n",
       "    </tr>\n",
       "    <tr>\n",
       "      <th>6</th>\n",
       "      <td>LOFYGBZ37P5</td>\n",
       "      <td>Venezuelan bolívar</td>\n",
       "    </tr>\n",
       "    <tr>\n",
       "      <th>7</th>\n",
       "      <td>QQZLGB33W93</td>\n",
       "      <td>Japanese yen</td>\n",
       "    </tr>\n",
       "    <tr>\n",
       "      <th>8</th>\n",
       "      <td>KWFTGBR4</td>\n",
       "      <td>Sudanese pound</td>\n",
       "    </tr>\n",
       "    <tr>\n",
       "      <th>9</th>\n",
       "      <td>ZWQRGB760TN</td>\n",
       "      <td>Cayman Islands dollar</td>\n",
       "    </tr>\n",
       "  </tbody>\n",
       "</table>\n",
       "</div>"
      ],
      "text/plain": [
       "       bank_id      bank_default_currency\n",
       "0     CLFXGBTQ             Bahraini dinar\n",
       "1     TBSVGBK1  Central African CFA franc\n",
       "2  ZXQLGB826RC          Zimbabwean dollar\n",
       "3  OKMNGB7K9LP          Australian dollar\n",
       "4     FKFEGB66           Hungarian forint\n",
       "5     OZNXGB7X               Burmese kyat\n",
       "6  LOFYGBZ37P5         Venezuelan bolívar\n",
       "7  QQZLGB33W93               Japanese yen\n",
       "8     KWFTGBR4             Sudanese pound\n",
       "9  ZWQRGB760TN      Cayman Islands dollar"
      ]
     },
     "execution_count": 36,
     "metadata": {},
     "output_type": "execute_result"
    }
   ],
   "source": [
    "from faker import Faker\n",
    "import random\n",
    "\n",
    "random.seed(2)\n",
    "Faker.seed(2)\n",
    "fake = Faker()\n",
    "available_currencies = []\n",
    "bank_data = []\n",
    "\n",
    "for i in range(10):\n",
    "    currency = fake.currency_name()\n",
    "    available_currencies.append(currency)\n",
    "    bank_data.append({\n",
    "        \"bank_id\": fake.swift(),\n",
    "        \"bank_default_currency\": currency\n",
    "    })\n",
    "\n",
    "bank_dataframe = pd.DataFrame(bank_data)\n",
    "bank_dataframe"
   ]
  },
  {
   "cell_type": "code",
   "execution_count": 37,
   "metadata": {},
   "outputs": [
    {
     "data": {
      "text/html": [
       "<div>\n",
       "<style scoped>\n",
       "    .dataframe tbody tr th:only-of-type {\n",
       "        vertical-align: middle;\n",
       "    }\n",
       "\n",
       "    .dataframe tbody tr th {\n",
       "        vertical-align: top;\n",
       "    }\n",
       "\n",
       "    .dataframe thead th {\n",
       "        text-align: right;\n",
       "    }\n",
       "</style>\n",
       "<table border=\"1\" class=\"dataframe\">\n",
       "  <thead>\n",
       "    <tr style=\"text-align: right;\">\n",
       "      <th></th>\n",
       "      <th>first_name</th>\n",
       "      <th>last_name</th>\n",
       "      <th>address</th>\n",
       "      <th>default_currency</th>\n",
       "      <th>bank_id</th>\n",
       "    </tr>\n",
       "  </thead>\n",
       "  <tbody>\n",
       "    <tr>\n",
       "      <th>0</th>\n",
       "      <td>Tracy</td>\n",
       "      <td>Richardson</td>\n",
       "      <td>0310 Joshua Forks\\nPort Alexandraview, IL 08415</td>\n",
       "      <td>Bahraini dinar</td>\n",
       "      <td>TBSVGBK1</td>\n",
       "    </tr>\n",
       "    <tr>\n",
       "      <th>1</th>\n",
       "      <td>Rodney</td>\n",
       "      <td>Love</td>\n",
       "      <td>2301 Stephanie Burg Apt. 054\\nPort Sharon, HI ...</td>\n",
       "      <td>Central African CFA franc</td>\n",
       "      <td>OZNXGB7X</td>\n",
       "    </tr>\n",
       "    <tr>\n",
       "      <th>2</th>\n",
       "      <td>Heather</td>\n",
       "      <td>Cruz</td>\n",
       "      <td>00591 Rogers Burgs\\nShaneton, KS 99547</td>\n",
       "      <td>Zimbabwean dollar</td>\n",
       "      <td>FKFEGB66</td>\n",
       "    </tr>\n",
       "    <tr>\n",
       "      <th>3</th>\n",
       "      <td>Richard</td>\n",
       "      <td>Howell</td>\n",
       "      <td>51072 Tucker Islands\\nPort Susan, KS 79940</td>\n",
       "      <td>Hungarian forint</td>\n",
       "      <td>ZWQRGB760TN</td>\n",
       "    </tr>\n",
       "    <tr>\n",
       "      <th>4</th>\n",
       "      <td>Tara</td>\n",
       "      <td>Valdez</td>\n",
       "      <td>040 Evan Court\\nReidhaven, VT 04616</td>\n",
       "      <td>Australian dollar</td>\n",
       "      <td>ZWQRGB760TN</td>\n",
       "    </tr>\n",
       "    <tr>\n",
       "      <th>5</th>\n",
       "      <td>Virginia</td>\n",
       "      <td>Hall</td>\n",
       "      <td>93995 Cohen Harbors Apt. 206\\nMartinhaven, CO ...</td>\n",
       "      <td>Bahraini dinar</td>\n",
       "      <td>ZWQRGB760TN</td>\n",
       "    </tr>\n",
       "    <tr>\n",
       "      <th>6</th>\n",
       "      <td>Curtis</td>\n",
       "      <td>Smith</td>\n",
       "      <td>08774 Lewis Trace\\nLake Linda, NY 03295</td>\n",
       "      <td>Zimbabwean dollar</td>\n",
       "      <td>LOFYGBZ37P5</td>\n",
       "    </tr>\n",
       "    <tr>\n",
       "      <th>7</th>\n",
       "      <td>Bianca</td>\n",
       "      <td>Williams</td>\n",
       "      <td>75081 Roberts Landing\\nAndrewchester, CT 40598</td>\n",
       "      <td>Venezuelan bolívar</td>\n",
       "      <td>KWFTGBR4</td>\n",
       "    </tr>\n",
       "    <tr>\n",
       "      <th>8</th>\n",
       "      <td>James</td>\n",
       "      <td>Rowe</td>\n",
       "      <td>67739 Adam Burg Suite 413\\nLeeshire, MO 94338</td>\n",
       "      <td>Burmese kyat</td>\n",
       "      <td>KWFTGBR4</td>\n",
       "    </tr>\n",
       "    <tr>\n",
       "      <th>9</th>\n",
       "      <td>Steven</td>\n",
       "      <td>Molina</td>\n",
       "      <td>1119 Davidson Forest\\nNorth Christinefort, AZ ...</td>\n",
       "      <td>Japanese yen</td>\n",
       "      <td>KWFTGBR4</td>\n",
       "    </tr>\n",
       "  </tbody>\n",
       "</table>\n",
       "</div>"
      ],
      "text/plain": [
       "  first_name   last_name                                            address  \\\n",
       "0      Tracy  Richardson    0310 Joshua Forks\\nPort Alexandraview, IL 08415   \n",
       "1     Rodney        Love  2301 Stephanie Burg Apt. 054\\nPort Sharon, HI ...   \n",
       "2    Heather        Cruz             00591 Rogers Burgs\\nShaneton, KS 99547   \n",
       "3    Richard      Howell         51072 Tucker Islands\\nPort Susan, KS 79940   \n",
       "4       Tara      Valdez                040 Evan Court\\nReidhaven, VT 04616   \n",
       "5   Virginia        Hall  93995 Cohen Harbors Apt. 206\\nMartinhaven, CO ...   \n",
       "6     Curtis       Smith            08774 Lewis Trace\\nLake Linda, NY 03295   \n",
       "7     Bianca    Williams     75081 Roberts Landing\\nAndrewchester, CT 40598   \n",
       "8      James        Rowe      67739 Adam Burg Suite 413\\nLeeshire, MO 94338   \n",
       "9     Steven      Molina  1119 Davidson Forest\\nNorth Christinefort, AZ ...   \n",
       "\n",
       "            default_currency      bank_id  \n",
       "0             Bahraini dinar     TBSVGBK1  \n",
       "1  Central African CFA franc     OZNXGB7X  \n",
       "2          Zimbabwean dollar     FKFEGB66  \n",
       "3           Hungarian forint  ZWQRGB760TN  \n",
       "4          Australian dollar  ZWQRGB760TN  \n",
       "5             Bahraini dinar  ZWQRGB760TN  \n",
       "6          Zimbabwean dollar  LOFYGBZ37P5  \n",
       "7         Venezuelan bolívar     KWFTGBR4  \n",
       "8               Burmese kyat     KWFTGBR4  \n",
       "9               Japanese yen     KWFTGBR4  "
      ]
     },
     "metadata": {},
     "output_type": "display_data"
    },
    {
     "data": {
      "text/html": [
       "<div>\n",
       "<style scoped>\n",
       "    .dataframe tbody tr th:only-of-type {\n",
       "        vertical-align: middle;\n",
       "    }\n",
       "\n",
       "    .dataframe tbody tr th {\n",
       "        vertical-align: top;\n",
       "    }\n",
       "\n",
       "    .dataframe thead th {\n",
       "        text-align: right;\n",
       "    }\n",
       "</style>\n",
       "<table border=\"1\" class=\"dataframe\">\n",
       "  <thead>\n",
       "    <tr style=\"text-align: right;\">\n",
       "      <th></th>\n",
       "      <th>first_name</th>\n",
       "      <th>last_name</th>\n",
       "      <th>address</th>\n",
       "      <th>default_currency</th>\n",
       "      <th>bank_id</th>\n",
       "    </tr>\n",
       "  </thead>\n",
       "  <tbody>\n",
       "    <tr>\n",
       "      <th>90</th>\n",
       "      <td>Christina</td>\n",
       "      <td>Smith</td>\n",
       "      <td>6697 Butler Avenue\\nAnthonyburgh, SD 46269</td>\n",
       "      <td>Zimbabwean dollar</td>\n",
       "      <td>ZXQLGB826RC</td>\n",
       "    </tr>\n",
       "    <tr>\n",
       "      <th>91</th>\n",
       "      <td>Javier</td>\n",
       "      <td>Vaughan</td>\n",
       "      <td>5015 White Shoals Apt. 447\\nKellymouth, WV 77571</td>\n",
       "      <td>Zimbabwean dollar</td>\n",
       "      <td>TBSVGBK1</td>\n",
       "    </tr>\n",
       "    <tr>\n",
       "      <th>92</th>\n",
       "      <td>Rhonda</td>\n",
       "      <td>Marshall</td>\n",
       "      <td>1821 Long Trafficway\\nLake Robertmouth, KY 63813</td>\n",
       "      <td>Japanese yen</td>\n",
       "      <td>OKMNGB7K9LP</td>\n",
       "    </tr>\n",
       "    <tr>\n",
       "      <th>93</th>\n",
       "      <td>Andrew</td>\n",
       "      <td>Jimenez</td>\n",
       "      <td>391 Gerald Springs Suite 040\\nStricklandfurt, ...</td>\n",
       "      <td>Sudanese pound</td>\n",
       "      <td>CLFXGBTQ</td>\n",
       "    </tr>\n",
       "    <tr>\n",
       "      <th>94</th>\n",
       "      <td>Ryan</td>\n",
       "      <td>Hunter</td>\n",
       "      <td>0424 James Flat Apt. 549\\nPort Erika, MS 77399</td>\n",
       "      <td>Australian dollar</td>\n",
       "      <td>OKMNGB7K9LP</td>\n",
       "    </tr>\n",
       "    <tr>\n",
       "      <th>95</th>\n",
       "      <td>David</td>\n",
       "      <td>Williams</td>\n",
       "      <td>4243 Oconnell Spring\\nClaytonmouth, IL 59846</td>\n",
       "      <td>Japanese yen</td>\n",
       "      <td>TBSVGBK1</td>\n",
       "    </tr>\n",
       "    <tr>\n",
       "      <th>96</th>\n",
       "      <td>Stacey</td>\n",
       "      <td>Norris</td>\n",
       "      <td>7493 Murray Roads Suite 437\\nJohnsonhaven, ME ...</td>\n",
       "      <td>Hungarian forint</td>\n",
       "      <td>TBSVGBK1</td>\n",
       "    </tr>\n",
       "    <tr>\n",
       "      <th>97</th>\n",
       "      <td>Jeff</td>\n",
       "      <td>Gillespie</td>\n",
       "      <td>12254 Diana Trace\\nNorth Vincenthaven, MA 66856</td>\n",
       "      <td>Cayman Islands dollar</td>\n",
       "      <td>OKMNGB7K9LP</td>\n",
       "    </tr>\n",
       "    <tr>\n",
       "      <th>98</th>\n",
       "      <td>Katelyn</td>\n",
       "      <td>Dickerson</td>\n",
       "      <td>777 Campbell Drive Suite 706\\nWhitebury, MD 68670</td>\n",
       "      <td>Cayman Islands dollar</td>\n",
       "      <td>ZWQRGB760TN</td>\n",
       "    </tr>\n",
       "    <tr>\n",
       "      <th>99</th>\n",
       "      <td>Robert</td>\n",
       "      <td>Wallace</td>\n",
       "      <td>PSC 5602, Box 5893\\nAPO AP 76458</td>\n",
       "      <td>Burmese kyat</td>\n",
       "      <td>FKFEGB66</td>\n",
       "    </tr>\n",
       "  </tbody>\n",
       "</table>\n",
       "</div>"
      ],
      "text/plain": [
       "   first_name  last_name                                            address  \\\n",
       "90  Christina      Smith         6697 Butler Avenue\\nAnthonyburgh, SD 46269   \n",
       "91     Javier    Vaughan   5015 White Shoals Apt. 447\\nKellymouth, WV 77571   \n",
       "92     Rhonda   Marshall   1821 Long Trafficway\\nLake Robertmouth, KY 63813   \n",
       "93     Andrew    Jimenez  391 Gerald Springs Suite 040\\nStricklandfurt, ...   \n",
       "94       Ryan     Hunter     0424 James Flat Apt. 549\\nPort Erika, MS 77399   \n",
       "95      David   Williams       4243 Oconnell Spring\\nClaytonmouth, IL 59846   \n",
       "96     Stacey     Norris  7493 Murray Roads Suite 437\\nJohnsonhaven, ME ...   \n",
       "97       Jeff  Gillespie    12254 Diana Trace\\nNorth Vincenthaven, MA 66856   \n",
       "98    Katelyn  Dickerson  777 Campbell Drive Suite 706\\nWhitebury, MD 68670   \n",
       "99     Robert    Wallace                   PSC 5602, Box 5893\\nAPO AP 76458   \n",
       "\n",
       "         default_currency      bank_id  \n",
       "90      Zimbabwean dollar  ZXQLGB826RC  \n",
       "91      Zimbabwean dollar     TBSVGBK1  \n",
       "92           Japanese yen  OKMNGB7K9LP  \n",
       "93         Sudanese pound     CLFXGBTQ  \n",
       "94      Australian dollar  OKMNGB7K9LP  \n",
       "95           Japanese yen     TBSVGBK1  \n",
       "96       Hungarian forint     TBSVGBK1  \n",
       "97  Cayman Islands dollar  OKMNGB7K9LP  \n",
       "98  Cayman Islands dollar  ZWQRGB760TN  \n",
       "99           Burmese kyat     FKFEGB66  "
      ]
     },
     "metadata": {},
     "output_type": "display_data"
    }
   ],
   "source": [
    "customer_data = []\n",
    "\n",
    "for _ in range(100):\n",
    "    customer_data.append({\n",
    "        \"first_name\": fake.first_name(),\n",
    "        \"last_name\": fake.last_name(),\n",
    "        \"address\": fake.address(),\n",
    "        \"default_currency\": random.choice(available_currencies),\n",
    "        \"bank_id\": random.choice(bank_data)[\"bank_id\"]\n",
    "    })\n",
    "\n",
    "customer_dataframe = pd.DataFrame(customer_data)\n",
    "display(customer_dataframe.head(10))\n",
    "display(customer_dataframe.tail(10))"
   ]
  },
  {
   "cell_type": "code",
   "execution_count": 38,
   "metadata": {},
   "outputs": [
    {
     "name": "stderr",
     "output_type": "stream",
     "text": [
      "<ipython-input-38-58c020335d01>:4: SADeprecationWarning: The Engine.table_names() method is deprecated and will be removed in a future release.  Please refer to Inspector.get_table_names(). (deprecated since: 1.4)\n",
      "  engine.table_names()\n"
     ]
    },
    {
     "data": {
      "text/plain": [
       "['banks', 'customers']"
      ]
     },
     "execution_count": 38,
     "metadata": {},
     "output_type": "execute_result"
    }
   ],
   "source": [
    "engine = sqlalchemy.create_engine(database_connection_string)\n",
    "bank_dataframe.to_sql('banks', engine, index=False, if_exists='replace')\n",
    "customer_dataframe.to_sql('customers', engine, index=False, if_exists='replace')\n",
    "engine.table_names()"
   ]
  },
  {
   "cell_type": "code",
   "execution_count": 39,
   "metadata": {},
   "outputs": [
    {
     "data": {
      "text/html": [
       "<div>\n",
       "<style scoped>\n",
       "    .dataframe tbody tr th:only-of-type {\n",
       "        vertical-align: middle;\n",
       "    }\n",
       "\n",
       "    .dataframe tbody tr th {\n",
       "        vertical-align: top;\n",
       "    }\n",
       "\n",
       "    .dataframe thead th {\n",
       "        text-align: right;\n",
       "    }\n",
       "</style>\n",
       "<table border=\"1\" class=\"dataframe\">\n",
       "  <thead>\n",
       "    <tr style=\"text-align: right;\">\n",
       "      <th></th>\n",
       "      <th>bank_id</th>\n",
       "      <th>bank_default_currency</th>\n",
       "      <th>first_name</th>\n",
       "      <th>last_name</th>\n",
       "      <th>address</th>\n",
       "      <th>default_currency</th>\n",
       "      <th>bank_id</th>\n",
       "    </tr>\n",
       "  </thead>\n",
       "  <tbody>\n",
       "    <tr>\n",
       "      <th>0</th>\n",
       "      <td>CLFXGBTQ</td>\n",
       "      <td>Bahraini dinar</td>\n",
       "      <td>Andre</td>\n",
       "      <td>Fowler</td>\n",
       "      <td>76574 Brown Road\\nLake Danny, CO 19208</td>\n",
       "      <td>Central African CFA franc</td>\n",
       "      <td>CLFXGBTQ</td>\n",
       "    </tr>\n",
       "    <tr>\n",
       "      <th>1</th>\n",
       "      <td>CLFXGBTQ</td>\n",
       "      <td>Bahraini dinar</td>\n",
       "      <td>Andrew</td>\n",
       "      <td>Jimenez</td>\n",
       "      <td>391 Gerald Springs Suite 040\\nStricklandfurt, ...</td>\n",
       "      <td>Sudanese pound</td>\n",
       "      <td>CLFXGBTQ</td>\n",
       "    </tr>\n",
       "    <tr>\n",
       "      <th>2</th>\n",
       "      <td>CLFXGBTQ</td>\n",
       "      <td>Bahraini dinar</td>\n",
       "      <td>Anthony</td>\n",
       "      <td>Hughes</td>\n",
       "      <td>800 David Well Apt. 314\\nDanielburgh, PA 40079</td>\n",
       "      <td>Central African CFA franc</td>\n",
       "      <td>CLFXGBTQ</td>\n",
       "    </tr>\n",
       "    <tr>\n",
       "      <th>3</th>\n",
       "      <td>CLFXGBTQ</td>\n",
       "      <td>Bahraini dinar</td>\n",
       "      <td>Barbara</td>\n",
       "      <td>Anderson</td>\n",
       "      <td>550 Nancy Causeway\\nWest Bryan, TX 64182</td>\n",
       "      <td>Zimbabwean dollar</td>\n",
       "      <td>CLFXGBTQ</td>\n",
       "    </tr>\n",
       "    <tr>\n",
       "      <th>4</th>\n",
       "      <td>CLFXGBTQ</td>\n",
       "      <td>Bahraini dinar</td>\n",
       "      <td>Briana</td>\n",
       "      <td>Dixon</td>\n",
       "      <td>5239 Megan Ridges Apt. 233\\nNew Christopherbor...</td>\n",
       "      <td>Venezuelan bolívar</td>\n",
       "      <td>CLFXGBTQ</td>\n",
       "    </tr>\n",
       "    <tr>\n",
       "      <th>5</th>\n",
       "      <td>CLFXGBTQ</td>\n",
       "      <td>Bahraini dinar</td>\n",
       "      <td>Janice</td>\n",
       "      <td>Roberts</td>\n",
       "      <td>USNS Lindsey\\nFPO AA 63966</td>\n",
       "      <td>Hungarian forint</td>\n",
       "      <td>CLFXGBTQ</td>\n",
       "    </tr>\n",
       "    <tr>\n",
       "      <th>6</th>\n",
       "      <td>CLFXGBTQ</td>\n",
       "      <td>Bahraini dinar</td>\n",
       "      <td>Jillian</td>\n",
       "      <td>Shelton</td>\n",
       "      <td>8068 Hall Estates\\nMoodyborough, IN 66285</td>\n",
       "      <td>Bahraini dinar</td>\n",
       "      <td>CLFXGBTQ</td>\n",
       "    </tr>\n",
       "    <tr>\n",
       "      <th>7</th>\n",
       "      <td>CLFXGBTQ</td>\n",
       "      <td>Bahraini dinar</td>\n",
       "      <td>Kevin</td>\n",
       "      <td>Greer</td>\n",
       "      <td>4183 Allen Vista Suite 238\\nEast Brenda, MO 35338</td>\n",
       "      <td>Australian dollar</td>\n",
       "      <td>CLFXGBTQ</td>\n",
       "    </tr>\n",
       "    <tr>\n",
       "      <th>8</th>\n",
       "      <td>CLFXGBTQ</td>\n",
       "      <td>Bahraini dinar</td>\n",
       "      <td>Kimberly</td>\n",
       "      <td>Gomez</td>\n",
       "      <td>9064 Teresa Plaza\\nCarrollview, NH 93840</td>\n",
       "      <td>Central African CFA franc</td>\n",
       "      <td>CLFXGBTQ</td>\n",
       "    </tr>\n",
       "    <tr>\n",
       "      <th>9</th>\n",
       "      <td>CLFXGBTQ</td>\n",
       "      <td>Bahraini dinar</td>\n",
       "      <td>Kyle</td>\n",
       "      <td>Butler</td>\n",
       "      <td>6264 Rose Ports Suite 819\\nWest Sarashire, VA ...</td>\n",
       "      <td>Cayman Islands dollar</td>\n",
       "      <td>CLFXGBTQ</td>\n",
       "    </tr>\n",
       "  </tbody>\n",
       "</table>\n",
       "</div>"
      ],
      "text/plain": [
       "    bank_id bank_default_currency first_name last_name  \\\n",
       "0  CLFXGBTQ        Bahraini dinar      Andre    Fowler   \n",
       "1  CLFXGBTQ        Bahraini dinar     Andrew   Jimenez   \n",
       "2  CLFXGBTQ        Bahraini dinar    Anthony    Hughes   \n",
       "3  CLFXGBTQ        Bahraini dinar    Barbara  Anderson   \n",
       "4  CLFXGBTQ        Bahraini dinar     Briana     Dixon   \n",
       "5  CLFXGBTQ        Bahraini dinar     Janice   Roberts   \n",
       "6  CLFXGBTQ        Bahraini dinar    Jillian   Shelton   \n",
       "7  CLFXGBTQ        Bahraini dinar      Kevin     Greer   \n",
       "8  CLFXGBTQ        Bahraini dinar   Kimberly     Gomez   \n",
       "9  CLFXGBTQ        Bahraini dinar       Kyle    Butler   \n",
       "\n",
       "                                             address  \\\n",
       "0             76574 Brown Road\\nLake Danny, CO 19208   \n",
       "1  391 Gerald Springs Suite 040\\nStricklandfurt, ...   \n",
       "2     800 David Well Apt. 314\\nDanielburgh, PA 40079   \n",
       "3           550 Nancy Causeway\\nWest Bryan, TX 64182   \n",
       "4  5239 Megan Ridges Apt. 233\\nNew Christopherbor...   \n",
       "5                         USNS Lindsey\\nFPO AA 63966   \n",
       "6          8068 Hall Estates\\nMoodyborough, IN 66285   \n",
       "7  4183 Allen Vista Suite 238\\nEast Brenda, MO 35338   \n",
       "8           9064 Teresa Plaza\\nCarrollview, NH 93840   \n",
       "9  6264 Rose Ports Suite 819\\nWest Sarashire, VA ...   \n",
       "\n",
       "            default_currency   bank_id  \n",
       "0  Central African CFA franc  CLFXGBTQ  \n",
       "1             Sudanese pound  CLFXGBTQ  \n",
       "2  Central African CFA franc  CLFXGBTQ  \n",
       "3          Zimbabwean dollar  CLFXGBTQ  \n",
       "4         Venezuelan bolívar  CLFXGBTQ  \n",
       "5           Hungarian forint  CLFXGBTQ  \n",
       "6             Bahraini dinar  CLFXGBTQ  \n",
       "7          Australian dollar  CLFXGBTQ  \n",
       "8  Central African CFA franc  CLFXGBTQ  \n",
       "9      Cayman Islands dollar  CLFXGBTQ  "
      ]
     },
     "metadata": {},
     "output_type": "display_data"
    },
    {
     "data": {
      "text/html": [
       "<div>\n",
       "<style scoped>\n",
       "    .dataframe tbody tr th:only-of-type {\n",
       "        vertical-align: middle;\n",
       "    }\n",
       "\n",
       "    .dataframe tbody tr th {\n",
       "        vertical-align: top;\n",
       "    }\n",
       "\n",
       "    .dataframe thead th {\n",
       "        text-align: right;\n",
       "    }\n",
       "</style>\n",
       "<table border=\"1\" class=\"dataframe\">\n",
       "  <thead>\n",
       "    <tr style=\"text-align: right;\">\n",
       "      <th></th>\n",
       "      <th>bank_id</th>\n",
       "      <th>bank_default_currency</th>\n",
       "      <th>first_name</th>\n",
       "      <th>last_name</th>\n",
       "      <th>address</th>\n",
       "      <th>default_currency</th>\n",
       "      <th>bank_id</th>\n",
       "    </tr>\n",
       "  </thead>\n",
       "  <tbody>\n",
       "    <tr>\n",
       "      <th>90</th>\n",
       "      <td>ZWQRGB760TN</td>\n",
       "      <td>Cayman Islands dollar</td>\n",
       "      <td>Kirsten</td>\n",
       "      <td>Cantrell</td>\n",
       "      <td>64714 Monique Lane\\nNew Wanda, NM 58528</td>\n",
       "      <td>Sudanese pound</td>\n",
       "      <td>ZWQRGB760TN</td>\n",
       "    </tr>\n",
       "    <tr>\n",
       "      <th>91</th>\n",
       "      <td>ZWQRGB760TN</td>\n",
       "      <td>Cayman Islands dollar</td>\n",
       "      <td>Larry</td>\n",
       "      <td>Barker</td>\n",
       "      <td>Unit 2821 Box 7432\\nDPO AA 92374</td>\n",
       "      <td>Burmese kyat</td>\n",
       "      <td>ZWQRGB760TN</td>\n",
       "    </tr>\n",
       "    <tr>\n",
       "      <th>92</th>\n",
       "      <td>ZWQRGB760TN</td>\n",
       "      <td>Cayman Islands dollar</td>\n",
       "      <td>Margaret</td>\n",
       "      <td>Nunez</td>\n",
       "      <td>93615 Sarah Cliff\\nEast Andrea, AL 91224</td>\n",
       "      <td>Burmese kyat</td>\n",
       "      <td>ZWQRGB760TN</td>\n",
       "    </tr>\n",
       "    <tr>\n",
       "      <th>93</th>\n",
       "      <td>ZWQRGB760TN</td>\n",
       "      <td>Cayman Islands dollar</td>\n",
       "      <td>Paula</td>\n",
       "      <td>Arnold</td>\n",
       "      <td>96800 Lee Islands\\nJessicaton, MA 24651</td>\n",
       "      <td>Burmese kyat</td>\n",
       "      <td>ZWQRGB760TN</td>\n",
       "    </tr>\n",
       "    <tr>\n",
       "      <th>94</th>\n",
       "      <td>ZWQRGB760TN</td>\n",
       "      <td>Cayman Islands dollar</td>\n",
       "      <td>Richard</td>\n",
       "      <td>Howell</td>\n",
       "      <td>51072 Tucker Islands\\nPort Susan, KS 79940</td>\n",
       "      <td>Hungarian forint</td>\n",
       "      <td>ZWQRGB760TN</td>\n",
       "    </tr>\n",
       "    <tr>\n",
       "      <th>95</th>\n",
       "      <td>ZWQRGB760TN</td>\n",
       "      <td>Cayman Islands dollar</td>\n",
       "      <td>Tammy</td>\n",
       "      <td>Garcia</td>\n",
       "      <td>608 Young Village\\nWeaverfort, FL 47663</td>\n",
       "      <td>Burmese kyat</td>\n",
       "      <td>ZWQRGB760TN</td>\n",
       "    </tr>\n",
       "    <tr>\n",
       "      <th>96</th>\n",
       "      <td>ZWQRGB760TN</td>\n",
       "      <td>Cayman Islands dollar</td>\n",
       "      <td>Tara</td>\n",
       "      <td>Keller</td>\n",
       "      <td>798 Davis Streets Suite 795\\nGabrielbury, SD 2...</td>\n",
       "      <td>Hungarian forint</td>\n",
       "      <td>ZWQRGB760TN</td>\n",
       "    </tr>\n",
       "    <tr>\n",
       "      <th>97</th>\n",
       "      <td>ZWQRGB760TN</td>\n",
       "      <td>Cayman Islands dollar</td>\n",
       "      <td>Tara</td>\n",
       "      <td>Valdez</td>\n",
       "      <td>040 Evan Court\\nReidhaven, VT 04616</td>\n",
       "      <td>Australian dollar</td>\n",
       "      <td>ZWQRGB760TN</td>\n",
       "    </tr>\n",
       "    <tr>\n",
       "      <th>98</th>\n",
       "      <td>ZWQRGB760TN</td>\n",
       "      <td>Cayman Islands dollar</td>\n",
       "      <td>Virginia</td>\n",
       "      <td>Hall</td>\n",
       "      <td>93995 Cohen Harbors Apt. 206\\nMartinhaven, CO ...</td>\n",
       "      <td>Bahraini dinar</td>\n",
       "      <td>ZWQRGB760TN</td>\n",
       "    </tr>\n",
       "    <tr>\n",
       "      <th>99</th>\n",
       "      <td>ZWQRGB760TN</td>\n",
       "      <td>Cayman Islands dollar</td>\n",
       "      <td>William</td>\n",
       "      <td>Meyer</td>\n",
       "      <td>734 Anthony Canyon\\nLake Donald, IA 70977</td>\n",
       "      <td>Sudanese pound</td>\n",
       "      <td>ZWQRGB760TN</td>\n",
       "    </tr>\n",
       "  </tbody>\n",
       "</table>\n",
       "</div>"
      ],
      "text/plain": [
       "        bank_id  bank_default_currency first_name last_name  \\\n",
       "90  ZWQRGB760TN  Cayman Islands dollar    Kirsten  Cantrell   \n",
       "91  ZWQRGB760TN  Cayman Islands dollar      Larry    Barker   \n",
       "92  ZWQRGB760TN  Cayman Islands dollar   Margaret     Nunez   \n",
       "93  ZWQRGB760TN  Cayman Islands dollar      Paula    Arnold   \n",
       "94  ZWQRGB760TN  Cayman Islands dollar    Richard    Howell   \n",
       "95  ZWQRGB760TN  Cayman Islands dollar      Tammy    Garcia   \n",
       "96  ZWQRGB760TN  Cayman Islands dollar       Tara    Keller   \n",
       "97  ZWQRGB760TN  Cayman Islands dollar       Tara    Valdez   \n",
       "98  ZWQRGB760TN  Cayman Islands dollar   Virginia      Hall   \n",
       "99  ZWQRGB760TN  Cayman Islands dollar    William     Meyer   \n",
       "\n",
       "                                              address   default_currency  \\\n",
       "90            64714 Monique Lane\\nNew Wanda, NM 58528     Sudanese pound   \n",
       "91                   Unit 2821 Box 7432\\nDPO AA 92374       Burmese kyat   \n",
       "92           93615 Sarah Cliff\\nEast Andrea, AL 91224       Burmese kyat   \n",
       "93            96800 Lee Islands\\nJessicaton, MA 24651       Burmese kyat   \n",
       "94         51072 Tucker Islands\\nPort Susan, KS 79940   Hungarian forint   \n",
       "95            608 Young Village\\nWeaverfort, FL 47663       Burmese kyat   \n",
       "96  798 Davis Streets Suite 795\\nGabrielbury, SD 2...   Hungarian forint   \n",
       "97                040 Evan Court\\nReidhaven, VT 04616  Australian dollar   \n",
       "98  93995 Cohen Harbors Apt. 206\\nMartinhaven, CO ...     Bahraini dinar   \n",
       "99          734 Anthony Canyon\\nLake Donald, IA 70977     Sudanese pound   \n",
       "\n",
       "        bank_id  \n",
       "90  ZWQRGB760TN  \n",
       "91  ZWQRGB760TN  \n",
       "92  ZWQRGB760TN  \n",
       "93  ZWQRGB760TN  \n",
       "94  ZWQRGB760TN  \n",
       "95  ZWQRGB760TN  \n",
       "96  ZWQRGB760TN  \n",
       "97  ZWQRGB760TN  \n",
       "98  ZWQRGB760TN  \n",
       "99  ZWQRGB760TN  "
      ]
     },
     "metadata": {},
     "output_type": "display_data"
    }
   ],
   "source": [
    "query = \"\"\"\n",
    "SELECT *\n",
    "FROM banks\n",
    "JOIN customers ON banks.bank_id = customers.bank_id;\n",
    "\"\"\"\n",
    "joined_df = pd.read_sql_query(query, con=engine)\n",
    "display(joined_df.head(10))\n",
    "display(joined_df.tail(10))"
   ]
  },
  {
   "cell_type": "code",
   "execution_count": 40,
   "metadata": {},
   "outputs": [
    {
     "data": {
      "text/html": [
       "<div>\n",
       "<style scoped>\n",
       "    .dataframe tbody tr th:only-of-type {\n",
       "        vertical-align: middle;\n",
       "    }\n",
       "\n",
       "    .dataframe tbody tr th {\n",
       "        vertical-align: top;\n",
       "    }\n",
       "\n",
       "    .dataframe thead th {\n",
       "        text-align: right;\n",
       "    }\n",
       "</style>\n",
       "<table border=\"1\" class=\"dataframe\">\n",
       "  <thead>\n",
       "    <tr style=\"text-align: right;\">\n",
       "      <th></th>\n",
       "      <th>bank_id</th>\n",
       "      <th>bank_default_currency</th>\n",
       "      <th>first_name</th>\n",
       "      <th>last_name</th>\n",
       "      <th>address</th>\n",
       "      <th>default_currency</th>\n",
       "      <th>bank_id</th>\n",
       "    </tr>\n",
       "  </thead>\n",
       "  <tbody>\n",
       "    <tr>\n",
       "      <th>0</th>\n",
       "      <td>CLFXGBTQ</td>\n",
       "      <td>Bahraini dinar</td>\n",
       "      <td>Andre</td>\n",
       "      <td>Fowler</td>\n",
       "      <td>76574 Brown Road\\nLake Danny, CO 19208</td>\n",
       "      <td>Central African CFA franc</td>\n",
       "      <td>CLFXGBTQ</td>\n",
       "    </tr>\n",
       "    <tr>\n",
       "      <th>1</th>\n",
       "      <td>CLFXGBTQ</td>\n",
       "      <td>Bahraini dinar</td>\n",
       "      <td>Andrew</td>\n",
       "      <td>Jimenez</td>\n",
       "      <td>391 Gerald Springs Suite 040\\nStricklandfurt, ...</td>\n",
       "      <td>Sudanese pound</td>\n",
       "      <td>CLFXGBTQ</td>\n",
       "    </tr>\n",
       "    <tr>\n",
       "      <th>2</th>\n",
       "      <td>CLFXGBTQ</td>\n",
       "      <td>Bahraini dinar</td>\n",
       "      <td>Anthony</td>\n",
       "      <td>Hughes</td>\n",
       "      <td>800 David Well Apt. 314\\nDanielburgh, PA 40079</td>\n",
       "      <td>Central African CFA franc</td>\n",
       "      <td>CLFXGBTQ</td>\n",
       "    </tr>\n",
       "    <tr>\n",
       "      <th>3</th>\n",
       "      <td>CLFXGBTQ</td>\n",
       "      <td>Bahraini dinar</td>\n",
       "      <td>Barbara</td>\n",
       "      <td>Anderson</td>\n",
       "      <td>550 Nancy Causeway\\nWest Bryan, TX 64182</td>\n",
       "      <td>Zimbabwean dollar</td>\n",
       "      <td>CLFXGBTQ</td>\n",
       "    </tr>\n",
       "    <tr>\n",
       "      <th>4</th>\n",
       "      <td>CLFXGBTQ</td>\n",
       "      <td>Bahraini dinar</td>\n",
       "      <td>Briana</td>\n",
       "      <td>Dixon</td>\n",
       "      <td>5239 Megan Ridges Apt. 233\\nNew Christopherbor...</td>\n",
       "      <td>Venezuelan bolívar</td>\n",
       "      <td>CLFXGBTQ</td>\n",
       "    </tr>\n",
       "    <tr>\n",
       "      <th>5</th>\n",
       "      <td>CLFXGBTQ</td>\n",
       "      <td>Bahraini dinar</td>\n",
       "      <td>Janice</td>\n",
       "      <td>Roberts</td>\n",
       "      <td>USNS Lindsey\\nFPO AA 63966</td>\n",
       "      <td>Hungarian forint</td>\n",
       "      <td>CLFXGBTQ</td>\n",
       "    </tr>\n",
       "    <tr>\n",
       "      <th>6</th>\n",
       "      <td>CLFXGBTQ</td>\n",
       "      <td>Bahraini dinar</td>\n",
       "      <td>Jillian</td>\n",
       "      <td>Shelton</td>\n",
       "      <td>8068 Hall Estates\\nMoodyborough, IN 66285</td>\n",
       "      <td>Bahraini dinar</td>\n",
       "      <td>CLFXGBTQ</td>\n",
       "    </tr>\n",
       "    <tr>\n",
       "      <th>7</th>\n",
       "      <td>CLFXGBTQ</td>\n",
       "      <td>Bahraini dinar</td>\n",
       "      <td>Kevin</td>\n",
       "      <td>Greer</td>\n",
       "      <td>4183 Allen Vista Suite 238\\nEast Brenda, MO 35338</td>\n",
       "      <td>Australian dollar</td>\n",
       "      <td>CLFXGBTQ</td>\n",
       "    </tr>\n",
       "    <tr>\n",
       "      <th>8</th>\n",
       "      <td>CLFXGBTQ</td>\n",
       "      <td>Bahraini dinar</td>\n",
       "      <td>Kimberly</td>\n",
       "      <td>Gomez</td>\n",
       "      <td>9064 Teresa Plaza\\nCarrollview, NH 93840</td>\n",
       "      <td>Central African CFA franc</td>\n",
       "      <td>CLFXGBTQ</td>\n",
       "    </tr>\n",
       "    <tr>\n",
       "      <th>9</th>\n",
       "      <td>CLFXGBTQ</td>\n",
       "      <td>Bahraini dinar</td>\n",
       "      <td>Kyle</td>\n",
       "      <td>Butler</td>\n",
       "      <td>6264 Rose Ports Suite 819\\nWest Sarashire, VA ...</td>\n",
       "      <td>Cayman Islands dollar</td>\n",
       "      <td>CLFXGBTQ</td>\n",
       "    </tr>\n",
       "  </tbody>\n",
       "</table>\n",
       "</div>"
      ],
      "text/plain": [
       "    bank_id bank_default_currency first_name last_name  \\\n",
       "0  CLFXGBTQ        Bahraini dinar      Andre    Fowler   \n",
       "1  CLFXGBTQ        Bahraini dinar     Andrew   Jimenez   \n",
       "2  CLFXGBTQ        Bahraini dinar    Anthony    Hughes   \n",
       "3  CLFXGBTQ        Bahraini dinar    Barbara  Anderson   \n",
       "4  CLFXGBTQ        Bahraini dinar     Briana     Dixon   \n",
       "5  CLFXGBTQ        Bahraini dinar     Janice   Roberts   \n",
       "6  CLFXGBTQ        Bahraini dinar    Jillian   Shelton   \n",
       "7  CLFXGBTQ        Bahraini dinar      Kevin     Greer   \n",
       "8  CLFXGBTQ        Bahraini dinar   Kimberly     Gomez   \n",
       "9  CLFXGBTQ        Bahraini dinar       Kyle    Butler   \n",
       "\n",
       "                                             address  \\\n",
       "0             76574 Brown Road\\nLake Danny, CO 19208   \n",
       "1  391 Gerald Springs Suite 040\\nStricklandfurt, ...   \n",
       "2     800 David Well Apt. 314\\nDanielburgh, PA 40079   \n",
       "3           550 Nancy Causeway\\nWest Bryan, TX 64182   \n",
       "4  5239 Megan Ridges Apt. 233\\nNew Christopherbor...   \n",
       "5                         USNS Lindsey\\nFPO AA 63966   \n",
       "6          8068 Hall Estates\\nMoodyborough, IN 66285   \n",
       "7  4183 Allen Vista Suite 238\\nEast Brenda, MO 35338   \n",
       "8           9064 Teresa Plaza\\nCarrollview, NH 93840   \n",
       "9  6264 Rose Ports Suite 819\\nWest Sarashire, VA ...   \n",
       "\n",
       "            default_currency   bank_id  \n",
       "0  Central African CFA franc  CLFXGBTQ  \n",
       "1             Sudanese pound  CLFXGBTQ  \n",
       "2  Central African CFA franc  CLFXGBTQ  \n",
       "3          Zimbabwean dollar  CLFXGBTQ  \n",
       "4         Venezuelan bolívar  CLFXGBTQ  \n",
       "5           Hungarian forint  CLFXGBTQ  \n",
       "6             Bahraini dinar  CLFXGBTQ  \n",
       "7          Australian dollar  CLFXGBTQ  \n",
       "8  Central African CFA franc  CLFXGBTQ  \n",
       "9      Cayman Islands dollar  CLFXGBTQ  "
      ]
     },
     "metadata": {},
     "output_type": "display_data"
    },
    {
     "data": {
      "text/html": [
       "<div>\n",
       "<style scoped>\n",
       "    .dataframe tbody tr th:only-of-type {\n",
       "        vertical-align: middle;\n",
       "    }\n",
       "\n",
       "    .dataframe tbody tr th {\n",
       "        vertical-align: top;\n",
       "    }\n",
       "\n",
       "    .dataframe thead th {\n",
       "        text-align: right;\n",
       "    }\n",
       "</style>\n",
       "<table border=\"1\" class=\"dataframe\">\n",
       "  <thead>\n",
       "    <tr style=\"text-align: right;\">\n",
       "      <th></th>\n",
       "      <th>bank_id</th>\n",
       "      <th>bank_default_currency</th>\n",
       "      <th>first_name</th>\n",
       "      <th>last_name</th>\n",
       "      <th>address</th>\n",
       "      <th>default_currency</th>\n",
       "      <th>bank_id</th>\n",
       "    </tr>\n",
       "  </thead>\n",
       "  <tbody>\n",
       "    <tr>\n",
       "      <th>90</th>\n",
       "      <td>ZWQRGB760TN</td>\n",
       "      <td>Cayman Islands dollar</td>\n",
       "      <td>Kirsten</td>\n",
       "      <td>Cantrell</td>\n",
       "      <td>64714 Monique Lane\\nNew Wanda, NM 58528</td>\n",
       "      <td>Sudanese pound</td>\n",
       "      <td>ZWQRGB760TN</td>\n",
       "    </tr>\n",
       "    <tr>\n",
       "      <th>91</th>\n",
       "      <td>ZWQRGB760TN</td>\n",
       "      <td>Cayman Islands dollar</td>\n",
       "      <td>Larry</td>\n",
       "      <td>Barker</td>\n",
       "      <td>Unit 2821 Box 7432\\nDPO AA 92374</td>\n",
       "      <td>Burmese kyat</td>\n",
       "      <td>ZWQRGB760TN</td>\n",
       "    </tr>\n",
       "    <tr>\n",
       "      <th>92</th>\n",
       "      <td>ZWQRGB760TN</td>\n",
       "      <td>Cayman Islands dollar</td>\n",
       "      <td>Margaret</td>\n",
       "      <td>Nunez</td>\n",
       "      <td>93615 Sarah Cliff\\nEast Andrea, AL 91224</td>\n",
       "      <td>Burmese kyat</td>\n",
       "      <td>ZWQRGB760TN</td>\n",
       "    </tr>\n",
       "    <tr>\n",
       "      <th>93</th>\n",
       "      <td>ZWQRGB760TN</td>\n",
       "      <td>Cayman Islands dollar</td>\n",
       "      <td>Paula</td>\n",
       "      <td>Arnold</td>\n",
       "      <td>96800 Lee Islands\\nJessicaton, MA 24651</td>\n",
       "      <td>Burmese kyat</td>\n",
       "      <td>ZWQRGB760TN</td>\n",
       "    </tr>\n",
       "    <tr>\n",
       "      <th>94</th>\n",
       "      <td>ZWQRGB760TN</td>\n",
       "      <td>Cayman Islands dollar</td>\n",
       "      <td>Richard</td>\n",
       "      <td>Howell</td>\n",
       "      <td>51072 Tucker Islands\\nPort Susan, KS 79940</td>\n",
       "      <td>Hungarian forint</td>\n",
       "      <td>ZWQRGB760TN</td>\n",
       "    </tr>\n",
       "    <tr>\n",
       "      <th>95</th>\n",
       "      <td>ZWQRGB760TN</td>\n",
       "      <td>Cayman Islands dollar</td>\n",
       "      <td>Tammy</td>\n",
       "      <td>Garcia</td>\n",
       "      <td>608 Young Village\\nWeaverfort, FL 47663</td>\n",
       "      <td>Burmese kyat</td>\n",
       "      <td>ZWQRGB760TN</td>\n",
       "    </tr>\n",
       "    <tr>\n",
       "      <th>96</th>\n",
       "      <td>ZWQRGB760TN</td>\n",
       "      <td>Cayman Islands dollar</td>\n",
       "      <td>Tara</td>\n",
       "      <td>Keller</td>\n",
       "      <td>798 Davis Streets Suite 795\\nGabrielbury, SD 2...</td>\n",
       "      <td>Hungarian forint</td>\n",
       "      <td>ZWQRGB760TN</td>\n",
       "    </tr>\n",
       "    <tr>\n",
       "      <th>97</th>\n",
       "      <td>ZWQRGB760TN</td>\n",
       "      <td>Cayman Islands dollar</td>\n",
       "      <td>Tara</td>\n",
       "      <td>Valdez</td>\n",
       "      <td>040 Evan Court\\nReidhaven, VT 04616</td>\n",
       "      <td>Australian dollar</td>\n",
       "      <td>ZWQRGB760TN</td>\n",
       "    </tr>\n",
       "    <tr>\n",
       "      <th>98</th>\n",
       "      <td>ZWQRGB760TN</td>\n",
       "      <td>Cayman Islands dollar</td>\n",
       "      <td>Virginia</td>\n",
       "      <td>Hall</td>\n",
       "      <td>93995 Cohen Harbors Apt. 206\\nMartinhaven, CO ...</td>\n",
       "      <td>Bahraini dinar</td>\n",
       "      <td>ZWQRGB760TN</td>\n",
       "    </tr>\n",
       "    <tr>\n",
       "      <th>99</th>\n",
       "      <td>ZWQRGB760TN</td>\n",
       "      <td>Cayman Islands dollar</td>\n",
       "      <td>William</td>\n",
       "      <td>Meyer</td>\n",
       "      <td>734 Anthony Canyon\\nLake Donald, IA 70977</td>\n",
       "      <td>Sudanese pound</td>\n",
       "      <td>ZWQRGB760TN</td>\n",
       "    </tr>\n",
       "  </tbody>\n",
       "</table>\n",
       "</div>"
      ],
      "text/plain": [
       "        bank_id  bank_default_currency first_name last_name  \\\n",
       "90  ZWQRGB760TN  Cayman Islands dollar    Kirsten  Cantrell   \n",
       "91  ZWQRGB760TN  Cayman Islands dollar      Larry    Barker   \n",
       "92  ZWQRGB760TN  Cayman Islands dollar   Margaret     Nunez   \n",
       "93  ZWQRGB760TN  Cayman Islands dollar      Paula    Arnold   \n",
       "94  ZWQRGB760TN  Cayman Islands dollar    Richard    Howell   \n",
       "95  ZWQRGB760TN  Cayman Islands dollar      Tammy    Garcia   \n",
       "96  ZWQRGB760TN  Cayman Islands dollar       Tara    Keller   \n",
       "97  ZWQRGB760TN  Cayman Islands dollar       Tara    Valdez   \n",
       "98  ZWQRGB760TN  Cayman Islands dollar   Virginia      Hall   \n",
       "99  ZWQRGB760TN  Cayman Islands dollar    William     Meyer   \n",
       "\n",
       "                                              address   default_currency  \\\n",
       "90            64714 Monique Lane\\nNew Wanda, NM 58528     Sudanese pound   \n",
       "91                   Unit 2821 Box 7432\\nDPO AA 92374       Burmese kyat   \n",
       "92           93615 Sarah Cliff\\nEast Andrea, AL 91224       Burmese kyat   \n",
       "93            96800 Lee Islands\\nJessicaton, MA 24651       Burmese kyat   \n",
       "94         51072 Tucker Islands\\nPort Susan, KS 79940   Hungarian forint   \n",
       "95            608 Young Village\\nWeaverfort, FL 47663       Burmese kyat   \n",
       "96  798 Davis Streets Suite 795\\nGabrielbury, SD 2...   Hungarian forint   \n",
       "97                040 Evan Court\\nReidhaven, VT 04616  Australian dollar   \n",
       "98  93995 Cohen Harbors Apt. 206\\nMartinhaven, CO ...     Bahraini dinar   \n",
       "99          734 Anthony Canyon\\nLake Donald, IA 70977     Sudanese pound   \n",
       "\n",
       "        bank_id  \n",
       "90  ZWQRGB760TN  \n",
       "91  ZWQRGB760TN  \n",
       "92  ZWQRGB760TN  \n",
       "93  ZWQRGB760TN  \n",
       "94  ZWQRGB760TN  \n",
       "95  ZWQRGB760TN  \n",
       "96  ZWQRGB760TN  \n",
       "97  ZWQRGB760TN  \n",
       "98  ZWQRGB760TN  \n",
       "99  ZWQRGB760TN  "
      ]
     },
     "metadata": {},
     "output_type": "display_data"
    }
   ],
   "source": [
    "query = \"\"\"\n",
    "SELECT *\n",
    "FROM banks\n",
    "LEFT JOIN customers ON banks.bank_id = customers.bank_id;\n",
    "\"\"\"\n",
    "\n",
    "left_join_df = pd.read_sql_query(query, con=engine)\n",
    "display(left_join_df.head(10))\n",
    "display(left_join_df.tail(10))"
   ]
  },
  {
   "cell_type": "code",
   "execution_count": 41,
   "metadata": {},
   "outputs": [
    {
     "data": {
      "text/html": [
       "<div>\n",
       "<style scoped>\n",
       "    .dataframe tbody tr th:only-of-type {\n",
       "        vertical-align: middle;\n",
       "    }\n",
       "\n",
       "    .dataframe tbody tr th {\n",
       "        vertical-align: top;\n",
       "    }\n",
       "\n",
       "    .dataframe thead th {\n",
       "        text-align: right;\n",
       "    }\n",
       "</style>\n",
       "<table border=\"1\" class=\"dataframe\">\n",
       "  <thead>\n",
       "    <tr style=\"text-align: right;\">\n",
       "      <th></th>\n",
       "      <th>bank_id</th>\n",
       "      <th>bank_default_currency</th>\n",
       "      <th>first_name</th>\n",
       "      <th>last_name</th>\n",
       "      <th>address</th>\n",
       "      <th>default_currency</th>\n",
       "      <th>bank_id</th>\n",
       "    </tr>\n",
       "  </thead>\n",
       "  <tbody>\n",
       "    <tr>\n",
       "      <th>0</th>\n",
       "      <td>CLFXGBTQ</td>\n",
       "      <td>Bahraini dinar</td>\n",
       "      <td>Jillian</td>\n",
       "      <td>Shelton</td>\n",
       "      <td>8068 Hall Estates\\nMoodyborough, IN 66285</td>\n",
       "      <td>Bahraini dinar</td>\n",
       "      <td>CLFXGBTQ</td>\n",
       "    </tr>\n",
       "    <tr>\n",
       "      <th>1</th>\n",
       "      <td>CLFXGBTQ</td>\n",
       "      <td>Bahraini dinar</td>\n",
       "      <td>Michael</td>\n",
       "      <td>Singleton</td>\n",
       "      <td>821 Ashley Tunnel Apt. 512\\nClarkton, MA 56756</td>\n",
       "      <td>Bahraini dinar</td>\n",
       "      <td>CLFXGBTQ</td>\n",
       "    </tr>\n",
       "    <tr>\n",
       "      <th>2</th>\n",
       "      <td>TBSVGBK1</td>\n",
       "      <td>Central African CFA franc</td>\n",
       "      <td>William</td>\n",
       "      <td>Morse</td>\n",
       "      <td>Unit 9252 Box 6348\\nDPO AE 99107</td>\n",
       "      <td>Central African CFA franc</td>\n",
       "      <td>TBSVGBK1</td>\n",
       "    </tr>\n",
       "    <tr>\n",
       "      <th>3</th>\n",
       "      <td>ZXQLGB826RC</td>\n",
       "      <td>Zimbabwean dollar</td>\n",
       "      <td>Christina</td>\n",
       "      <td>Smith</td>\n",
       "      <td>6697 Butler Avenue\\nAnthonyburgh, SD 46269</td>\n",
       "      <td>Zimbabwean dollar</td>\n",
       "      <td>ZXQLGB826RC</td>\n",
       "    </tr>\n",
       "    <tr>\n",
       "      <th>4</th>\n",
       "      <td>ZXQLGB826RC</td>\n",
       "      <td>Zimbabwean dollar</td>\n",
       "      <td>Christopher</td>\n",
       "      <td>Flowers</td>\n",
       "      <td>91852 John Motorway\\nBryantmouth, AR 45639</td>\n",
       "      <td>Zimbabwean dollar</td>\n",
       "      <td>ZXQLGB826RC</td>\n",
       "    </tr>\n",
       "  </tbody>\n",
       "</table>\n",
       "</div>"
      ],
      "text/plain": [
       "       bank_id      bank_default_currency   first_name  last_name  \\\n",
       "0     CLFXGBTQ             Bahraini dinar      Jillian    Shelton   \n",
       "1     CLFXGBTQ             Bahraini dinar      Michael  Singleton   \n",
       "2     TBSVGBK1  Central African CFA franc      William      Morse   \n",
       "3  ZXQLGB826RC          Zimbabwean dollar    Christina      Smith   \n",
       "4  ZXQLGB826RC          Zimbabwean dollar  Christopher    Flowers   \n",
       "\n",
       "                                          address           default_currency  \\\n",
       "0       8068 Hall Estates\\nMoodyborough, IN 66285             Bahraini dinar   \n",
       "1  821 Ashley Tunnel Apt. 512\\nClarkton, MA 56756             Bahraini dinar   \n",
       "2                Unit 9252 Box 6348\\nDPO AE 99107  Central African CFA franc   \n",
       "3      6697 Butler Avenue\\nAnthonyburgh, SD 46269          Zimbabwean dollar   \n",
       "4      91852 John Motorway\\nBryantmouth, AR 45639          Zimbabwean dollar   \n",
       "\n",
       "       bank_id  \n",
       "0     CLFXGBTQ  \n",
       "1     CLFXGBTQ  \n",
       "2     TBSVGBK1  \n",
       "3  ZXQLGB826RC  \n",
       "4  ZXQLGB826RC  "
      ]
     },
     "metadata": {},
     "output_type": "display_data"
    },
    {
     "data": {
      "text/html": [
       "<div>\n",
       "<style scoped>\n",
       "    .dataframe tbody tr th:only-of-type {\n",
       "        vertical-align: middle;\n",
       "    }\n",
       "\n",
       "    .dataframe tbody tr th {\n",
       "        vertical-align: top;\n",
       "    }\n",
       "\n",
       "    .dataframe thead th {\n",
       "        text-align: right;\n",
       "    }\n",
       "</style>\n",
       "<table border=\"1\" class=\"dataframe\">\n",
       "  <thead>\n",
       "    <tr style=\"text-align: right;\">\n",
       "      <th></th>\n",
       "      <th>bank_id</th>\n",
       "      <th>bank_default_currency</th>\n",
       "      <th>first_name</th>\n",
       "      <th>last_name</th>\n",
       "      <th>address</th>\n",
       "      <th>default_currency</th>\n",
       "      <th>bank_id</th>\n",
       "    </tr>\n",
       "  </thead>\n",
       "  <tbody>\n",
       "    <tr>\n",
       "      <th>9</th>\n",
       "      <td>LOFYGBZ37P5</td>\n",
       "      <td>Venezuelan bolívar</td>\n",
       "      <td>Nicole</td>\n",
       "      <td>Rivera</td>\n",
       "      <td>28615 Jennifer Glens Apt. 273\\nBaxterstad, WV ...</td>\n",
       "      <td>Venezuelan bolívar</td>\n",
       "      <td>LOFYGBZ37P5</td>\n",
       "    </tr>\n",
       "    <tr>\n",
       "      <th>10</th>\n",
       "      <td>QQZLGB33W93</td>\n",
       "      <td>Japanese yen</td>\n",
       "      <td>Joseph</td>\n",
       "      <td>Rose</td>\n",
       "      <td>62810 Jason Lock Apt. 204\\nFernandezbury, FL 7...</td>\n",
       "      <td>Japanese yen</td>\n",
       "      <td>QQZLGB33W93</td>\n",
       "    </tr>\n",
       "    <tr>\n",
       "      <th>11</th>\n",
       "      <td>KWFTGBR4</td>\n",
       "      <td>Sudanese pound</td>\n",
       "      <td>Bryan</td>\n",
       "      <td>Rodriguez</td>\n",
       "      <td>3551 Ellis Expressway Suite 747\\nLake Scott, I...</td>\n",
       "      <td>Sudanese pound</td>\n",
       "      <td>KWFTGBR4</td>\n",
       "    </tr>\n",
       "    <tr>\n",
       "      <th>12</th>\n",
       "      <td>KWFTGBR4</td>\n",
       "      <td>Sudanese pound</td>\n",
       "      <td>Thomas</td>\n",
       "      <td>James</td>\n",
       "      <td>88198 Brian Station\\nMoraleshaven, CT 48270</td>\n",
       "      <td>Sudanese pound</td>\n",
       "      <td>KWFTGBR4</td>\n",
       "    </tr>\n",
       "    <tr>\n",
       "      <th>13</th>\n",
       "      <td>ZWQRGB760TN</td>\n",
       "      <td>Cayman Islands dollar</td>\n",
       "      <td>Katelyn</td>\n",
       "      <td>Dickerson</td>\n",
       "      <td>777 Campbell Drive Suite 706\\nWhitebury, MD 68670</td>\n",
       "      <td>Cayman Islands dollar</td>\n",
       "      <td>ZWQRGB760TN</td>\n",
       "    </tr>\n",
       "  </tbody>\n",
       "</table>\n",
       "</div>"
      ],
      "text/plain": [
       "        bank_id  bank_default_currency first_name  last_name  \\\n",
       "9   LOFYGBZ37P5     Venezuelan bolívar     Nicole     Rivera   \n",
       "10  QQZLGB33W93           Japanese yen     Joseph       Rose   \n",
       "11     KWFTGBR4         Sudanese pound      Bryan  Rodriguez   \n",
       "12     KWFTGBR4         Sudanese pound     Thomas      James   \n",
       "13  ZWQRGB760TN  Cayman Islands dollar    Katelyn  Dickerson   \n",
       "\n",
       "                                              address       default_currency  \\\n",
       "9   28615 Jennifer Glens Apt. 273\\nBaxterstad, WV ...     Venezuelan bolívar   \n",
       "10  62810 Jason Lock Apt. 204\\nFernandezbury, FL 7...           Japanese yen   \n",
       "11  3551 Ellis Expressway Suite 747\\nLake Scott, I...         Sudanese pound   \n",
       "12        88198 Brian Station\\nMoraleshaven, CT 48270         Sudanese pound   \n",
       "13  777 Campbell Drive Suite 706\\nWhitebury, MD 68670  Cayman Islands dollar   \n",
       "\n",
       "        bank_id  \n",
       "9   LOFYGBZ37P5  \n",
       "10  QQZLGB33W93  \n",
       "11     KWFTGBR4  \n",
       "12     KWFTGBR4  \n",
       "13  ZWQRGB760TN  "
      ]
     },
     "metadata": {},
     "output_type": "display_data"
    }
   ],
   "source": [
    "query = \"\"\"\n",
    "SELECT *\n",
    "FROM banks\n",
    "JOIN customers ON banks.bank_id = customers.bank_id\n",
    "WHERE banks.bank_default_currency = customers.default_currency;\n",
    "\"\"\"\n",
    "\n",
    "join_where_df = pd.read_sql_query(query, con=engine)\n",
    "display(join_where_df.head())\n",
    "display(join_where_df.tail())"
   ]
  },
  {
   "cell_type": "code",
   "execution_count": null,
   "metadata": {},
   "outputs": [],
   "source": []
  }
 ],
 "metadata": {
  "kernelspec": {
   "display_name": "Python 3",
   "language": "python",
   "name": "python3"
  },
  "language_info": {
   "codemirror_mode": {
    "name": "ipython",
    "version": 3
   },
   "file_extension": ".py",
   "mimetype": "text/x-python",
   "name": "python",
   "nbconvert_exporter": "python",
   "pygments_lexer": "ipython3",
   "version": "3.8.3"
  }
 },
 "nbformat": 4,
 "nbformat_minor": 4
}
