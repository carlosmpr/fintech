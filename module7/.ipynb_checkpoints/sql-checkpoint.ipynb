{
 "cells": [
  {
   "cell_type": "markdown",
   "metadata": {},
   "source": [
    "# Introduction to SQL"
   ]
  },
  {
   "cell_type": "code",
   "execution_count": 1,
   "metadata": {},
   "outputs": [],
   "source": [
    "import pandas as pd\n",
    "import sqlalchemy"
   ]
  },
  {
   "cell_type": "markdown",
   "metadata": {},
   "source": [
    "Create a Database Engine\n",
    "An engine is a tool that can communicate with our database. Think of it as a smart connection that knows the dialect, or type, of database that we have and how to connect and interact with it.\n",
    "\n",
    "First, we need to define a connection string to connect to our database. The connection string tells the engine the type of database that we’re using and other important connection details, like a password, server name, port number, or IP address.\n",
    "\n"
   ]
  },
  {
   "cell_type": "code",
   "execution_count": 2,
   "metadata": {},
   "outputs": [
    {
     "data": {
      "text/plain": [
       "Engine(sqlite:///)"
      ]
     },
     "execution_count": 2,
     "metadata": {},
     "output_type": "execute_result"
    }
   ],
   "source": [
    "# Create a temporary sqlite database\n",
    "database_connection_string = 'sqlite:///'\n",
    "engine = sqlalchemy.create_engine(database_connection_string)\n",
    "engine"
   ]
  },
  {
   "cell_type": "code",
   "execution_count": 3,
   "metadata": {},
   "outputs": [
    {
     "name": "stderr",
     "output_type": "stream",
     "text": [
      "<ipython-input-3-d72bc75a6b62>:1: SADeprecationWarning: The Engine.table_names() method is deprecated and will be removed in a future release.  Please refer to Inspector.get_table_names(). (deprecated since: 1.4)\n",
      "  engine.table_names()\n"
     ]
    },
    {
     "data": {
      "text/plain": [
       "[]"
      ]
     },
     "execution_count": 3,
     "metadata": {},
     "output_type": "execute_result"
    }
   ],
   "source": [
    "engine.table_names()"
   ]
  },
  {
   "cell_type": "code",
   "execution_count": 4,
   "metadata": {},
   "outputs": [
    {
     "data": {
      "text/html": [
       "<div>\n",
       "<style scoped>\n",
       "    .dataframe tbody tr th:only-of-type {\n",
       "        vertical-align: middle;\n",
       "    }\n",
       "\n",
       "    .dataframe tbody tr th {\n",
       "        vertical-align: top;\n",
       "    }\n",
       "\n",
       "    .dataframe thead th {\n",
       "        text-align: right;\n",
       "    }\n",
       "</style>\n",
       "<table border=\"1\" class=\"dataframe\">\n",
       "  <thead>\n",
       "    <tr style=\"text-align: right;\">\n",
       "      <th></th>\n",
       "      <th>AAPL</th>\n",
       "      <th>GOOG</th>\n",
       "    </tr>\n",
       "  </thead>\n",
       "  <tbody>\n",
       "    <tr>\n",
       "      <th>0</th>\n",
       "      <td>1</td>\n",
       "      <td>3</td>\n",
       "    </tr>\n",
       "    <tr>\n",
       "      <th>1</th>\n",
       "      <td>2</td>\n",
       "      <td>4</td>\n",
       "    </tr>\n",
       "  </tbody>\n",
       "</table>\n",
       "</div>"
      ],
      "text/plain": [
       "   AAPL  GOOG\n",
       "0     1     3\n",
       "1     2     4"
      ]
     },
     "execution_count": 4,
     "metadata": {},
     "output_type": "execute_result"
    }
   ],
   "source": [
    "stocks_dataframe = pd.DataFrame({'AAPL': [1, 2], 'GOOG': [3, 4]})\n",
    "stocks_dataframe"
   ]
  },
  {
   "cell_type": "code",
   "execution_count": 9,
   "metadata": {},
   "outputs": [
    {
     "data": {
      "text/plain": [
       "2"
      ]
     },
     "execution_count": 9,
     "metadata": {},
     "output_type": "execute_result"
    }
   ],
   "source": [
    "stocks_dataframe.to_sql('stocks', engine,  index=False, if_exists='replace')\n",
    "\n"
   ]
  },
  {
   "cell_type": "code",
   "execution_count": 7,
   "metadata": {},
   "outputs": [
    {
     "name": "stderr",
     "output_type": "stream",
     "text": [
      "<ipython-input-7-d72bc75a6b62>:1: SADeprecationWarning: The Engine.table_names() method is deprecated and will be removed in a future release.  Please refer to Inspector.get_table_names(). (deprecated since: 1.4)\n",
      "  engine.table_names()\n"
     ]
    },
    {
     "data": {
      "text/plain": [
       "['stocks']"
      ]
     },
     "execution_count": 7,
     "metadata": {},
     "output_type": "execute_result"
    }
   ],
   "source": [
    "engine.table_names()"
   ]
  },
  {
   "cell_type": "markdown",
   "metadata": {},
   "source": [
    "Do you wonder where the database is and how to get data from it? Currently, your SQLite database resides in your computer’s memory—but only temporarily. As soon as you close your Jupyter notebook, the database will disappear. If you want to save the database to access it in the future, you can specify a file name, such as sqlite:///mydatabase.db. This will save the database information to a file named mydatabase.db, which will reside on your computer's hard drive. But for now, it’s easier to use the temporary in-memory database, sqlite:///."
   ]
  },
  {
   "cell_type": "code",
   "execution_count": 11,
   "metadata": {},
   "outputs": [
    {
     "data": {
      "text/html": [
       "<div>\n",
       "<style scoped>\n",
       "    .dataframe tbody tr th:only-of-type {\n",
       "        vertical-align: middle;\n",
       "    }\n",
       "\n",
       "    .dataframe tbody tr th {\n",
       "        vertical-align: top;\n",
       "    }\n",
       "\n",
       "    .dataframe thead th {\n",
       "        text-align: right;\n",
       "    }\n",
       "</style>\n",
       "<table border=\"1\" class=\"dataframe\">\n",
       "  <thead>\n",
       "    <tr style=\"text-align: right;\">\n",
       "      <th></th>\n",
       "      <th>AAPL</th>\n",
       "      <th>GOOG</th>\n",
       "    </tr>\n",
       "  </thead>\n",
       "  <tbody>\n",
       "    <tr>\n",
       "      <th>0</th>\n",
       "      <td>1</td>\n",
       "      <td>3</td>\n",
       "    </tr>\n",
       "    <tr>\n",
       "      <th>1</th>\n",
       "      <td>2</td>\n",
       "      <td>4</td>\n",
       "    </tr>\n",
       "  </tbody>\n",
       "</table>\n",
       "</div>"
      ],
      "text/plain": [
       "   AAPL  GOOG\n",
       "0     1     3\n",
       "1     2     4"
      ]
     },
     "execution_count": 11,
     "metadata": {},
     "output_type": "execute_result"
    }
   ],
   "source": [
    "sql_stocks_df = pd.read_sql_table('stocks', con=engine)\n",
    "sql_stocks_df"
   ]
  },
  {
   "cell_type": "code",
   "execution_count": 12,
   "metadata": {},
   "outputs": [],
   "source": [
    "database_connection_string = 'sqlite:///'\n",
    "# Create the database engine\n",
    "engine = sqlalchemy.create_engine(\n",
    "    database_connection_string,\n",
    "    echo=True\n",
    ")"
   ]
  },
  {
   "cell_type": "code",
   "execution_count": 13,
   "metadata": {},
   "outputs": [
    {
     "name": "stdout",
     "output_type": "stream",
     "text": [
      "2022-05-05 08:21:16,119 INFO sqlalchemy.engine.Engine PRAGMA main.table_info(\"stocks\")\n",
      "2022-05-05 08:21:16,120 INFO sqlalchemy.engine.Engine [raw sql] ()\n",
      "2022-05-05 08:21:16,122 INFO sqlalchemy.engine.Engine PRAGMA temp.table_info(\"stocks\")\n",
      "2022-05-05 08:21:16,122 INFO sqlalchemy.engine.Engine [raw sql] ()\n",
      "2022-05-05 08:21:16,124 INFO sqlalchemy.engine.Engine BEGIN (implicit)\n",
      "2022-05-05 08:21:16,125 INFO sqlalchemy.engine.Engine \n",
      "CREATE TABLE stocks (\n",
      "\t\"AAPL\" BIGINT, \n",
      "\t\"GOOG\" BIGINT\n",
      ")\n",
      "\n",
      "\n",
      "2022-05-05 08:21:16,126 INFO sqlalchemy.engine.Engine [no key 0.00096s] ()\n",
      "2022-05-05 08:21:16,128 INFO sqlalchemy.engine.Engine COMMIT\n",
      "2022-05-05 08:21:16,129 INFO sqlalchemy.engine.Engine BEGIN (implicit)\n",
      "2022-05-05 08:21:16,130 INFO sqlalchemy.engine.Engine INSERT INTO stocks (\"AAPL\", \"GOOG\") VALUES (?, ?)\n",
      "2022-05-05 08:21:16,130 INFO sqlalchemy.engine.Engine [generated in 0.00052s] ((1, 3), (2, 4))\n",
      "2022-05-05 08:21:16,131 INFO sqlalchemy.engine.Engine COMMIT\n"
     ]
    },
    {
     "data": {
      "text/plain": [
       "2"
      ]
     },
     "execution_count": 13,
     "metadata": {},
     "output_type": "execute_result"
    }
   ],
   "source": [
    "stocks_dataframe.to_sql('stocks', engine, index=False, if_exists='replace')"
   ]
  },
  {
   "cell_type": "code",
   "execution_count": 14,
   "metadata": {},
   "outputs": [
    {
     "data": {
      "text/plain": [
       "'\\nCREATE TABLE stocks (\\n    \"AAPL\" BIGINT,\\n    \"GOOG\" BIGINT\\n)\\n'"
      ]
     },
     "execution_count": 14,
     "metadata": {},
     "output_type": "execute_result"
    }
   ],
   "source": [
    "#Create a Table via a Raw SQL Statement\n",
    "create_table = \"\"\"\n",
    "CREATE TABLE stocks (\n",
    "    \"AAPL\" BIGINT,\n",
    "    \"GOOG\" BIGINT\n",
    ")\n",
    "\"\"\"\n",
    "create_table"
   ]
  },
  {
   "cell_type": "code",
   "execution_count": 15,
   "metadata": {},
   "outputs": [],
   "source": [
    "create_table = \"\"\"\n",
    "CREATE TABLE delicious_stocks (\n",
    "    \"EAT\" BIGINT,\n",
    "    \"CAKE\" BIGINT\n",
    ")\n",
    "\"\"\""
   ]
  },
  {
   "cell_type": "code",
   "execution_count": 16,
   "metadata": {},
   "outputs": [
    {
     "name": "stdout",
     "output_type": "stream",
     "text": [
      "2022-05-05 08:27:50,382 INFO sqlalchemy.engine.Engine \n",
      "CREATE TABLE delicious_stocks (\n",
      "    \"EAT\" BIGINT,\n",
      "    \"CAKE\" BIGINT\n",
      ")\n",
      "\n",
      "2022-05-05 08:27:50,383 INFO sqlalchemy.engine.Engine [raw sql] ()\n",
      "2022-05-05 08:27:50,385 INFO sqlalchemy.engine.Engine COMMIT\n"
     ]
    },
    {
     "data": {
      "text/plain": [
       "<sqlalchemy.engine.cursor.LegacyCursorResult at 0x1d4056c1910>"
      ]
     },
     "execution_count": 16,
     "metadata": {},
     "output_type": "execute_result"
    }
   ],
   "source": [
    "engine.execute(create_table)"
   ]
  },
  {
   "cell_type": "code",
   "execution_count": 17,
   "metadata": {},
   "outputs": [
    {
     "name": "stdout",
     "output_type": "stream",
     "text": [
      "2022-05-05 08:28:15,942 INFO sqlalchemy.engine.Engine SELECT name FROM sqlite_master WHERE type='table' ORDER BY name\n",
      "2022-05-05 08:28:15,943 INFO sqlalchemy.engine.Engine [raw sql] ()\n"
     ]
    },
    {
     "name": "stderr",
     "output_type": "stream",
     "text": [
      "<ipython-input-17-d72bc75a6b62>:1: SADeprecationWarning: The Engine.table_names() method is deprecated and will be removed in a future release.  Please refer to Inspector.get_table_names(). (deprecated since: 1.4)\n",
      "  engine.table_names()\n"
     ]
    },
    {
     "data": {
      "text/plain": [
       "['delicious_stocks', 'stocks']"
      ]
     },
     "execution_count": 17,
     "metadata": {},
     "output_type": "execute_result"
    }
   ],
   "source": [
    "engine.table_names()"
   ]
  },
  {
   "cell_type": "code",
   "execution_count": 18,
   "metadata": {},
   "outputs": [
    {
     "name": "stdout",
     "output_type": "stream",
     "text": [
      "2022-05-05 08:28:31,092 INFO sqlalchemy.engine.Engine PRAGMA main.table_info(\"delicious_stocks\")\n",
      "2022-05-05 08:28:31,093 INFO sqlalchemy.engine.Engine [raw sql] ()\n",
      "2022-05-05 08:28:31,095 INFO sqlalchemy.engine.Engine PRAGMA main.table_xinfo(\"delicious_stocks\")\n",
      "2022-05-05 08:28:31,096 INFO sqlalchemy.engine.Engine [raw sql] ()\n",
      "2022-05-05 08:28:31,097 INFO sqlalchemy.engine.Engine SELECT sql FROM  (SELECT * FROM sqlite_master UNION ALL   SELECT * FROM sqlite_temp_master) WHERE name = ? AND type = 'table'\n",
      "2022-05-05 08:28:31,098 INFO sqlalchemy.engine.Engine [raw sql] ('delicious_stocks',)\n",
      "2022-05-05 08:28:31,099 INFO sqlalchemy.engine.Engine PRAGMA main.foreign_key_list(\"delicious_stocks\")\n",
      "2022-05-05 08:28:31,100 INFO sqlalchemy.engine.Engine [raw sql] ()\n",
      "2022-05-05 08:28:31,101 INFO sqlalchemy.engine.Engine PRAGMA temp.foreign_key_list(\"delicious_stocks\")\n",
      "2022-05-05 08:28:31,102 INFO sqlalchemy.engine.Engine [raw sql] ()\n",
      "2022-05-05 08:28:31,103 INFO sqlalchemy.engine.Engine SELECT sql FROM  (SELECT * FROM sqlite_master UNION ALL   SELECT * FROM sqlite_temp_master) WHERE name = ? AND type = 'table'\n",
      "2022-05-05 08:28:31,103 INFO sqlalchemy.engine.Engine [raw sql] ('delicious_stocks',)\n",
      "2022-05-05 08:28:31,104 INFO sqlalchemy.engine.Engine PRAGMA main.index_list(\"delicious_stocks\")\n",
      "2022-05-05 08:28:31,106 INFO sqlalchemy.engine.Engine [raw sql] ()\n",
      "2022-05-05 08:28:31,107 INFO sqlalchemy.engine.Engine PRAGMA temp.index_list(\"delicious_stocks\")\n",
      "2022-05-05 08:28:31,107 INFO sqlalchemy.engine.Engine [raw sql] ()\n",
      "2022-05-05 08:28:31,108 INFO sqlalchemy.engine.Engine PRAGMA main.index_list(\"delicious_stocks\")\n",
      "2022-05-05 08:28:31,108 INFO sqlalchemy.engine.Engine [raw sql] ()\n",
      "2022-05-05 08:28:31,109 INFO sqlalchemy.engine.Engine PRAGMA temp.index_list(\"delicious_stocks\")\n",
      "2022-05-05 08:28:31,109 INFO sqlalchemy.engine.Engine [raw sql] ()\n",
      "2022-05-05 08:28:31,110 INFO sqlalchemy.engine.Engine SELECT sql FROM  (SELECT * FROM sqlite_master UNION ALL   SELECT * FROM sqlite_temp_master) WHERE name = ? AND type = 'table'\n",
      "2022-05-05 08:28:31,110 INFO sqlalchemy.engine.Engine [raw sql] ('delicious_stocks',)\n",
      "2022-05-05 08:28:31,112 INFO sqlalchemy.engine.Engine SELECT delicious_stocks.\"EAT\", delicious_stocks.\"CAKE\" \n",
      "FROM delicious_stocks\n",
      "2022-05-05 08:28:31,113 INFO sqlalchemy.engine.Engine [generated in 0.00069s] ()\n"
     ]
    },
    {
     "data": {
      "text/html": [
       "<div>\n",
       "<style scoped>\n",
       "    .dataframe tbody tr th:only-of-type {\n",
       "        vertical-align: middle;\n",
       "    }\n",
       "\n",
       "    .dataframe tbody tr th {\n",
       "        vertical-align: top;\n",
       "    }\n",
       "\n",
       "    .dataframe thead th {\n",
       "        text-align: right;\n",
       "    }\n",
       "</style>\n",
       "<table border=\"1\" class=\"dataframe\">\n",
       "  <thead>\n",
       "    <tr style=\"text-align: right;\">\n",
       "      <th></th>\n",
       "      <th>EAT</th>\n",
       "      <th>CAKE</th>\n",
       "    </tr>\n",
       "  </thead>\n",
       "  <tbody>\n",
       "  </tbody>\n",
       "</table>\n",
       "</div>"
      ],
      "text/plain": [
       "Empty DataFrame\n",
       "Columns: [EAT, CAKE]\n",
       "Index: []"
      ]
     },
     "execution_count": 18,
     "metadata": {},
     "output_type": "execute_result"
    }
   ],
   "source": [
    "pd.read_sql_table('delicious_stocks', con=engine)"
   ]
  },
  {
   "cell_type": "code",
   "execution_count": 19,
   "metadata": {},
   "outputs": [],
   "source": [
    "insert_data = \"\"\"\n",
    "INSERT INTO delicious_stocks (\"EAT\", \"CAKE\") VALUES (?, ?)\n",
    "\"\"\""
   ]
  },
  {
   "cell_type": "code",
   "execution_count": 20,
   "metadata": {},
   "outputs": [
    {
     "name": "stdout",
     "output_type": "stream",
     "text": [
      "2022-05-05 08:29:06,505 INFO sqlalchemy.engine.Engine \n",
      "INSERT INTO delicious_stocks (\"EAT\", \"CAKE\") VALUES (?, ?)\n",
      "\n",
      "2022-05-05 08:29:06,505 INFO sqlalchemy.engine.Engine [raw sql] ((10, 30), (20, 40))\n",
      "2022-05-05 08:29:06,507 INFO sqlalchemy.engine.Engine COMMIT\n"
     ]
    },
    {
     "data": {
      "text/plain": [
       "<sqlalchemy.engine.cursor.LegacyCursorResult at 0x1d401b76310>"
      ]
     },
     "execution_count": 20,
     "metadata": {},
     "output_type": "execute_result"
    }
   ],
   "source": [
    "engine.execute(insert_data, ((10, 30), (20, 40)))"
   ]
  },
  {
   "cell_type": "code",
   "execution_count": 21,
   "metadata": {},
   "outputs": [
    {
     "name": "stdout",
     "output_type": "stream",
     "text": [
      "2022-05-05 08:29:21,334 INFO sqlalchemy.engine.Engine PRAGMA main.table_info(\"delicious_stocks\")\n",
      "2022-05-05 08:29:21,335 INFO sqlalchemy.engine.Engine [raw sql] ()\n",
      "2022-05-05 08:29:21,336 INFO sqlalchemy.engine.Engine PRAGMA main.table_xinfo(\"delicious_stocks\")\n",
      "2022-05-05 08:29:21,337 INFO sqlalchemy.engine.Engine [raw sql] ()\n",
      "2022-05-05 08:29:21,338 INFO sqlalchemy.engine.Engine SELECT sql FROM  (SELECT * FROM sqlite_master UNION ALL   SELECT * FROM sqlite_temp_master) WHERE name = ? AND type = 'table'\n",
      "2022-05-05 08:29:21,339 INFO sqlalchemy.engine.Engine [raw sql] ('delicious_stocks',)\n",
      "2022-05-05 08:29:21,340 INFO sqlalchemy.engine.Engine PRAGMA main.foreign_key_list(\"delicious_stocks\")\n",
      "2022-05-05 08:29:21,341 INFO sqlalchemy.engine.Engine [raw sql] ()\n",
      "2022-05-05 08:29:21,342 INFO sqlalchemy.engine.Engine PRAGMA temp.foreign_key_list(\"delicious_stocks\")\n",
      "2022-05-05 08:29:21,343 INFO sqlalchemy.engine.Engine [raw sql] ()\n",
      "2022-05-05 08:29:21,343 INFO sqlalchemy.engine.Engine SELECT sql FROM  (SELECT * FROM sqlite_master UNION ALL   SELECT * FROM sqlite_temp_master) WHERE name = ? AND type = 'table'\n",
      "2022-05-05 08:29:21,344 INFO sqlalchemy.engine.Engine [raw sql] ('delicious_stocks',)\n",
      "2022-05-05 08:29:21,345 INFO sqlalchemy.engine.Engine PRAGMA main.index_list(\"delicious_stocks\")\n",
      "2022-05-05 08:29:21,346 INFO sqlalchemy.engine.Engine [raw sql] ()\n",
      "2022-05-05 08:29:21,347 INFO sqlalchemy.engine.Engine PRAGMA temp.index_list(\"delicious_stocks\")\n",
      "2022-05-05 08:29:21,348 INFO sqlalchemy.engine.Engine [raw sql] ()\n",
      "2022-05-05 08:29:21,349 INFO sqlalchemy.engine.Engine PRAGMA main.index_list(\"delicious_stocks\")\n",
      "2022-05-05 08:29:21,349 INFO sqlalchemy.engine.Engine [raw sql] ()\n",
      "2022-05-05 08:29:21,350 INFO sqlalchemy.engine.Engine PRAGMA temp.index_list(\"delicious_stocks\")\n",
      "2022-05-05 08:29:21,351 INFO sqlalchemy.engine.Engine [raw sql] ()\n",
      "2022-05-05 08:29:21,351 INFO sqlalchemy.engine.Engine SELECT sql FROM  (SELECT * FROM sqlite_master UNION ALL   SELECT * FROM sqlite_temp_master) WHERE name = ? AND type = 'table'\n",
      "2022-05-05 08:29:21,351 INFO sqlalchemy.engine.Engine [raw sql] ('delicious_stocks',)\n",
      "2022-05-05 08:29:21,353 INFO sqlalchemy.engine.Engine SELECT delicious_stocks.\"EAT\", delicious_stocks.\"CAKE\" \n",
      "FROM delicious_stocks\n",
      "2022-05-05 08:29:21,354 INFO sqlalchemy.engine.Engine [generated in 0.00062s] ()\n"
     ]
    },
    {
     "data": {
      "text/html": [
       "<div>\n",
       "<style scoped>\n",
       "    .dataframe tbody tr th:only-of-type {\n",
       "        vertical-align: middle;\n",
       "    }\n",
       "\n",
       "    .dataframe tbody tr th {\n",
       "        vertical-align: top;\n",
       "    }\n",
       "\n",
       "    .dataframe thead th {\n",
       "        text-align: right;\n",
       "    }\n",
       "</style>\n",
       "<table border=\"1\" class=\"dataframe\">\n",
       "  <thead>\n",
       "    <tr style=\"text-align: right;\">\n",
       "      <th></th>\n",
       "      <th>EAT</th>\n",
       "      <th>CAKE</th>\n",
       "    </tr>\n",
       "  </thead>\n",
       "  <tbody>\n",
       "    <tr>\n",
       "      <th>0</th>\n",
       "      <td>10</td>\n",
       "      <td>30</td>\n",
       "    </tr>\n",
       "    <tr>\n",
       "      <th>1</th>\n",
       "      <td>20</td>\n",
       "      <td>40</td>\n",
       "    </tr>\n",
       "  </tbody>\n",
       "</table>\n",
       "</div>"
      ],
      "text/plain": [
       "   EAT  CAKE\n",
       "0   10    30\n",
       "1   20    40"
      ]
     },
     "execution_count": 21,
     "metadata": {},
     "output_type": "execute_result"
    }
   ],
   "source": [
    "pd.read_sql_table('delicious_stocks', con=engine)"
   ]
  },
  {
   "cell_type": "code",
   "execution_count": 22,
   "metadata": {},
   "outputs": [
    {
     "name": "stdout",
     "output_type": "stream",
     "text": [
      "2022-05-05 08:44:44,844 INFO sqlalchemy.engine.Engine \n",
      "SELECT \"EAT\", \"CAKE\" FROM delicious_stocks\n",
      "\n",
      "2022-05-05 08:44:44,844 INFO sqlalchemy.engine.Engine [raw sql] ()\n"
     ]
    },
    {
     "data": {
      "text/plain": [
       "<sqlalchemy.engine.cursor.LegacyCursorResult at 0x1d40456bac0>"
      ]
     },
     "execution_count": 22,
     "metadata": {},
     "output_type": "execute_result"
    }
   ],
   "source": [
    "# Read data from the sqlalchemy table\n",
    "read_all_data = \"\"\"\n",
    "SELECT \"EAT\", \"CAKE\" FROM delicious_stocks\n",
    "\"\"\"\n",
    "engine.execute(read_all_data)"
   ]
  },
  {
   "cell_type": "code",
   "execution_count": 23,
   "metadata": {},
   "outputs": [
    {
     "name": "stdout",
     "output_type": "stream",
     "text": [
      "2022-05-05 08:45:14,065 INFO sqlalchemy.engine.Engine \n",
      "SELECT \"EAT\", \"CAKE\" FROM delicious_stocks\n",
      "\n",
      "2022-05-05 08:45:14,066 INFO sqlalchemy.engine.Engine [raw sql] ()\n",
      "(10, 30)\n",
      "(20, 40)\n"
     ]
    }
   ],
   "source": [
    "results = engine.execute(read_all_data)\n",
    "for row in results:\n",
    "    print(row)"
   ]
  },
  {
   "cell_type": "code",
   "execution_count": 24,
   "metadata": {},
   "outputs": [
    {
     "name": "stdout",
     "output_type": "stream",
     "text": [
      "2022-05-05 08:45:29,814 INFO sqlalchemy.engine.Engine \n",
      "SELECT \"EAT\", \"CAKE\" FROM delicious_stocks\n",
      "\n",
      "2022-05-05 08:45:29,815 INFO sqlalchemy.engine.Engine [raw sql] ()\n"
     ]
    },
    {
     "data": {
      "text/plain": [
       "[(10, 30), (20, 40)]"
      ]
     },
     "execution_count": 24,
     "metadata": {},
     "output_type": "execute_result"
    }
   ],
   "source": [
    "results = engine.execute(read_all_data)\n",
    "list(results)"
   ]
  },
  {
   "cell_type": "code",
   "execution_count": 25,
   "metadata": {},
   "outputs": [
    {
     "name": "stdout",
     "output_type": "stream",
     "text": [
      "2022-05-05 08:45:49,450 INFO sqlalchemy.engine.Engine \n",
      "SELECT * FROM delicious_stocks\n",
      "\n",
      "2022-05-05 08:45:49,451 INFO sqlalchemy.engine.Engine [raw sql] ()\n"
     ]
    },
    {
     "data": {
      "text/plain": [
       "[(10, 30), (20, 40)]"
      ]
     },
     "execution_count": 25,
     "metadata": {},
     "output_type": "execute_result"
    }
   ],
   "source": [
    "read_all_data = \"\"\"\n",
    "SELECT * FROM delicious_stocks\n",
    "\"\"\"\n",
    "results = engine.execute(read_all_data)\n",
    "list(results)"
   ]
  },
  {
   "cell_type": "code",
   "execution_count": 26,
   "metadata": {},
   "outputs": [
    {
     "name": "stdout",
     "output_type": "stream",
     "text": [
      "2022-05-05 08:46:26,466 INFO sqlalchemy.engine.Engine \n",
      "UPDATE delicious_stocks\n",
      "SET CAKE = 100\n",
      "WHERE CAKE = 40\n",
      "\n",
      "2022-05-05 08:46:26,467 INFO sqlalchemy.engine.Engine [raw sql] ()\n",
      "2022-05-05 08:46:26,468 INFO sqlalchemy.engine.Engine COMMIT\n"
     ]
    },
    {
     "data": {
      "text/plain": [
       "<sqlalchemy.engine.cursor.LegacyCursorResult at 0x1d405b45940>"
      ]
     },
     "execution_count": 26,
     "metadata": {},
     "output_type": "execute_result"
    }
   ],
   "source": [
    "# Update data\n",
    "\n",
    "update_cake = \"\"\"\n",
    "UPDATE delicious_stocks\n",
    "SET CAKE = 100\n",
    "WHERE CAKE = 40\n",
    "\"\"\"\n",
    "engine.execute(update_cake)"
   ]
  },
  {
   "cell_type": "code",
   "execution_count": 27,
   "metadata": {},
   "outputs": [
    {
     "name": "stdout",
     "output_type": "stream",
     "text": [
      "2022-05-05 08:57:01,568 INFO sqlalchemy.engine.Engine \n",
      "SELECT * FROM delicious_stocks\n",
      "\n",
      "2022-05-05 08:57:01,569 INFO sqlalchemy.engine.Engine [raw sql] ()\n"
     ]
    },
    {
     "data": {
      "text/plain": [
       "[(10, 30), (20, 100)]"
      ]
     },
     "execution_count": 27,
     "metadata": {},
     "output_type": "execute_result"
    }
   ],
   "source": [
    "read_all_data = \"\"\"\n",
    "SELECT * FROM delicious_stocks\n",
    "\"\"\"\n",
    "results = engine.execute(read_all_data)\n",
    "list(results)"
   ]
  },
  {
   "cell_type": "code",
   "execution_count": 28,
   "metadata": {},
   "outputs": [
    {
     "name": "stdout",
     "output_type": "stream",
     "text": [
      "2022-05-05 08:57:37,994 INFO sqlalchemy.engine.Engine \n",
      "DELETE FROM delicious_stocks\n",
      "WHERE EAT = 20\n",
      "\n",
      "2022-05-05 08:57:37,995 INFO sqlalchemy.engine.Engine [raw sql] ()\n",
      "2022-05-05 08:57:37,996 INFO sqlalchemy.engine.Engine COMMIT\n"
     ]
    },
    {
     "data": {
      "text/plain": [
       "<sqlalchemy.engine.cursor.LegacyCursorResult at 0x1d4045fe1f0>"
      ]
     },
     "execution_count": 28,
     "metadata": {},
     "output_type": "execute_result"
    }
   ],
   "source": [
    "# Delete information \n",
    "delete_eat = \"\"\"\n",
    "DELETE FROM delicious_stocks\n",
    "WHERE EAT = 20\n",
    "\"\"\"\n",
    "engine.execute(delete_eat)"
   ]
  },
  {
   "cell_type": "code",
   "execution_count": 29,
   "metadata": {},
   "outputs": [
    {
     "name": "stdout",
     "output_type": "stream",
     "text": [
      "2022-05-05 08:57:46,167 INFO sqlalchemy.engine.Engine \n",
      "SELECT * FROM delicious_stocks\n",
      "\n",
      "2022-05-05 08:57:46,168 INFO sqlalchemy.engine.Engine [raw sql] ()\n"
     ]
    },
    {
     "data": {
      "text/plain": [
       "[(10, 30)]"
      ]
     },
     "execution_count": 29,
     "metadata": {},
     "output_type": "execute_result"
    }
   ],
   "source": [
    "read_all_data = \"\"\"\n",
    "SELECT * FROM delicious_stocks\n",
    "\"\"\"\n",
    "results = engine.execute(read_all_data)\n",
    "list(results)"
   ]
  },
  {
   "cell_type": "code",
   "execution_count": null,
   "metadata": {},
   "outputs": [],
   "source": []
  }
 ],
 "metadata": {
  "kernelspec": {
   "display_name": "Python 3",
   "language": "python",
   "name": "python3"
  },
  "language_info": {
   "codemirror_mode": {
    "name": "ipython",
    "version": 3
   },
   "file_extension": ".py",
   "mimetype": "text/x-python",
   "name": "python",
   "nbconvert_exporter": "python",
   "pygments_lexer": "ipython3",
   "version": "3.8.3"
  }
 },
 "nbformat": 4,
 "nbformat_minor": 4
}
