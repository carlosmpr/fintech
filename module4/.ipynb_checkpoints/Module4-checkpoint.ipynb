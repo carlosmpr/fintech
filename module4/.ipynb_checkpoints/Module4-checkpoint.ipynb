{
 "cells": [
  {
   "cell_type": "markdown",
   "metadata": {},
   "source": [
    "# Return of Investment (ROI)"
   ]
  },
  {
   "cell_type": "markdown",
   "metadata": {},
   "source": [
    "The ROI is a percentage calculation that compares the current value of an investment to its initial cost, indicating either a gain or a loss is use to:\n",
    "\n",
    "- The performance estimate that the initial plan for investment laid out.\n",
    "- The performance estimate that the initial plan for investment laid out.\n",
    "- The performance of a benchmark, such as a sector index or a full market index. Examples of sector indexes are the technology and biotech sectors. An example of a full market index is the S&P 500.\n",
    "\n",
    "With the ROI, both quantitative financial analysts and investors can determine the success or failure of an investment. This helps them make more informed decisions about future investments."
   ]
  },
  {
   "cell_type": "markdown",
   "metadata": {},
   "source": [
    "## Calcualate the ROI\n",
    "\n",
    "\n",
    "          roi = ((current_investment_value - initial_investment_value) / initial_investment_value ) * 100"
   ]
  },
  {
   "cell_type": "code",
   "execution_count": 1,
   "metadata": {},
   "outputs": [
    {
     "name": "stdout",
     "output_type": "stream",
     "text": [
      " The ROI % value is:  11.67%\n"
     ]
    }
   ],
   "source": [
    "# Example\n",
    "initial_investment_value = 75000\n",
    "current_investment_value= 83750\n",
    "\n",
    "roi = ((current_investment_value - initial_investment_value) / initial_investment_value ) * 100\n",
    "print(f\" The ROI % value is: {roi: .2f}%\")"
   ]
  },
  {
   "cell_type": "code",
   "execution_count": 2,
   "metadata": {},
   "outputs": [
    {
     "data": {
      "text/plain": [
       "6734.375"
      ]
     },
     "execution_count": 2,
     "metadata": {},
     "output_type": "execute_result"
    }
   ],
   "source": [
    "#Example 2\n",
    "initial_investment_value = 6250\n",
    "roi_prc = 7.75\n",
    "roi = 7.75 / 100\n",
    "\n",
    "current_investment_value = (roi * initial_investment_value) + initial_investment_value\n",
    "current_investment_value\n"
   ]
  },
  {
   "cell_type": "markdown",
   "metadata": {},
   "source": [
    "# Calculatin the Daily Returns "
   ]
  },
  {
   "cell_type": "markdown",
   "metadata": {},
   "source": [
    "For a quantitative financial analyst, one of the most common uses of the ROI formula is to determine the daily returns of a particular investment asset. The daily return measures the percentage of the increase or decrease of the investment between the closing price on the current day and that on the previous day.We subtract the closing price of the previous day from the closing price of the current day. We then divide the resulting number by the closing price of the previous day. The result is the daily return."
   ]
  },
  {
   "cell_type": "markdown",
   "metadata": {},
   "source": [
    "## Calculate dialy return formula\n",
    "\n",
    "            daily_return = ((stock_current_close_price - stock_previous-close-price) /  stock_previous-close-price)"
   ]
  },
  {
   "cell_type": "code",
   "execution_count": 3,
   "metadata": {},
   "outputs": [
    {
     "name": "stdout",
     "output_type": "stream",
     "text": [
      "The daily return for the S&P 500 was  0.00187 or  0.19%\n"
     ]
    }
   ],
   "source": [
    "# Example \n",
    "spx_current_close = 1884.660034\n",
    "spx_prior_close = 1881.140015\n",
    "daily_return = ((spx_current_close - spx_prior_close ) / spx_prior_close)\n",
    "daily_return_pct = daily_return * 100\n",
    "print(f\"The daily return for the S&P 500 was {daily_return: .5f} or {daily_return_pct: .2f}%\")"
   ]
  },
  {
   "cell_type": "code",
   "execution_count": 4,
   "metadata": {},
   "outputs": [
    {
     "name": "stdout",
     "output_type": "stream",
     "text": [
      "-2.73%\n"
     ]
    }
   ],
   "source": [
    "#Example 2\n",
    "stock_current_close_price = 31.75\n",
    "stock_previous_close_price = 32.64\n",
    "daily_return = ((stock_current_close_price - stock_previous_close_price) /  stock_previous_close_price) * 100\n",
    "print(f\"{daily_return: .2f}%\")\n"
   ]
  },
  {
   "cell_type": "markdown",
   "metadata": {},
   "source": [
    "# Calculating week/month / year return\n",
    "Besides calculating a daily return over several days, well, daily, an analyst might have to calculate the return from week to week, month to month, or year to year. This process can be tedious and cumbersome.With the shift function, you can define the length of the period that you want to associate with the return calculation."
   ]
  },
  {
   "cell_type": "markdown",
   "metadata": {},
   "source": [
    "## Shift function in daily returns"
   ]
  },
  {
   "cell_type": "code",
   "execution_count": 5,
   "metadata": {},
   "outputs": [],
   "source": [
    "import pandas as pd\n",
    "from pathlib import Path"
   ]
  },
  {
   "cell_type": "code",
   "execution_count": 6,
   "metadata": {},
   "outputs": [
    {
     "data": {
      "text/html": [
       "<div>\n",
       "<style scoped>\n",
       "    .dataframe tbody tr th:only-of-type {\n",
       "        vertical-align: middle;\n",
       "    }\n",
       "\n",
       "    .dataframe tbody tr th {\n",
       "        vertical-align: top;\n",
       "    }\n",
       "\n",
       "    .dataframe thead th {\n",
       "        text-align: right;\n",
       "    }\n",
       "</style>\n",
       "<table border=\"1\" class=\"dataframe\">\n",
       "  <thead>\n",
       "    <tr style=\"text-align: right;\">\n",
       "      <th></th>\n",
       "      <th>Adj Close</th>\n",
       "    </tr>\n",
       "    <tr>\n",
       "      <th>Date</th>\n",
       "      <th></th>\n",
       "    </tr>\n",
       "  </thead>\n",
       "  <tbody>\n",
       "    <tr>\n",
       "      <th>2014-05-02</th>\n",
       "      <td>1881.140015</td>\n",
       "    </tr>\n",
       "    <tr>\n",
       "      <th>2014-05-05</th>\n",
       "      <td>1884.660034</td>\n",
       "    </tr>\n",
       "    <tr>\n",
       "      <th>2014-05-06</th>\n",
       "      <td>1867.719971</td>\n",
       "    </tr>\n",
       "    <tr>\n",
       "      <th>2014-05-07</th>\n",
       "      <td>1878.209961</td>\n",
       "    </tr>\n",
       "    <tr>\n",
       "      <th>2014-05-08</th>\n",
       "      <td>1875.630005</td>\n",
       "    </tr>\n",
       "  </tbody>\n",
       "</table>\n",
       "</div>"
      ],
      "text/plain": [
       "              Adj Close\n",
       "Date                   \n",
       "2014-05-02  1881.140015\n",
       "2014-05-05  1884.660034\n",
       "2014-05-06  1867.719971\n",
       "2014-05-07  1878.209961\n",
       "2014-05-08  1875.630005"
      ]
     },
     "execution_count": 6,
     "metadata": {},
     "output_type": "execute_result"
    }
   ],
   "source": [
    "sp500_csv = pd.read_csv(\"./sp500_close.csv\", index_col=\"Date\",parse_dates=True,infer_datetime_format=True)\n",
    "sp500_csv.head()"
   ]
  },
  {
   "cell_type": "code",
   "execution_count": 7,
   "metadata": {},
   "outputs": [
    {
     "data": {
      "text/html": [
       "<div>\n",
       "<style scoped>\n",
       "    .dataframe tbody tr th:only-of-type {\n",
       "        vertical-align: middle;\n",
       "    }\n",
       "\n",
       "    .dataframe tbody tr th {\n",
       "        vertical-align: top;\n",
       "    }\n",
       "\n",
       "    .dataframe thead th {\n",
       "        text-align: right;\n",
       "    }\n",
       "</style>\n",
       "<table border=\"1\" class=\"dataframe\">\n",
       "  <thead>\n",
       "    <tr style=\"text-align: right;\">\n",
       "      <th></th>\n",
       "      <th>Adj Close</th>\n",
       "      <th>Shift_1</th>\n",
       "    </tr>\n",
       "    <tr>\n",
       "      <th>Date</th>\n",
       "      <th></th>\n",
       "      <th></th>\n",
       "    </tr>\n",
       "  </thead>\n",
       "  <tbody>\n",
       "    <tr>\n",
       "      <th>2014-05-02</th>\n",
       "      <td>1881.140015</td>\n",
       "      <td>NaN</td>\n",
       "    </tr>\n",
       "    <tr>\n",
       "      <th>2014-05-05</th>\n",
       "      <td>1884.660034</td>\n",
       "      <td>1881.140015</td>\n",
       "    </tr>\n",
       "    <tr>\n",
       "      <th>2014-05-06</th>\n",
       "      <td>1867.719971</td>\n",
       "      <td>1884.660034</td>\n",
       "    </tr>\n",
       "    <tr>\n",
       "      <th>2014-05-07</th>\n",
       "      <td>1878.209961</td>\n",
       "      <td>1867.719971</td>\n",
       "    </tr>\n",
       "    <tr>\n",
       "      <th>2014-05-08</th>\n",
       "      <td>1875.630005</td>\n",
       "      <td>1878.209961</td>\n",
       "    </tr>\n",
       "  </tbody>\n",
       "</table>\n",
       "</div>"
      ],
      "text/plain": [
       "              Adj Close      Shift_1\n",
       "Date                                \n",
       "2014-05-02  1881.140015          NaN\n",
       "2014-05-05  1884.660034  1881.140015\n",
       "2014-05-06  1867.719971  1884.660034\n",
       "2014-05-07  1878.209961  1867.719971\n",
       "2014-05-08  1875.630005  1878.209961"
      ]
     },
     "execution_count": 7,
     "metadata": {},
     "output_type": "execute_result"
    }
   ],
   "source": [
    "# Using the shift of 1 to shift every elemint in th adj close column\n",
    "sp500_csv[\"Shift_1\"] = sp500_csv.shift(1)\n",
    "sp500_csv.head()"
   ]
  },
  {
   "cell_type": "code",
   "execution_count": 8,
   "metadata": {},
   "outputs": [
    {
     "data": {
      "text/html": [
       "<div>\n",
       "<style scoped>\n",
       "    .dataframe tbody tr th:only-of-type {\n",
       "        vertical-align: middle;\n",
       "    }\n",
       "\n",
       "    .dataframe tbody tr th {\n",
       "        vertical-align: top;\n",
       "    }\n",
       "\n",
       "    .dataframe thead th {\n",
       "        text-align: right;\n",
       "    }\n",
       "</style>\n",
       "<table border=\"1\" class=\"dataframe\">\n",
       "  <thead>\n",
       "    <tr style=\"text-align: right;\">\n",
       "      <th></th>\n",
       "      <th>Adj Close</th>\n",
       "      <th>Shift_1</th>\n",
       "    </tr>\n",
       "    <tr>\n",
       "      <th>Date</th>\n",
       "      <th></th>\n",
       "      <th></th>\n",
       "    </tr>\n",
       "  </thead>\n",
       "  <tbody>\n",
       "    <tr>\n",
       "      <th>2014-05-02</th>\n",
       "      <td>NaN</td>\n",
       "      <td>NaN</td>\n",
       "    </tr>\n",
       "    <tr>\n",
       "      <th>2014-05-05</th>\n",
       "      <td>0.001871</td>\n",
       "      <td>NaN</td>\n",
       "    </tr>\n",
       "    <tr>\n",
       "      <th>2014-05-06</th>\n",
       "      <td>-0.008988</td>\n",
       "      <td>0.001871</td>\n",
       "    </tr>\n",
       "    <tr>\n",
       "      <th>2014-05-07</th>\n",
       "      <td>0.005616</td>\n",
       "      <td>-0.008988</td>\n",
       "    </tr>\n",
       "    <tr>\n",
       "      <th>2014-05-08</th>\n",
       "      <td>-0.001374</td>\n",
       "      <td>0.005616</td>\n",
       "    </tr>\n",
       "  </tbody>\n",
       "</table>\n",
       "</div>"
      ],
      "text/plain": [
       "            Adj Close   Shift_1\n",
       "Date                           \n",
       "2014-05-02        NaN       NaN\n",
       "2014-05-05   0.001871       NaN\n",
       "2014-05-06  -0.008988  0.001871\n",
       "2014-05-07   0.005616 -0.008988\n",
       "2014-05-08  -0.001374  0.005616"
      ]
     },
     "execution_count": 8,
     "metadata": {},
     "output_type": "execute_result"
    }
   ],
   "source": [
    "# Review the S&P 500 daily price DataFrame\n",
    "sp500_csv.head()\n",
    "\n",
    "# Create the daily_returns Dataframe from the S&P 500 prices using the shift(1) function\n",
    "daily_returns = (sp500_csv - sp500_csv.shift(1)) / sp500_csv.shift(1)\n",
    "\n",
    "# Review the daily_returns DataFrame\n",
    "daily_returns.head()"
   ]
  },
  {
   "cell_type": "code",
   "execution_count": 9,
   "metadata": {},
   "outputs": [
    {
     "data": {
      "text/html": [
       "<div>\n",
       "<style scoped>\n",
       "    .dataframe tbody tr th:only-of-type {\n",
       "        vertical-align: middle;\n",
       "    }\n",
       "\n",
       "    .dataframe tbody tr th {\n",
       "        vertical-align: top;\n",
       "    }\n",
       "\n",
       "    .dataframe thead th {\n",
       "        text-align: right;\n",
       "    }\n",
       "</style>\n",
       "<table border=\"1\" class=\"dataframe\">\n",
       "  <thead>\n",
       "    <tr style=\"text-align: right;\">\n",
       "      <th></th>\n",
       "      <th>close</th>\n",
       "    </tr>\n",
       "  </thead>\n",
       "  <tbody>\n",
       "    <tr>\n",
       "      <th>0</th>\n",
       "      <td>11.25</td>\n",
       "    </tr>\n",
       "    <tr>\n",
       "      <th>1</th>\n",
       "      <td>11.98</td>\n",
       "    </tr>\n",
       "    <tr>\n",
       "      <th>2</th>\n",
       "      <td>10.74</td>\n",
       "    </tr>\n",
       "    <tr>\n",
       "      <th>3</th>\n",
       "      <td>11.16</td>\n",
       "    </tr>\n",
       "    <tr>\n",
       "      <th>4</th>\n",
       "      <td>12.35</td>\n",
       "    </tr>\n",
       "  </tbody>\n",
       "</table>\n",
       "</div>"
      ],
      "text/plain": [
       "   close\n",
       "0  11.25\n",
       "1  11.98\n",
       "2  10.74\n",
       "3  11.16\n",
       "4  12.35"
      ]
     },
     "execution_count": 9,
     "metadata": {},
     "output_type": "execute_result"
    }
   ],
   "source": [
    "stock_abc = pd.DataFrame({\"close\" : [11.25, 11.98, 10.74, 11.16, 12.35, 12.87, 13.03, 13.14, 13.37, 12.99]})\n",
    "stock_abc.head()"
   ]
  },
  {
   "cell_type": "code",
   "execution_count": 10,
   "metadata": {},
   "outputs": [
    {
     "data": {
      "text/html": [
       "<div>\n",
       "<style scoped>\n",
       "    .dataframe tbody tr th:only-of-type {\n",
       "        vertical-align: middle;\n",
       "    }\n",
       "\n",
       "    .dataframe tbody tr th {\n",
       "        vertical-align: top;\n",
       "    }\n",
       "\n",
       "    .dataframe thead th {\n",
       "        text-align: right;\n",
       "    }\n",
       "</style>\n",
       "<table border=\"1\" class=\"dataframe\">\n",
       "  <thead>\n",
       "    <tr style=\"text-align: right;\">\n",
       "      <th></th>\n",
       "      <th>close</th>\n",
       "    </tr>\n",
       "  </thead>\n",
       "  <tbody>\n",
       "    <tr>\n",
       "      <th>0</th>\n",
       "      <td>NaN</td>\n",
       "    </tr>\n",
       "    <tr>\n",
       "      <th>1</th>\n",
       "      <td>6.488889</td>\n",
       "    </tr>\n",
       "    <tr>\n",
       "      <th>2</th>\n",
       "      <td>-10.350584</td>\n",
       "    </tr>\n",
       "    <tr>\n",
       "      <th>3</th>\n",
       "      <td>3.910615</td>\n",
       "    </tr>\n",
       "    <tr>\n",
       "      <th>4</th>\n",
       "      <td>10.663082</td>\n",
       "    </tr>\n",
       "  </tbody>\n",
       "</table>\n",
       "</div>"
      ],
      "text/plain": [
       "       close\n",
       "0        NaN\n",
       "1   6.488889\n",
       "2 -10.350584\n",
       "3   3.910615\n",
       "4  10.663082"
      ]
     },
     "execution_count": 10,
     "metadata": {},
     "output_type": "execute_result"
    }
   ],
   "source": [
    "daily_returns = ((stock_abc - stock_abc.shift(1)) / stock_abc.shift(1)) * 100\n",
    "daily_returns.head()"
   ]
  },
  {
   "cell_type": "markdown",
   "metadata": {},
   "source": [
    "# The pct_change Function\n",
    "With the shift function, you need to specify the number 1 to access the element that’s just before the current one. However, by default, the Pandas pct_change function calculates the percentage of change between the current element and the one that’s just before it in a Series, or column."
   ]
  },
  {
   "cell_type": "code",
   "execution_count": 11,
   "metadata": {},
   "outputs": [
    {
     "data": {
      "text/html": [
       "<div>\n",
       "<style scoped>\n",
       "    .dataframe tbody tr th:only-of-type {\n",
       "        vertical-align: middle;\n",
       "    }\n",
       "\n",
       "    .dataframe tbody tr th {\n",
       "        vertical-align: top;\n",
       "    }\n",
       "\n",
       "    .dataframe thead th {\n",
       "        text-align: right;\n",
       "    }\n",
       "</style>\n",
       "<table border=\"1\" class=\"dataframe\">\n",
       "  <thead>\n",
       "    <tr style=\"text-align: right;\">\n",
       "      <th></th>\n",
       "      <th>Adj Close</th>\n",
       "    </tr>\n",
       "    <tr>\n",
       "      <th>Date</th>\n",
       "      <th></th>\n",
       "    </tr>\n",
       "  </thead>\n",
       "  <tbody>\n",
       "    <tr>\n",
       "      <th>2014-05-02</th>\n",
       "      <td>1881.140015</td>\n",
       "    </tr>\n",
       "    <tr>\n",
       "      <th>2014-05-05</th>\n",
       "      <td>1884.660034</td>\n",
       "    </tr>\n",
       "    <tr>\n",
       "      <th>2014-05-06</th>\n",
       "      <td>1867.719971</td>\n",
       "    </tr>\n",
       "    <tr>\n",
       "      <th>2014-05-07</th>\n",
       "      <td>1878.209961</td>\n",
       "    </tr>\n",
       "    <tr>\n",
       "      <th>2014-05-08</th>\n",
       "      <td>1875.630005</td>\n",
       "    </tr>\n",
       "  </tbody>\n",
       "</table>\n",
       "</div>"
      ],
      "text/plain": [
       "              Adj Close\n",
       "Date                   \n",
       "2014-05-02  1881.140015\n",
       "2014-05-05  1884.660034\n",
       "2014-05-06  1867.719971\n",
       "2014-05-07  1878.209961\n",
       "2014-05-08  1875.630005"
      ]
     },
     "execution_count": 11,
     "metadata": {},
     "output_type": "execute_result"
    }
   ],
   "source": [
    "# Example\n",
    "sp500_csv = pd.read_csv(\"./sp500_close.csv\", index_col=\"Date\",parse_dates=True,infer_datetime_format=True)\n",
    "sp500_csv.head()"
   ]
  },
  {
   "cell_type": "code",
   "execution_count": 12,
   "metadata": {},
   "outputs": [
    {
     "data": {
      "text/html": [
       "<div>\n",
       "<style scoped>\n",
       "    .dataframe tbody tr th:only-of-type {\n",
       "        vertical-align: middle;\n",
       "    }\n",
       "\n",
       "    .dataframe tbody tr th {\n",
       "        vertical-align: top;\n",
       "    }\n",
       "\n",
       "    .dataframe thead th {\n",
       "        text-align: right;\n",
       "    }\n",
       "</style>\n",
       "<table border=\"1\" class=\"dataframe\">\n",
       "  <thead>\n",
       "    <tr style=\"text-align: right;\">\n",
       "      <th></th>\n",
       "      <th>Adj Close</th>\n",
       "    </tr>\n",
       "    <tr>\n",
       "      <th>Date</th>\n",
       "      <th></th>\n",
       "    </tr>\n",
       "  </thead>\n",
       "  <tbody>\n",
       "    <tr>\n",
       "      <th>2014-05-02</th>\n",
       "      <td>NaN</td>\n",
       "    </tr>\n",
       "    <tr>\n",
       "      <th>2014-05-05</th>\n",
       "      <td>0.001871</td>\n",
       "    </tr>\n",
       "    <tr>\n",
       "      <th>2014-05-06</th>\n",
       "      <td>-0.008988</td>\n",
       "    </tr>\n",
       "    <tr>\n",
       "      <th>2014-05-07</th>\n",
       "      <td>0.005616</td>\n",
       "    </tr>\n",
       "    <tr>\n",
       "      <th>2014-05-08</th>\n",
       "      <td>-0.001374</td>\n",
       "    </tr>\n",
       "  </tbody>\n",
       "</table>\n",
       "</div>"
      ],
      "text/plain": [
       "            Adj Close\n",
       "Date                 \n",
       "2014-05-02        NaN\n",
       "2014-05-05   0.001871\n",
       "2014-05-06  -0.008988\n",
       "2014-05-07   0.005616\n",
       "2014-05-08  -0.001374"
      ]
     },
     "execution_count": 12,
     "metadata": {},
     "output_type": "execute_result"
    }
   ],
   "source": [
    "daily_returns = sp500_csv.pct_change()\n",
    "daily_returns.head()"
   ]
  },
  {
   "cell_type": "code",
   "execution_count": 13,
   "metadata": {},
   "outputs": [
    {
     "data": {
      "text/html": [
       "<div>\n",
       "<style scoped>\n",
       "    .dataframe tbody tr th:only-of-type {\n",
       "        vertical-align: middle;\n",
       "    }\n",
       "\n",
       "    .dataframe tbody tr th {\n",
       "        vertical-align: top;\n",
       "    }\n",
       "\n",
       "    .dataframe thead th {\n",
       "        text-align: right;\n",
       "    }\n",
       "</style>\n",
       "<table border=\"1\" class=\"dataframe\">\n",
       "  <thead>\n",
       "    <tr style=\"text-align: right;\">\n",
       "      <th></th>\n",
       "      <th>close</th>\n",
       "    </tr>\n",
       "  </thead>\n",
       "  <tbody>\n",
       "    <tr>\n",
       "      <th>0</th>\n",
       "      <td>NaN</td>\n",
       "    </tr>\n",
       "    <tr>\n",
       "      <th>1</th>\n",
       "      <td>0.064889</td>\n",
       "    </tr>\n",
       "    <tr>\n",
       "      <th>2</th>\n",
       "      <td>-0.103506</td>\n",
       "    </tr>\n",
       "    <tr>\n",
       "      <th>3</th>\n",
       "      <td>0.039106</td>\n",
       "    </tr>\n",
       "    <tr>\n",
       "      <th>4</th>\n",
       "      <td>0.106631</td>\n",
       "    </tr>\n",
       "  </tbody>\n",
       "</table>\n",
       "</div>"
      ],
      "text/plain": [
       "      close\n",
       "0       NaN\n",
       "1  0.064889\n",
       "2 -0.103506\n",
       "3  0.039106\n",
       "4  0.106631"
      ]
     },
     "execution_count": 13,
     "metadata": {},
     "output_type": "execute_result"
    }
   ],
   "source": [
    "stock_def = pd.DataFrame({'close' : [11.25, 11.98, 10.74, 11.16, 12.35, 12.87, 13.03]})\n",
    "daily_return_new = stock_def.pct_change()\n",
    "daily_return_new.head()"
   ]
  },
  {
   "cell_type": "code",
   "execution_count": 14,
   "metadata": {},
   "outputs": [
    {
     "data": {
      "text/html": [
       "<div>\n",
       "<style scoped>\n",
       "    .dataframe tbody tr th:only-of-type {\n",
       "        vertical-align: middle;\n",
       "    }\n",
       "\n",
       "    .dataframe tbody tr th {\n",
       "        vertical-align: top;\n",
       "    }\n",
       "\n",
       "    .dataframe thead th {\n",
       "        text-align: right;\n",
       "    }\n",
       "</style>\n",
       "<table border=\"1\" class=\"dataframe\">\n",
       "  <thead>\n",
       "    <tr style=\"text-align: right;\">\n",
       "      <th></th>\n",
       "      <th>Adj Close</th>\n",
       "    </tr>\n",
       "  </thead>\n",
       "  <tbody>\n",
       "    <tr>\n",
       "      <th>count</th>\n",
       "      <td>252.000000</td>\n",
       "    </tr>\n",
       "    <tr>\n",
       "      <th>mean</th>\n",
       "      <td>0.000437</td>\n",
       "    </tr>\n",
       "    <tr>\n",
       "      <th>std</th>\n",
       "      <td>0.009392</td>\n",
       "    </tr>\n",
       "    <tr>\n",
       "      <th>min</th>\n",
       "      <td>-0.032864</td>\n",
       "    </tr>\n",
       "    <tr>\n",
       "      <th>25%</th>\n",
       "      <td>-0.002966</td>\n",
       "    </tr>\n",
       "    <tr>\n",
       "      <th>50%</th>\n",
       "      <td>0.000735</td>\n",
       "    </tr>\n",
       "    <tr>\n",
       "      <th>75%</th>\n",
       "      <td>0.004895</td>\n",
       "    </tr>\n",
       "    <tr>\n",
       "      <th>max</th>\n",
       "      <td>0.049594</td>\n",
       "    </tr>\n",
       "  </tbody>\n",
       "</table>\n",
       "</div>"
      ],
      "text/plain": [
       "        Adj Close\n",
       "count  252.000000\n",
       "mean     0.000437\n",
       "std      0.009392\n",
       "min     -0.032864\n",
       "25%     -0.002966\n",
       "50%      0.000735\n",
       "75%      0.004895\n",
       "max      0.049594"
      ]
     },
     "execution_count": 14,
     "metadata": {},
     "output_type": "execute_result"
    }
   ],
   "source": [
    "# Calculating daily return for a 1 year period\n",
    "daily_returns_1_year = daily_returns.loc[\"2018-05-01\":\"2019-05-01\"]\n",
    "daily_returns_1_year.describe()"
   ]
  },
  {
   "cell_type": "code",
   "execution_count": 15,
   "metadata": {},
   "outputs": [
    {
     "data": {
      "text/html": [
       "<div>\n",
       "<style scoped>\n",
       "    .dataframe tbody tr th:only-of-type {\n",
       "        vertical-align: middle;\n",
       "    }\n",
       "\n",
       "    .dataframe tbody tr th {\n",
       "        vertical-align: top;\n",
       "    }\n",
       "\n",
       "    .dataframe thead th {\n",
       "        text-align: right;\n",
       "    }\n",
       "</style>\n",
       "<table border=\"1\" class=\"dataframe\">\n",
       "  <thead>\n",
       "    <tr style=\"text-align: right;\">\n",
       "      <th></th>\n",
       "      <th>Adj Close</th>\n",
       "    </tr>\n",
       "  </thead>\n",
       "  <tbody>\n",
       "    <tr>\n",
       "      <th>count</th>\n",
       "      <td>755.000000</td>\n",
       "    </tr>\n",
       "    <tr>\n",
       "      <th>mean</th>\n",
       "      <td>0.000491</td>\n",
       "    </tr>\n",
       "    <tr>\n",
       "      <th>std</th>\n",
       "      <td>0.007848</td>\n",
       "    </tr>\n",
       "    <tr>\n",
       "      <th>min</th>\n",
       "      <td>-0.040979</td>\n",
       "    </tr>\n",
       "    <tr>\n",
       "      <th>25%</th>\n",
       "      <td>-0.002223</td>\n",
       "    </tr>\n",
       "    <tr>\n",
       "      <th>50%</th>\n",
       "      <td>0.000553</td>\n",
       "    </tr>\n",
       "    <tr>\n",
       "      <th>75%</th>\n",
       "      <td>0.004087</td>\n",
       "    </tr>\n",
       "    <tr>\n",
       "      <th>max</th>\n",
       "      <td>0.049594</td>\n",
       "    </tr>\n",
       "  </tbody>\n",
       "</table>\n",
       "</div>"
      ],
      "text/plain": [
       "        Adj Close\n",
       "count  755.000000\n",
       "mean     0.000491\n",
       "std      0.007848\n",
       "min     -0.040979\n",
       "25%     -0.002223\n",
       "50%      0.000553\n",
       "75%      0.004087\n",
       "max      0.049594"
      ]
     },
     "execution_count": 15,
     "metadata": {},
     "output_type": "execute_result"
    }
   ],
   "source": [
    "daily_returns_3_year = daily_returns.loc[\"2016-05-01\":\"2019-05-01\"]\n",
    "daily_returns_3_year.describe()"
   ]
  },
  {
   "cell_type": "code",
   "execution_count": 16,
   "metadata": {},
   "outputs": [
    {
     "data": {
      "text/plain": [
       "<matplotlib.axes._subplots.AxesSubplot at 0x2663b4d8160>"
      ]
     },
     "execution_count": 16,
     "metadata": {},
     "output_type": "execute_result"
    },
    {
     "data": {
      "image/png": "[encoded data removed]",
      "text/plain": [
       "<Figure size 1440x1080 with 1 Axes>"
      ]
     },
     "metadata": {
      "needs_background": "light"
     },
     "output_type": "display_data"
    }
   ],
   "source": [
    "daily_returns_1_year.plot(figsize=(20,15), title=\"S&P 500 Yearly daily return \")"
   ]
  },
  {
   "cell_type": "code",
   "execution_count": 17,
   "metadata": {},
   "outputs": [
    {
     "data": {
      "text/plain": [
       "<matplotlib.axes._subplots.AxesSubplot at 0x2663bc2e850>"
      ]
     },
     "execution_count": 17,
     "metadata": {},
     "output_type": "execute_result"
    },
    {
     "data": {
      "image/png": "[encoded data removed]",
      "text/plain": [
       "<Figure size 1440x1080 with 1 Axes>"
      ]
     },
     "metadata": {
      "needs_background": "light"
     },
     "output_type": "display_data"
    }
   ],
   "source": [
    "daily_returns_3_year.plot(figsize=(20,15), title=\"S&P 500 3 Year daily return \")"
   ]
  },
  {
   "cell_type": "markdown",
   "metadata": {},
   "source": [
    "# Calculating Cumulative Returns with Pandas\n",
    "The cumulative return on an investment is the total return on that investment over a defined period of time. Think of it as an accumulation of return values for each day of the period multiplied one upon another.\n",
    "\n",
    "To calculate the cumulative return, we can use the Pandas cumprod function. This function multiplies each number in a Pandas Series (or DataFrame column) by the next number in the series, through to the end of the series.\n",
    "\n",
    "  ### Formula\n",
    "            cumulative_returns = (1 + daily_returns).cumprod()\n",
    "            \n",
    "            \n",
    "Therefore, to generate the cumulative_returns DataFrame, we need to add 1 to each daily_returns value. For example, a daily return value of 0.005 becomes 1.005, allowing the multiplier that’s associated with the cumprod function to work properly. "
   ]
  },
  {
   "cell_type": "code",
   "execution_count": 18,
   "metadata": {},
   "outputs": [
    {
     "data": {
      "text/html": [
       "<div>\n",
       "<style scoped>\n",
       "    .dataframe tbody tr th:only-of-type {\n",
       "        vertical-align: middle;\n",
       "    }\n",
       "\n",
       "    .dataframe tbody tr th {\n",
       "        vertical-align: top;\n",
       "    }\n",
       "\n",
       "    .dataframe thead th {\n",
       "        text-align: right;\n",
       "    }\n",
       "</style>\n",
       "<table border=\"1\" class=\"dataframe\">\n",
       "  <thead>\n",
       "    <tr style=\"text-align: right;\">\n",
       "      <th></th>\n",
       "      <th>close</th>\n",
       "    </tr>\n",
       "  </thead>\n",
       "  <tbody>\n",
       "    <tr>\n",
       "      <th>0</th>\n",
       "      <td>11.25</td>\n",
       "    </tr>\n",
       "    <tr>\n",
       "      <th>1</th>\n",
       "      <td>11.98</td>\n",
       "    </tr>\n",
       "    <tr>\n",
       "      <th>2</th>\n",
       "      <td>10.74</td>\n",
       "    </tr>\n",
       "    <tr>\n",
       "      <th>3</th>\n",
       "      <td>11.16</td>\n",
       "    </tr>\n",
       "    <tr>\n",
       "      <th>4</th>\n",
       "      <td>12.35</td>\n",
       "    </tr>\n",
       "  </tbody>\n",
       "</table>\n",
       "</div>"
      ],
      "text/plain": [
       "   close\n",
       "0  11.25\n",
       "1  11.98\n",
       "2  10.74\n",
       "3  11.16\n",
       "4  12.35"
      ]
     },
     "execution_count": 18,
     "metadata": {},
     "output_type": "execute_result"
    }
   ],
   "source": [
    "# Example\n",
    "stock_xyz = pd.DataFrame({'close' : [11.25, 11.98, 10.74, 11.16, 12.35, 12.87, 13.03, 13.15, 13.50, 13.87]})\n",
    "stock_xyz_dailyreturns = stock_xyz.pct_change()\n",
    "stock_xyz.head()\n"
   ]
  },
  {
   "cell_type": "code",
   "execution_count": 19,
   "metadata": {},
   "outputs": [
    {
     "data": {
      "text/html": [
       "<div>\n",
       "<style scoped>\n",
       "    .dataframe tbody tr th:only-of-type {\n",
       "        vertical-align: middle;\n",
       "    }\n",
       "\n",
       "    .dataframe tbody tr th {\n",
       "        vertical-align: top;\n",
       "    }\n",
       "\n",
       "    .dataframe thead th {\n",
       "        text-align: right;\n",
       "    }\n",
       "</style>\n",
       "<table border=\"1\" class=\"dataframe\">\n",
       "  <thead>\n",
       "    <tr style=\"text-align: right;\">\n",
       "      <th></th>\n",
       "      <th>close</th>\n",
       "    </tr>\n",
       "  </thead>\n",
       "  <tbody>\n",
       "    <tr>\n",
       "      <th>0</th>\n",
       "      <td>NaN</td>\n",
       "    </tr>\n",
       "    <tr>\n",
       "      <th>1</th>\n",
       "      <td>1.064889</td>\n",
       "    </tr>\n",
       "    <tr>\n",
       "      <th>2</th>\n",
       "      <td>0.954667</td>\n",
       "    </tr>\n",
       "    <tr>\n",
       "      <th>3</th>\n",
       "      <td>0.992000</td>\n",
       "    </tr>\n",
       "    <tr>\n",
       "      <th>4</th>\n",
       "      <td>1.097778</td>\n",
       "    </tr>\n",
       "  </tbody>\n",
       "</table>\n",
       "</div>"
      ],
      "text/plain": [
       "      close\n",
       "0       NaN\n",
       "1  1.064889\n",
       "2  0.954667\n",
       "3  0.992000\n",
       "4  1.097778"
      ]
     },
     "execution_count": 19,
     "metadata": {},
     "output_type": "execute_result"
    }
   ],
   "source": [
    "stock_xyz_cumulative_returns =  (1 + stock_xyz_dailyreturns).cumprod()\n",
    "stock_xyz_cumulative_returns.head()"
   ]
  },
  {
   "cell_type": "code",
   "execution_count": 20,
   "metadata": {},
   "outputs": [
    {
     "data": {
      "text/html": [
       "<div>\n",
       "<style scoped>\n",
       "    .dataframe tbody tr th:only-of-type {\n",
       "        vertical-align: middle;\n",
       "    }\n",
       "\n",
       "    .dataframe tbody tr th {\n",
       "        vertical-align: top;\n",
       "    }\n",
       "\n",
       "    .dataframe thead th {\n",
       "        text-align: right;\n",
       "    }\n",
       "</style>\n",
       "<table border=\"1\" class=\"dataframe\">\n",
       "  <thead>\n",
       "    <tr style=\"text-align: right;\">\n",
       "      <th></th>\n",
       "      <th>Adj Close</th>\n",
       "    </tr>\n",
       "    <tr>\n",
       "      <th>Date</th>\n",
       "      <th></th>\n",
       "    </tr>\n",
       "  </thead>\n",
       "  <tbody>\n",
       "    <tr>\n",
       "      <th>2014-05-02</th>\n",
       "      <td>NaN</td>\n",
       "    </tr>\n",
       "    <tr>\n",
       "      <th>2014-05-05</th>\n",
       "      <td>1.001871</td>\n",
       "    </tr>\n",
       "    <tr>\n",
       "      <th>2014-05-06</th>\n",
       "      <td>0.992866</td>\n",
       "    </tr>\n",
       "    <tr>\n",
       "      <th>2014-05-07</th>\n",
       "      <td>0.998442</td>\n",
       "    </tr>\n",
       "    <tr>\n",
       "      <th>2014-05-08</th>\n",
       "      <td>0.997071</td>\n",
       "    </tr>\n",
       "  </tbody>\n",
       "</table>\n",
       "</div>"
      ],
      "text/plain": [
       "            Adj Close\n",
       "Date                 \n",
       "2014-05-02        NaN\n",
       "2014-05-05   1.001871\n",
       "2014-05-06   0.992866\n",
       "2014-05-07   0.998442\n",
       "2014-05-08   0.997071"
      ]
     },
     "execution_count": 20,
     "metadata": {},
     "output_type": "execute_result"
    }
   ],
   "source": [
    "cumulative_returns = (1 + daily_returns).cumprod()\n",
    "cumulative_returns.head()"
   ]
  },
  {
   "cell_type": "code",
   "execution_count": 21,
   "metadata": {},
   "outputs": [
    {
     "data": {
      "text/plain": [
       "<matplotlib.axes._subplots.AxesSubplot at 0x2663bcb18e0>"
      ]
     },
     "execution_count": 21,
     "metadata": {},
     "output_type": "execute_result"
    },
    {
     "data": {
      "image/png": "[encoded data removed]",
      "text/plain": [
       "<Figure size 720x360 with 1 Axes>"
      ]
     },
     "metadata": {
      "needs_background": "light"
     },
     "output_type": "display_data"
    }
   ],
   "source": [
    "cumulative_returns.plot(figsize=(10,5), title=\"S&P 500 Cumulative Returns 2014-2019\")"
   ]
  },
  {
   "cell_type": "code",
   "execution_count": 22,
   "metadata": {},
   "outputs": [
    {
     "data": {
      "text/plain": [
       "<matplotlib.axes._subplots.AxesSubplot at 0x2663c0ba040>"
      ]
     },
     "execution_count": 22,
     "metadata": {},
     "output_type": "execute_result"
    },
    {
     "data": {
      "image/png": "[encoded data removed]",
      "text/plain": [
       "<Figure size 720x360 with 1 Axes>"
      ]
     },
     "metadata": {
      "needs_background": "light"
     },
     "output_type": "display_data"
    }
   ],
   "source": [
    "cumulative_returns_3_year =(1 + daily_returns_3_year).cumprod() \n",
    "cumulative_returns_1_year =(1 + daily_returns_1_year).cumprod() \n",
    "ax = cumulative_returns.plot(\n",
    "    legend=\"True\",\n",
    "    figsize=(10,5),\n",
    "    title=\"S&P 500 Cumulative Returns 1, 3, & 5 years\")\n",
    "cumulative_returns_3_year.plot(ax=ax)\n",
    "cumulative_returns_1_year.plot(ax=ax)"
   ]
  },
  {
   "cell_type": "markdown",
   "metadata": {},
   "source": [
    "# Measure Risk via the Mean\n",
    "The mean serves as a baseline for the performance of an asset over a particular time period. Once we establish this baseline, we can measure how a stock performs relative to the baseline. For example, we consider an asset with dramatic daily fluctuations from the baseline riskier than one with consistent, smaller movements.\n",
    "\n",
    "Assume that we want to calculate the mean of a Series of numbers (that is, a single column of numbers in a DataFrame). We sum the values in the Series and then divide the sum by the Series count (that is, the number of elements in the Series). The following code shows an example:"
   ]
  },
  {
   "cell_type": "code",
   "execution_count": 23,
   "metadata": {},
   "outputs": [
    {
     "data": {
      "text/plain": [
       "11.911428571428571"
      ]
     },
     "execution_count": 23,
     "metadata": {},
     "output_type": "execute_result"
    }
   ],
   "source": [
    "stock_abc = pd.DataFrame({'close': [11.25, 11.98, 10.74, 11.16, 12.35, 12.87, 13.03]})\n",
    "stock_abc_mean_2 = stock_abc['close'].mean()\n",
    "stock_abc_mean_2"
   ]
  },
  {
   "cell_type": "code",
   "execution_count": 24,
   "metadata": {},
   "outputs": [
    {
     "data": {
      "text/plain": [
       "12.288"
      ]
     },
     "execution_count": 24,
     "metadata": {},
     "output_type": "execute_result"
    }
   ],
   "source": [
    "stock_abc = pd.DataFrame({'close' : [11.25, 11.98, 10.74, 11.16, 12.35, 12.87, 13.03, 13.14, 13.37, 12.99]})\n",
    "stock_abc_mean = stock_abc['close'].mean()\n",
    "stock_abc_mean"
   ]
  },
  {
   "cell_type": "code",
   "execution_count": 25,
   "metadata": {},
   "outputs": [
    {
     "data": {
      "text/plain": [
       "13.988"
      ]
     },
     "execution_count": 25,
     "metadata": {},
     "output_type": "execute_result"
    }
   ],
   "source": [
    "stock_def = pd.DataFrame({'close' : [14.25, 15.98, 11.74, 13.16, 12.35, 14.87, 15.03, 16.14, 13.37, 12.99]})\n",
    "stock_def_mean = stock_def['close'].mean()\n",
    "stock_def_mean"
   ]
  },
  {
   "cell_type": "markdown",
   "metadata": {},
   "source": [
    "# Measure Risk via the Standard Deviation\n",
    "\n",
    "Another metric that we use to quantify risk is the standard deviation. This measures the volatility of an asset’s price compared to its historical mean over a particular time period.\n",
    "\n",
    "        Volatility measures the movement of the price of an asset or index from its expected value. For example, if a stock has multiple large increases and decreases in its closing price over a short time period, we consider that stock volatile. (We consider increases and decreases large if they’re +/− 3.0% when the average return is +0.25%.)\n",
    "        \n",
    "A small standard deviation indicates that the daily return values of the asset don’t move far from the average. A large standard deviation indicates that the asset is quite volatile, fluctuating a lot in the daily return values.\n",
    "\n",
    "\n",
    "![Home Screen](https://imagesandstuff.s3.amazonaws.com/4-2-standard-deviation.png)\n",
    "\n",
    "\n"
   ]
  },
  {
   "cell_type": "markdown",
   "metadata": {},
   "source": [
    "# Practice Standard Deviation"
   ]
  },
  {
   "cell_type": "code",
   "execution_count": 26,
   "metadata": {},
   "outputs": [],
   "source": [
    "import pandas as pd\n",
    "import numpy as np\n",
    "from pathlib import Path"
   ]
  },
  {
   "cell_type": "code",
   "execution_count": 27,
   "metadata": {},
   "outputs": [
    {
     "data": {
      "text/html": [
       "<div>\n",
       "<style scoped>\n",
       "    .dataframe tbody tr th:only-of-type {\n",
       "        vertical-align: middle;\n",
       "    }\n",
       "\n",
       "    .dataframe tbody tr th {\n",
       "        vertical-align: top;\n",
       "    }\n",
       "\n",
       "    .dataframe thead th {\n",
       "        text-align: right;\n",
       "    }\n",
       "</style>\n",
       "<table border=\"1\" class=\"dataframe\">\n",
       "  <thead>\n",
       "    <tr style=\"text-align: right;\">\n",
       "      <th></th>\n",
       "      <th>AAPL</th>\n",
       "      <th>MSFT</th>\n",
       "      <th>GOOG</th>\n",
       "      <th>FB</th>\n",
       "      <th>AMZN</th>\n",
       "    </tr>\n",
       "    <tr>\n",
       "      <th>Date</th>\n",
       "      <th></th>\n",
       "      <th></th>\n",
       "      <th></th>\n",
       "      <th></th>\n",
       "      <th></th>\n",
       "    </tr>\n",
       "  </thead>\n",
       "  <tbody>\n",
       "    <tr>\n",
       "      <th>2018-01-02</th>\n",
       "      <td>168.339050</td>\n",
       "      <td>84.128128</td>\n",
       "      <td>1065.000000</td>\n",
       "      <td>181.419998</td>\n",
       "      <td>1189.010010</td>\n",
       "    </tr>\n",
       "    <tr>\n",
       "      <th>2018-01-03</th>\n",
       "      <td>168.309738</td>\n",
       "      <td>84.519646</td>\n",
       "      <td>1082.479980</td>\n",
       "      <td>184.669998</td>\n",
       "      <td>1204.199951</td>\n",
       "    </tr>\n",
       "    <tr>\n",
       "      <th>2018-01-04</th>\n",
       "      <td>169.091522</td>\n",
       "      <td>85.263542</td>\n",
       "      <td>1086.400024</td>\n",
       "      <td>184.330002</td>\n",
       "      <td>1209.589966</td>\n",
       "    </tr>\n",
       "    <tr>\n",
       "      <th>2018-01-05</th>\n",
       "      <td>171.016678</td>\n",
       "      <td>86.320648</td>\n",
       "      <td>1102.229980</td>\n",
       "      <td>186.850006</td>\n",
       "      <td>1229.140015</td>\n",
       "    </tr>\n",
       "    <tr>\n",
       "      <th>2018-01-08</th>\n",
       "      <td>170.381485</td>\n",
       "      <td>86.408737</td>\n",
       "      <td>1106.939941</td>\n",
       "      <td>188.279999</td>\n",
       "      <td>1246.869995</td>\n",
       "    </tr>\n",
       "  </tbody>\n",
       "</table>\n",
       "</div>"
      ],
      "text/plain": [
       "                  AAPL       MSFT         GOOG          FB         AMZN\n",
       "Date                                                                   \n",
       "2018-01-02  168.339050  84.128128  1065.000000  181.419998  1189.010010\n",
       "2018-01-03  168.309738  84.519646  1082.479980  184.669998  1204.199951\n",
       "2018-01-04  169.091522  85.263542  1086.400024  184.330002  1209.589966\n",
       "2018-01-05  171.016678  86.320648  1102.229980  186.850006  1229.140015\n",
       "2018-01-08  170.381485  86.408737  1106.939941  188.279999  1246.869995"
      ]
     },
     "execution_count": 27,
     "metadata": {},
     "output_type": "execute_result"
    }
   ],
   "source": [
    "tech_stocks_df = pd.read_csv(\"./tech_stocks_closing_value_2018.csv\", index_col=\"Date\", parse_dates=True, infer_datetime_format=True)\n",
    "tech_stocks_df.head()"
   ]
  },
  {
   "cell_type": "code",
   "execution_count": 28,
   "metadata": {},
   "outputs": [
    {
     "data": {
      "text/html": [
       "<div>\n",
       "<style scoped>\n",
       "    .dataframe tbody tr th:only-of-type {\n",
       "        vertical-align: middle;\n",
       "    }\n",
       "\n",
       "    .dataframe tbody tr th {\n",
       "        vertical-align: top;\n",
       "    }\n",
       "\n",
       "    .dataframe thead th {\n",
       "        text-align: right;\n",
       "    }\n",
       "</style>\n",
       "<table border=\"1\" class=\"dataframe\">\n",
       "  <thead>\n",
       "    <tr style=\"text-align: right;\">\n",
       "      <th></th>\n",
       "      <th>AAPL</th>\n",
       "      <th>MSFT</th>\n",
       "      <th>GOOG</th>\n",
       "      <th>FB</th>\n",
       "      <th>AMZN</th>\n",
       "    </tr>\n",
       "    <tr>\n",
       "      <th>Date</th>\n",
       "      <th></th>\n",
       "      <th></th>\n",
       "      <th></th>\n",
       "      <th></th>\n",
       "      <th></th>\n",
       "    </tr>\n",
       "  </thead>\n",
       "  <tbody>\n",
       "    <tr>\n",
       "      <th>2018-01-03</th>\n",
       "      <td>-0.000174</td>\n",
       "      <td>0.004654</td>\n",
       "      <td>0.016413</td>\n",
       "      <td>0.017914</td>\n",
       "      <td>0.012775</td>\n",
       "    </tr>\n",
       "    <tr>\n",
       "      <th>2018-01-04</th>\n",
       "      <td>0.004645</td>\n",
       "      <td>0.008801</td>\n",
       "      <td>0.003621</td>\n",
       "      <td>-0.001841</td>\n",
       "      <td>0.004476</td>\n",
       "    </tr>\n",
       "    <tr>\n",
       "      <th>2018-01-05</th>\n",
       "      <td>0.011385</td>\n",
       "      <td>0.012398</td>\n",
       "      <td>0.014571</td>\n",
       "      <td>0.013671</td>\n",
       "      <td>0.016163</td>\n",
       "    </tr>\n",
       "    <tr>\n",
       "      <th>2018-01-08</th>\n",
       "      <td>-0.003714</td>\n",
       "      <td>0.001020</td>\n",
       "      <td>0.004273</td>\n",
       "      <td>0.007653</td>\n",
       "      <td>0.014425</td>\n",
       "    </tr>\n",
       "    <tr>\n",
       "      <th>2018-01-09</th>\n",
       "      <td>-0.000115</td>\n",
       "      <td>-0.000680</td>\n",
       "      <td>-0.000614</td>\n",
       "      <td>-0.002178</td>\n",
       "      <td>0.004676</td>\n",
       "    </tr>\n",
       "  </tbody>\n",
       "</table>\n",
       "</div>"
      ],
      "text/plain": [
       "                AAPL      MSFT      GOOG        FB      AMZN\n",
       "Date                                                        \n",
       "2018-01-03 -0.000174  0.004654  0.016413  0.017914  0.012775\n",
       "2018-01-04  0.004645  0.008801  0.003621 -0.001841  0.004476\n",
       "2018-01-05  0.011385  0.012398  0.014571  0.013671  0.016163\n",
       "2018-01-08 -0.003714  0.001020  0.004273  0.007653  0.014425\n",
       "2018-01-09 -0.000115 -0.000680 -0.000614 -0.002178  0.004676"
      ]
     },
     "execution_count": 28,
     "metadata": {},
     "output_type": "execute_result"
    }
   ],
   "source": [
    "# Calculate daily returns using Pandas ‘pct_change’  and ‘dropna’\n",
    "daily_returns = tech_stocks_df.pct_change().dropna()\n",
    "daily_returns.head()"
   ]
  },
  {
   "cell_type": "code",
   "execution_count": 29,
   "metadata": {},
   "outputs": [
    {
     "data": {
      "text/plain": [
       "AAPL    0.018106\n",
       "MSFT    0.017839\n",
       "GOOG    0.017724\n",
       "FB      0.023949\n",
       "AMZN    0.022768\n",
       "dtype: float64"
      ]
     },
     "execution_count": 29,
     "metadata": {},
     "output_type": "execute_result"
    }
   ],
   "source": [
    "# Calculate the standard deviation for each of the tech stocks\n",
    "# call the Pandas `std` function on the `daily_returns` DataFrame\n",
    "standard_deviation = daily_returns.std()\n",
    "standard_deviation.head()"
   ]
  },
  {
   "cell_type": "code",
   "execution_count": 30,
   "metadata": {},
   "outputs": [
    {
     "data": {
      "text/plain": [
       "GOOG    0.017724\n",
       "MSFT    0.017839\n",
       "AAPL    0.018106\n",
       "AMZN    0.022768\n",
       "FB      0.023949\n",
       "dtype: float64"
      ]
     },
     "execution_count": 30,
     "metadata": {},
     "output_type": "execute_result"
    }
   ],
   "source": [
    "# Sort the standard deviation values using Pandas 'sort_values' function\n",
    "standard_deviation_sorted = standard_deviation.sort_values()\n",
    "standard_deviation_sorted"
   ]
  },
  {
   "cell_type": "markdown",
   "metadata": {},
   "source": [
    "By inspecting these five values, you can observe that Facebook (FB) has the largest number, or standard deviation. This means that of the five stocks, the Facebook individual returns deviate the most from its average return. That is, Facebook is the most volatile stock and therefore the most risky. By contrast, Google (GOOG) has the smallest standard deviation, which indicates that it’s the least risky."
   ]
  },
  {
   "cell_type": "markdown",
   "metadata": {},
   "source": [
    "## Practice 2"
   ]
  },
  {
   "cell_type": "code",
   "execution_count": 31,
   "metadata": {},
   "outputs": [
    {
     "data": {
      "text/html": [
       "<div>\n",
       "<style scoped>\n",
       "    .dataframe tbody tr th:only-of-type {\n",
       "        vertical-align: middle;\n",
       "    }\n",
       "\n",
       "    .dataframe tbody tr th {\n",
       "        vertical-align: top;\n",
       "    }\n",
       "\n",
       "    .dataframe thead th {\n",
       "        text-align: right;\n",
       "    }\n",
       "</style>\n",
       "<table border=\"1\" class=\"dataframe\">\n",
       "  <thead>\n",
       "    <tr style=\"text-align: right;\">\n",
       "      <th></th>\n",
       "      <th>stock_abc</th>\n",
       "      <th>stock_def</th>\n",
       "      <th>stock_efg</th>\n",
       "    </tr>\n",
       "  </thead>\n",
       "  <tbody>\n",
       "    <tr>\n",
       "      <th>0</th>\n",
       "      <td>17.89</td>\n",
       "      <td>124.37</td>\n",
       "      <td>5.45</td>\n",
       "    </tr>\n",
       "    <tr>\n",
       "      <th>1</th>\n",
       "      <td>16.43</td>\n",
       "      <td>125.21</td>\n",
       "      <td>5.50</td>\n",
       "    </tr>\n",
       "    <tr>\n",
       "      <th>2</th>\n",
       "      <td>16.25</td>\n",
       "      <td>125.75</td>\n",
       "      <td>5.75</td>\n",
       "    </tr>\n",
       "    <tr>\n",
       "      <th>3</th>\n",
       "      <td>15.74</td>\n",
       "      <td>126.51</td>\n",
       "      <td>5.10</td>\n",
       "    </tr>\n",
       "    <tr>\n",
       "      <th>4</th>\n",
       "      <td>15.36</td>\n",
       "      <td>127.25</td>\n",
       "      <td>4.90</td>\n",
       "    </tr>\n",
       "  </tbody>\n",
       "</table>\n",
       "</div>"
      ],
      "text/plain": [
       "   stock_abc  stock_def  stock_efg\n",
       "0      17.89     124.37       5.45\n",
       "1      16.43     125.21       5.50\n",
       "2      16.25     125.75       5.75\n",
       "3      15.74     126.51       5.10\n",
       "4      15.36     127.25       4.90"
      ]
     },
     "execution_count": 31,
     "metadata": {},
     "output_type": "execute_result"
    }
   ],
   "source": [
    "stocks = pd.DataFrame({\n",
    "    'stock_abc' : [17.89, 16.43, 16.25, 15.74, 15.36, 18.29, 18.00, 18.15, 18.30, 18.50],\n",
    "    'stock_def' : [124.37, 125.21, 125.75, 126.51, 127.25, 127.00, 127.10, 126.89, 126.99, 127.75],\n",
    "    'stock_efg' : [5.45, 5.50, 5.75, 5.10, 4.90, 4.75, 4.70, 4.80, 4.29, 4.33]\n",
    "})\n",
    "\n",
    "stocks.head()"
   ]
  },
  {
   "cell_type": "code",
   "execution_count": 32,
   "metadata": {},
   "outputs": [
    {
     "data": {
      "text/html": [
       "<div>\n",
       "<style scoped>\n",
       "    .dataframe tbody tr th:only-of-type {\n",
       "        vertical-align: middle;\n",
       "    }\n",
       "\n",
       "    .dataframe tbody tr th {\n",
       "        vertical-align: top;\n",
       "    }\n",
       "\n",
       "    .dataframe thead th {\n",
       "        text-align: right;\n",
       "    }\n",
       "</style>\n",
       "<table border=\"1\" class=\"dataframe\">\n",
       "  <thead>\n",
       "    <tr style=\"text-align: right;\">\n",
       "      <th></th>\n",
       "      <th>stock_abc</th>\n",
       "      <th>stock_def</th>\n",
       "      <th>stock_efg</th>\n",
       "    </tr>\n",
       "  </thead>\n",
       "  <tbody>\n",
       "    <tr>\n",
       "      <th>1</th>\n",
       "      <td>-0.081610</td>\n",
       "      <td>0.006754</td>\n",
       "      <td>0.009174</td>\n",
       "    </tr>\n",
       "    <tr>\n",
       "      <th>2</th>\n",
       "      <td>-0.010956</td>\n",
       "      <td>0.004313</td>\n",
       "      <td>0.045455</td>\n",
       "    </tr>\n",
       "    <tr>\n",
       "      <th>3</th>\n",
       "      <td>-0.031385</td>\n",
       "      <td>0.006044</td>\n",
       "      <td>-0.113043</td>\n",
       "    </tr>\n",
       "    <tr>\n",
       "      <th>4</th>\n",
       "      <td>-0.024142</td>\n",
       "      <td>0.005849</td>\n",
       "      <td>-0.039216</td>\n",
       "    </tr>\n",
       "    <tr>\n",
       "      <th>5</th>\n",
       "      <td>0.190755</td>\n",
       "      <td>-0.001965</td>\n",
       "      <td>-0.030612</td>\n",
       "    </tr>\n",
       "  </tbody>\n",
       "</table>\n",
       "</div>"
      ],
      "text/plain": [
       "   stock_abc  stock_def  stock_efg\n",
       "1  -0.081610   0.006754   0.009174\n",
       "2  -0.010956   0.004313   0.045455\n",
       "3  -0.031385   0.006044  -0.113043\n",
       "4  -0.024142   0.005849  -0.039216\n",
       "5   0.190755  -0.001965  -0.030612"
      ]
     },
     "execution_count": 32,
     "metadata": {},
     "output_type": "execute_result"
    }
   ],
   "source": [
    "# Calculating the daily returns\n",
    "\n",
    "stocks_daily_returns = stocks.pct_change().dropna()\n",
    "stocks_daily_returns.head()"
   ]
  },
  {
   "cell_type": "code",
   "execution_count": 33,
   "metadata": {},
   "outputs": [
    {
     "data": {
      "text/plain": [
       "stock_def    0.003503\n",
       "stock_efg    0.055040\n",
       "stock_abc    0.074930\n",
       "dtype: float64"
      ]
     },
     "execution_count": 33,
     "metadata": {},
     "output_type": "execute_result"
    }
   ],
   "source": [
    "# Calculating the Standard deviation\n",
    "\n",
    "stocks_standard_deviation = stocks_daily_returns.std()\n",
    "stocks_standard_deviation.sort_values()"
   ]
  },
  {
   "cell_type": "markdown",
   "metadata": {},
   "source": [
    "# The Annualized Standard Deviation\n",
    "\n",
    "We’ll calculate the annualized standard deviation (std) by using the numbers we just generated from the daily returns. To do this, we need to multiply the square root of the number of trading days in a year by the standard deviation, as the following formula shows:\n",
    "\n",
    "            std = std × √ of the number of trading days in a year"
   ]
  },
  {
   "cell_type": "code",
   "execution_count": 34,
   "metadata": {},
   "outputs": [
    {
     "data": {
      "text/plain": [
       "GOOG    0.281354\n",
       "MSFT    0.283180\n",
       "AAPL    0.287428\n",
       "AMZN    0.361434\n",
       "FB      0.380172\n",
       "dtype: float64"
      ]
     },
     "execution_count": 34,
     "metadata": {},
     "output_type": "execute_result"
    }
   ],
   "source": [
    "# Calculate the annualized standard deviation, using the standard_deviation\n",
    "# from the daily_returns DataFrame multiplied by the square root (np.sqrt)\n",
    "# of the number of trading days in a year (252)\n",
    "annualized_standard_deviation = standard_deviation * np.sqrt(252)\n",
    "annualized_standard_deviation.sort_values()\n"
   ]
  },
  {
   "cell_type": "markdown",
   "metadata": {},
   "source": [
    "Notice that the annualized standard deviations have changed compared to the calculated standard deviations. (For example, the GOOG annualized value is 0.281354, whereas the GOOG calculated value was 0.017724). However, the order of the tech stocks from least risky (GOOG) to most risky (FB) remains the same."
   ]
  },
  {
   "cell_type": "markdown",
   "metadata": {},
   "source": [
    "# Visualize the Standard Deviation via Box Plots\n",
    "\n",
    "One of the primary visualizations that we use with measures of standard deviation is the Pandas box plot (also known as the box-and-whiskers plot). The box plot has become the standard for displaying standard deviation data, because it illustrates the total spread of the data. That is, it shows the mean value, the 50% of data that’s clustered around the mean, and the outliers. Yes, all this information is packed into one simple image! Let's find out how the box plot does this."
   ]
  },
  {
   "cell_type": "code",
   "execution_count": 35,
   "metadata": {},
   "outputs": [
    {
     "data": {
      "text/plain": [
       "<matplotlib.axes._subplots.AxesSubplot at 0x2663c10d910>"
      ]
     },
     "execution_count": 35,
     "metadata": {},
     "output_type": "execute_result"
    },
    {
     "data": {
      "image/png": "[encoded data removed]",
      "text/plain": [
       "<Figure size 432x288 with 1 Axes>"
      ]
     },
     "metadata": {
      "needs_background": "light"
     },
     "output_type": "display_data"
    }
   ],
   "source": [
    "# Plot box plot\n",
    "tech_stocks_df.plot.box()"
   ]
  },
  {
   "cell_type": "markdown",
   "metadata": {},
   "source": [
    "Let’s break down this plot:\n",
    "\n",
    "The horizontal green line in the middle of each box represents the mean value of the data.\n",
    "\n",
    "Each box itself represents the 50% of the data points that cluster around the mean. People often refer to this as the interquartile range. The longer the box is, the more spread out this 50% of data is. For example, if the mean is 5, and the middle data points are 4 and 6, the box will be much narrower than a box with a mean of 5 and middle data points of 1 and 9. A longer box indicates greater volatility in the daily return data.\n",
    "\n",
    "The vertical lines are the whiskers, which represent the range, or spread, of the data. Longer whiskers indicate greater volatility in the data.\n",
    "\n",
    "Any data points that extend beyond the whiskers are the outliers, which also indicate volatility and risk.\n",
    "\n",
    "A box plot that displays a long box, long whiskers, and several outliers indicates a highly volatile and, therefore, high-risk asset.\n",
    "\n",
    "\n"
   ]
  },
  {
   "cell_type": "code",
   "execution_count": 36,
   "metadata": {},
   "outputs": [
    {
     "data": {
      "text/plain": [
       "<matplotlib.axes._subplots.AxesSubplot at 0x2663c2174c0>"
      ]
     },
     "execution_count": 36,
     "metadata": {},
     "output_type": "execute_result"
    },
    {
     "data": {
      "image/png": "[encoded data removed]",
      "text/plain": [
       "<Figure size 432x288 with 1 Axes>"
      ]
     },
     "metadata": {
      "needs_background": "light"
     },
     "output_type": "display_data"
    }
   ],
   "source": [
    "# Create a Pandas box plot from the `daily_returns` DataFrame\n",
    "daily_returns.plot.box(title=\"Box Plot of Daily Returns Data - 5 Tech Stocks\")"
   ]
  },
  {
   "cell_type": "markdown",
   "metadata": {},
   "source": [
    "Based on this plot, it appears that the daily return data for GOOG is the least volatile. The GOOG box plot has the least number of outliers, and the whiskers seem to be among the shortest. This makes sense, because GOOG has the smallest standard deviation, which is another measure of volatility.\n",
    "\n",
    "Additionally, FB and AMZN are in close contention for the most volatile. They both seem to have longer whiskers with several outliers. Do you notice the one FB outlier way down at the bottom of the plot? This single data point is probably what won FB the title as the most volatile of the five stocks in terms of the standard deviation."
   ]
  },
  {
   "cell_type": "markdown",
   "metadata": {},
   "source": [
    "# Evaluating Risk and Return: The Sharpe Ratio\n",
    "\n",
    "As a quantitative analyst in the fintech industry, you need to not only evaluate the risk of an investment but also examine that risk in relation to the potential reward.\n",
    "\n",
    "What does this mean? Let’s say that two assets have the same risk profile and the same annualized standard deviation. However, one asset has the potential of returning 10% on its investment, and the other has the potential of returning 25%. If you consider just the standard deviations without knowing the potential returns, you might think that the choice between the two assets is a toss-up. But if you know the potential returns, you’ll likely choose the asset with the potential of 25%.\n",
    "\n",
    "The Sharpe ratio is a metric that helps quantify both the risk and the potential reward of a particular investment.\n",
    "\n",
    "To calculate the Sharpe ratio for an investment, we first subtract the risk-free rate of that investment from its annual average return, and we then divide the result by the annualized standard deviation of the investment's return. The formula to calculate this ratio is as follows:"
   ]
  },
  {
   "cell_type": "code",
   "execution_count": 37,
   "metadata": {},
   "outputs": [],
   "source": [
    "portfolio_a = pd.read_csv(\n",
    "    Path(\"./tech_stocks_2018_a.csv\"),\n",
    "    index_col=\"Date\",\n",
    "    parse_dates=True,\n",
    "    infer_datetime_format=True\n",
    ")\n",
    "\n",
    "portfolio_b = pd.read_csv(\n",
    "    Path(\"./tech_stocks_2018_b.csv\"),\n",
    "    index_col=\"Date\",\n",
    "    parse_dates=True,\n",
    "    infer_datetime_format=True\n",
    ")\n"
   ]
  },
  {
   "cell_type": "code",
   "execution_count": 38,
   "metadata": {},
   "outputs": [
    {
     "name": "stdout",
     "output_type": "stream",
     "text": [
      "Portfolio A data\n"
     ]
    },
    {
     "data": {
      "text/html": [
       "<div>\n",
       "<style scoped>\n",
       "    .dataframe tbody tr th:only-of-type {\n",
       "        vertical-align: middle;\n",
       "    }\n",
       "\n",
       "    .dataframe tbody tr th {\n",
       "        vertical-align: top;\n",
       "    }\n",
       "\n",
       "    .dataframe thead th {\n",
       "        text-align: right;\n",
       "    }\n",
       "</style>\n",
       "<table border=\"1\" class=\"dataframe\">\n",
       "  <thead>\n",
       "    <tr style=\"text-align: right;\">\n",
       "      <th></th>\n",
       "      <th>AAPL</th>\n",
       "      <th>MSFT</th>\n",
       "      <th>GOOG</th>\n",
       "      <th>FB</th>\n",
       "      <th>AMZN</th>\n",
       "    </tr>\n",
       "    <tr>\n",
       "      <th>Date</th>\n",
       "      <th></th>\n",
       "      <th></th>\n",
       "      <th></th>\n",
       "      <th></th>\n",
       "      <th></th>\n",
       "    </tr>\n",
       "  </thead>\n",
       "  <tbody>\n",
       "    <tr>\n",
       "      <th>2018-08-22</th>\n",
       "      <td>215.05</td>\n",
       "      <td>107.06</td>\n",
       "      <td>1207.33</td>\n",
       "      <td>173.640</td>\n",
       "      <td>1904.90</td>\n",
       "    </tr>\n",
       "    <tr>\n",
       "      <th>2018-08-23</th>\n",
       "      <td>215.49</td>\n",
       "      <td>107.56</td>\n",
       "      <td>1205.38</td>\n",
       "      <td>172.900</td>\n",
       "      <td>1902.90</td>\n",
       "    </tr>\n",
       "    <tr>\n",
       "      <th>2018-08-24</th>\n",
       "      <td>216.16</td>\n",
       "      <td>108.40</td>\n",
       "      <td>1220.65</td>\n",
       "      <td>174.645</td>\n",
       "      <td>1905.39</td>\n",
       "    </tr>\n",
       "    <tr>\n",
       "      <th>2018-08-27</th>\n",
       "      <td>217.94</td>\n",
       "      <td>109.60</td>\n",
       "      <td>1241.82</td>\n",
       "      <td>177.460</td>\n",
       "      <td>1927.68</td>\n",
       "    </tr>\n",
       "    <tr>\n",
       "      <th>2018-08-28</th>\n",
       "      <td>219.70</td>\n",
       "      <td>110.26</td>\n",
       "      <td>1231.15</td>\n",
       "      <td>176.260</td>\n",
       "      <td>1932.82</td>\n",
       "    </tr>\n",
       "  </tbody>\n",
       "</table>\n",
       "</div>"
      ],
      "text/plain": [
       "              AAPL    MSFT     GOOG       FB     AMZN\n",
       "Date                                                 \n",
       "2018-08-22  215.05  107.06  1207.33  173.640  1904.90\n",
       "2018-08-23  215.49  107.56  1205.38  172.900  1902.90\n",
       "2018-08-24  216.16  108.40  1220.65  174.645  1905.39\n",
       "2018-08-27  217.94  109.60  1241.82  177.460  1927.68\n",
       "2018-08-28  219.70  110.26  1231.15  176.260  1932.82"
      ]
     },
     "metadata": {},
     "output_type": "display_data"
    },
    {
     "name": "stdout",
     "output_type": "stream",
     "text": [
      "----------\n",
      "Portfolio B data\n"
     ]
    },
    {
     "data": {
      "text/html": [
       "<div>\n",
       "<style scoped>\n",
       "    .dataframe tbody tr th:only-of-type {\n",
       "        vertical-align: middle;\n",
       "    }\n",
       "\n",
       "    .dataframe tbody tr th {\n",
       "        vertical-align: top;\n",
       "    }\n",
       "\n",
       "    .dataframe thead th {\n",
       "        text-align: right;\n",
       "    }\n",
       "</style>\n",
       "<table border=\"1\" class=\"dataframe\">\n",
       "  <thead>\n",
       "    <tr style=\"text-align: right;\">\n",
       "      <th></th>\n",
       "      <th>SNE</th>\n",
       "      <th>AMD</th>\n",
       "      <th>TWTR</th>\n",
       "      <th>IBM</th>\n",
       "      <th>MU</th>\n",
       "    </tr>\n",
       "    <tr>\n",
       "      <th>Date</th>\n",
       "      <th></th>\n",
       "      <th></th>\n",
       "      <th></th>\n",
       "      <th></th>\n",
       "      <th></th>\n",
       "    </tr>\n",
       "  </thead>\n",
       "  <tbody>\n",
       "    <tr>\n",
       "      <th>2018-08-22</th>\n",
       "      <td>54.62</td>\n",
       "      <td>20.9</td>\n",
       "      <td>33.81</td>\n",
       "      <td>145.24</td>\n",
       "      <td>50.24</td>\n",
       "    </tr>\n",
       "    <tr>\n",
       "      <th>2018-08-23</th>\n",
       "      <td>54.41</td>\n",
       "      <td>22.29</td>\n",
       "      <td>33.88</td>\n",
       "      <td>145.37</td>\n",
       "      <td>49.70</td>\n",
       "    </tr>\n",
       "    <tr>\n",
       "      <th>2018-08-24</th>\n",
       "      <td>54.54</td>\n",
       "      <td>23.98</td>\n",
       "      <td>34.28</td>\n",
       "      <td>146.04</td>\n",
       "      <td>50.70</td>\n",
       "    </tr>\n",
       "    <tr>\n",
       "      <th>2018-08-27</th>\n",
       "      <td>56.02</td>\n",
       "      <td>25.26</td>\n",
       "      <td>35.89</td>\n",
       "      <td>146.69</td>\n",
       "      <td>52.07</td>\n",
       "    </tr>\n",
       "    <tr>\n",
       "      <th>2018-08-28</th>\n",
       "      <td>55.77</td>\n",
       "      <td>25.05</td>\n",
       "      <td>35.49</td>\n",
       "      <td>146.59</td>\n",
       "      <td>52.34</td>\n",
       "    </tr>\n",
       "  </tbody>\n",
       "</table>\n",
       "</div>"
      ],
      "text/plain": [
       "              SNE    AMD   TWTR     IBM     MU\n",
       "Date                                          \n",
       "2018-08-22  54.62   20.9  33.81  145.24  50.24\n",
       "2018-08-23  54.41  22.29  33.88  145.37  49.70\n",
       "2018-08-24  54.54  23.98  34.28  146.04  50.70\n",
       "2018-08-27  56.02  25.26  35.89  146.69  52.07\n",
       "2018-08-28  55.77  25.05  35.49  146.59  52.34"
      ]
     },
     "metadata": {},
     "output_type": "display_data"
    }
   ],
   "source": [
    "print(\"Portfolio A data\")\n",
    "display(portfolio_a.head())\n",
    "\n",
    "print(\"----------\")\n",
    "\n",
    "print(\"Portfolio B data\")\n",
    "display(portfolio_b.head())"
   ]
  },
  {
   "cell_type": "code",
   "execution_count": 39,
   "metadata": {},
   "outputs": [
    {
     "name": "stdout",
     "output_type": "stream",
     "text": [
      "Combined Portfolios A and B data\n"
     ]
    },
    {
     "data": {
      "text/html": [
       "<div>\n",
       "<style scoped>\n",
       "    .dataframe tbody tr th:only-of-type {\n",
       "        vertical-align: middle;\n",
       "    }\n",
       "\n",
       "    .dataframe tbody tr th {\n",
       "        vertical-align: top;\n",
       "    }\n",
       "\n",
       "    .dataframe thead th {\n",
       "        text-align: right;\n",
       "    }\n",
       "</style>\n",
       "<table border=\"1\" class=\"dataframe\">\n",
       "  <thead>\n",
       "    <tr style=\"text-align: right;\">\n",
       "      <th></th>\n",
       "      <th>AAPL</th>\n",
       "      <th>MSFT</th>\n",
       "      <th>GOOG</th>\n",
       "      <th>FB</th>\n",
       "      <th>AMZN</th>\n",
       "      <th>SNE</th>\n",
       "      <th>AMD</th>\n",
       "      <th>TWTR</th>\n",
       "      <th>IBM</th>\n",
       "      <th>MU</th>\n",
       "    </tr>\n",
       "    <tr>\n",
       "      <th>Date</th>\n",
       "      <th></th>\n",
       "      <th></th>\n",
       "      <th></th>\n",
       "      <th></th>\n",
       "      <th></th>\n",
       "      <th></th>\n",
       "      <th></th>\n",
       "      <th></th>\n",
       "      <th></th>\n",
       "      <th></th>\n",
       "    </tr>\n",
       "  </thead>\n",
       "  <tbody>\n",
       "    <tr>\n",
       "      <th>2018-08-22</th>\n",
       "      <td>215.05</td>\n",
       "      <td>107.06</td>\n",
       "      <td>1207.33</td>\n",
       "      <td>173.640</td>\n",
       "      <td>1904.90</td>\n",
       "      <td>54.62</td>\n",
       "      <td>20.90</td>\n",
       "      <td>33.81</td>\n",
       "      <td>145.24</td>\n",
       "      <td>50.24</td>\n",
       "    </tr>\n",
       "    <tr>\n",
       "      <th>2018-08-23</th>\n",
       "      <td>215.49</td>\n",
       "      <td>107.56</td>\n",
       "      <td>1205.38</td>\n",
       "      <td>172.900</td>\n",
       "      <td>1902.90</td>\n",
       "      <td>54.41</td>\n",
       "      <td>22.29</td>\n",
       "      <td>33.88</td>\n",
       "      <td>145.37</td>\n",
       "      <td>49.70</td>\n",
       "    </tr>\n",
       "    <tr>\n",
       "      <th>2018-08-24</th>\n",
       "      <td>216.16</td>\n",
       "      <td>108.40</td>\n",
       "      <td>1220.65</td>\n",
       "      <td>174.645</td>\n",
       "      <td>1905.39</td>\n",
       "      <td>54.54</td>\n",
       "      <td>23.98</td>\n",
       "      <td>34.28</td>\n",
       "      <td>146.04</td>\n",
       "      <td>50.70</td>\n",
       "    </tr>\n",
       "    <tr>\n",
       "      <th>2018-08-27</th>\n",
       "      <td>217.94</td>\n",
       "      <td>109.60</td>\n",
       "      <td>1241.82</td>\n",
       "      <td>177.460</td>\n",
       "      <td>1927.68</td>\n",
       "      <td>56.02</td>\n",
       "      <td>25.26</td>\n",
       "      <td>35.89</td>\n",
       "      <td>146.69</td>\n",
       "      <td>52.07</td>\n",
       "    </tr>\n",
       "    <tr>\n",
       "      <th>2018-08-28</th>\n",
       "      <td>219.70</td>\n",
       "      <td>110.26</td>\n",
       "      <td>1231.15</td>\n",
       "      <td>176.260</td>\n",
       "      <td>1932.82</td>\n",
       "      <td>55.77</td>\n",
       "      <td>25.05</td>\n",
       "      <td>35.49</td>\n",
       "      <td>146.59</td>\n",
       "      <td>52.34</td>\n",
       "    </tr>\n",
       "  </tbody>\n",
       "</table>\n",
       "</div>"
      ],
      "text/plain": [
       "              AAPL    MSFT     GOOG       FB     AMZN    SNE    AMD   TWTR  \\\n",
       "Date                                                                         \n",
       "2018-08-22  215.05  107.06  1207.33  173.640  1904.90  54.62  20.90  33.81   \n",
       "2018-08-23  215.49  107.56  1205.38  172.900  1902.90  54.41  22.29  33.88   \n",
       "2018-08-24  216.16  108.40  1220.65  174.645  1905.39  54.54  23.98  34.28   \n",
       "2018-08-27  217.94  109.60  1241.82  177.460  1927.68  56.02  25.26  35.89   \n",
       "2018-08-28  219.70  110.26  1231.15  176.260  1932.82  55.77  25.05  35.49   \n",
       "\n",
       "               IBM     MU  \n",
       "Date                       \n",
       "2018-08-22  145.24  50.24  \n",
       "2018-08-23  145.37  49.70  \n",
       "2018-08-24  146.04  50.70  \n",
       "2018-08-27  146.69  52.07  \n",
       "2018-08-28  146.59  52.34  "
      ]
     },
     "metadata": {},
     "output_type": "display_data"
    }
   ],
   "source": [
    "# Use the read_csv function and Path module to import the combination of Portfolio A and B\n",
    "portfolios_a_b = pd.read_csv(\n",
    "    Path(\"./tech_stocks_a_b.csv\"),\n",
    "    index_col=\"Date\",\n",
    "    parse_dates=True,\n",
    "    infer_datetime_format=True\n",
    ")\n",
    "\n",
    "print(\"Combined Portfolios A and B data\")\n",
    "display(portfolios_a_b.head())"
   ]
  },
  {
   "cell_type": "code",
   "execution_count": 40,
   "metadata": {},
   "outputs": [
    {
     "data": {
      "text/html": [
       "<div>\n",
       "<style scoped>\n",
       "    .dataframe tbody tr th:only-of-type {\n",
       "        vertical-align: middle;\n",
       "    }\n",
       "\n",
       "    .dataframe tbody tr th {\n",
       "        vertical-align: top;\n",
       "    }\n",
       "\n",
       "    .dataframe thead th {\n",
       "        text-align: right;\n",
       "    }\n",
       "</style>\n",
       "<table border=\"1\" class=\"dataframe\">\n",
       "  <thead>\n",
       "    <tr style=\"text-align: right;\">\n",
       "      <th></th>\n",
       "      <th>AAPL</th>\n",
       "      <th>MSFT</th>\n",
       "      <th>GOOG</th>\n",
       "      <th>FB</th>\n",
       "      <th>AMZN</th>\n",
       "      <th>SNE</th>\n",
       "      <th>AMD</th>\n",
       "      <th>TWTR</th>\n",
       "      <th>IBM</th>\n",
       "      <th>MU</th>\n",
       "    </tr>\n",
       "    <tr>\n",
       "      <th>Date</th>\n",
       "      <th></th>\n",
       "      <th></th>\n",
       "      <th></th>\n",
       "      <th></th>\n",
       "      <th></th>\n",
       "      <th></th>\n",
       "      <th></th>\n",
       "      <th></th>\n",
       "      <th></th>\n",
       "      <th></th>\n",
       "    </tr>\n",
       "  </thead>\n",
       "  <tbody>\n",
       "    <tr>\n",
       "      <th>2018-08-23</th>\n",
       "      <td>0.002046</td>\n",
       "      <td>0.004670</td>\n",
       "      <td>-0.001615</td>\n",
       "      <td>-0.004262</td>\n",
       "      <td>-0.001050</td>\n",
       "      <td>-0.003845</td>\n",
       "      <td>0.066507</td>\n",
       "      <td>0.002070</td>\n",
       "      <td>0.000895</td>\n",
       "      <td>-0.010748</td>\n",
       "    </tr>\n",
       "    <tr>\n",
       "      <th>2018-08-24</th>\n",
       "      <td>0.003109</td>\n",
       "      <td>0.007810</td>\n",
       "      <td>0.012668</td>\n",
       "      <td>0.010093</td>\n",
       "      <td>0.001309</td>\n",
       "      <td>0.002389</td>\n",
       "      <td>0.075819</td>\n",
       "      <td>0.011806</td>\n",
       "      <td>0.004609</td>\n",
       "      <td>0.020121</td>\n",
       "    </tr>\n",
       "    <tr>\n",
       "      <th>2018-08-27</th>\n",
       "      <td>0.008235</td>\n",
       "      <td>0.011070</td>\n",
       "      <td>0.017343</td>\n",
       "      <td>0.016118</td>\n",
       "      <td>0.011698</td>\n",
       "      <td>0.027136</td>\n",
       "      <td>0.053378</td>\n",
       "      <td>0.046966</td>\n",
       "      <td>0.004451</td>\n",
       "      <td>0.027022</td>\n",
       "    </tr>\n",
       "    <tr>\n",
       "      <th>2018-08-28</th>\n",
       "      <td>0.008076</td>\n",
       "      <td>0.006022</td>\n",
       "      <td>-0.008592</td>\n",
       "      <td>-0.006762</td>\n",
       "      <td>0.002666</td>\n",
       "      <td>-0.004463</td>\n",
       "      <td>-0.008314</td>\n",
       "      <td>-0.011145</td>\n",
       "      <td>-0.000682</td>\n",
       "      <td>0.005185</td>\n",
       "    </tr>\n",
       "    <tr>\n",
       "      <th>2018-08-29</th>\n",
       "      <td>0.014929</td>\n",
       "      <td>0.015962</td>\n",
       "      <td>0.014742</td>\n",
       "      <td>-0.002042</td>\n",
       "      <td>0.033774</td>\n",
       "      <td>0.023310</td>\n",
       "      <td>0.005988</td>\n",
       "      <td>-0.003945</td>\n",
       "      <td>0.006481</td>\n",
       "      <td>-0.009744</td>\n",
       "    </tr>\n",
       "  </tbody>\n",
       "</table>\n",
       "</div>"
      ],
      "text/plain": [
       "                AAPL      MSFT      GOOG        FB      AMZN       SNE  \\\n",
       "Date                                                                     \n",
       "2018-08-23  0.002046  0.004670 -0.001615 -0.004262 -0.001050 -0.003845   \n",
       "2018-08-24  0.003109  0.007810  0.012668  0.010093  0.001309  0.002389   \n",
       "2018-08-27  0.008235  0.011070  0.017343  0.016118  0.011698  0.027136   \n",
       "2018-08-28  0.008076  0.006022 -0.008592 -0.006762  0.002666 -0.004463   \n",
       "2018-08-29  0.014929  0.015962  0.014742 -0.002042  0.033774  0.023310   \n",
       "\n",
       "                 AMD      TWTR       IBM        MU  \n",
       "Date                                                \n",
       "2018-08-23  0.066507  0.002070  0.000895 -0.010748  \n",
       "2018-08-24  0.075819  0.011806  0.004609  0.020121  \n",
       "2018-08-27  0.053378  0.046966  0.004451  0.027022  \n",
       "2018-08-28 -0.008314 -0.011145 -0.000682  0.005185  \n",
       "2018-08-29  0.005988 -0.003945  0.006481 -0.009744  "
      ]
     },
     "execution_count": 40,
     "metadata": {},
     "output_type": "execute_result"
    }
   ],
   "source": [
    "# Calculate daily returns using the combined portfolio\n",
    "daily_returns_a_b = portfolios_a_b.pct_change().dropna()\n",
    "daily_returns_a_b.head()\n"
   ]
  },
  {
   "cell_type": "code",
   "execution_count": 41,
   "metadata": {},
   "outputs": [
    {
     "data": {
      "text/plain": [
       "AAPL   -0.007914\n",
       "MSFT    0.255939\n",
       "GOOG   -0.004754\n",
       "FB      0.078757\n",
       "AMZN   -0.021745\n",
       "SNE     0.034798\n",
       "AMD     0.592410\n",
       "TWTR    0.304347\n",
       "IBM    -0.083394\n",
       "MU     -0.041568\n",
       "dtype: float64"
      ]
     },
     "execution_count": 41,
     "metadata": {},
     "output_type": "execute_result"
    }
   ],
   "source": [
    "# Set the number of trading days for the year\n",
    "year_trading_days = 252\n",
    "\n",
    "# To calculate the annualized average return of portfolio,\n",
    "# calculate the mean of the daily return values for each stock in 'portfolio_a_b'\n",
    "# and then multiply that by the number of trading days in the year\n",
    "average_annual_return_portfolio_a_b = daily_returns_a_b.mean() * year_trading_days\n",
    "\n",
    "# Display the average annual return values for each stock in 'portfolio_a_b'\n",
    "average_annual_return_portfolio_a_b"
   ]
  },
  {
   "cell_type": "code",
   "execution_count": 42,
   "metadata": {},
   "outputs": [
    {
     "data": {
      "text/plain": [
       "AAPL    0.320247\n",
       "MSFT    0.268657\n",
       "GOOG    0.293467\n",
       "FB      0.333875\n",
       "AMZN    0.356391\n",
       "SNE     0.314162\n",
       "AMD     0.706632\n",
       "TWTR    0.475679\n",
       "IBM     0.248172\n",
       "MU      0.480990\n",
       "dtype: float64"
      ]
     },
     "execution_count": 42,
     "metadata": {},
     "output_type": "execute_result"
    }
   ],
   "source": [
    "# To calculate the annualized standard deviation,\n",
    "# multiply the standard deviation (std) for the daily_returns_a_b DataFrame\n",
    "# by the square root (np.sqrt) of the number of trading days in the year\n",
    "annual_std_dev_portfolios_a_b = daily_returns_a_b.std() * np.sqrt(year_trading_days)\n",
    "# Display the results\n",
    "annual_std_dev_portfolios_a_b"
   ]
  },
  {
   "cell_type": "code",
   "execution_count": 43,
   "metadata": {},
   "outputs": [
    {
     "data": {
      "text/plain": [
       "IBM    -0.336033\n",
       "MU     -0.086421\n",
       "AMZN   -0.061014\n",
       "AAPL   -0.024712\n",
       "GOOG   -0.016201\n",
       "SNE     0.110764\n",
       "FB      0.235889\n",
       "TWTR    0.639816\n",
       "AMD     0.838357\n",
       "MSFT    0.952660\n",
       "dtype: float64"
      ]
     },
     "execution_count": 43,
     "metadata": {},
     "output_type": "execute_result"
    }
   ],
   "source": [
    "# Calculate Sharpe Ratio by dividing the average annual return by the standard deviation\n",
    "sharpe_ratios_a_b = average_annual_return_portfolio_a_b / annual_std_dev_portfolios_a_b\n",
    "# Display sorted results\n",
    "sharpe_ratios_a_b.sort_values()"
   ]
  },
  {
   "cell_type": "code",
   "execution_count": 44,
   "metadata": {},
   "outputs": [
    {
     "data": {
      "text/plain": [
       "<matplotlib.axes._subplots.AxesSubplot at 0x2663b506370>"
      ]
     },
     "execution_count": 44,
     "metadata": {},
     "output_type": "execute_result"
    },
    {
     "data": {
      "image/png": "[encoded data removed]",
      "text/plain": [
       "<Figure size 432x288 with 1 Axes>"
      ]
     },
     "metadata": {
      "needs_background": "light"
     },
     "output_type": "display_data"
    }
   ],
   "source": [
    "sharpe_ratios_a_b.plot.bar(title=\"Sharpe Ratios\")"
   ]
  },
  {
   "cell_type": "markdown",
   "metadata": {},
   "source": [
    "This information doesn’t change our overall analysis. MSFT still has a larger Sharpe ratio and a better risk-return profile than IBM. However, this bar chart reveals some significant differences and relationships among the stocks. Specifically, we can observe two things. First, IBM offers a worse risk-return profile by quite a bit. Second, MSFT has some competition from AMD and TWTR."
   ]
  },
  {
   "cell_type": "markdown",
   "metadata": {},
   "source": [
    "# Quantitative Analysis, Risk, and Portafolio Diversification\n",
    "\n",
    "An investment portfolio consists of a combination of assets. Each asset has its own risk-reward profile based on its performance history.\n",
    "\n",
    "Portfolio management involves a few key factors. One is the concept of risk tolerance. Another is diversification. In this section, we’ll explore each of these concepts in detail.\n",
    "\n",
    "## Assess Risk Tolerance\n",
    "Every investor has their own risk tolerance—the amount of risk they feel willing to take on (and still be able to sleep at night). For example, younger people tend to tolerate more investment risk, because they have a longer period of time to compensate for any investment problems. (Black Monday is one example. This was the day in October 1987 when the Dow Jones fell by more than 22% in a single day.)\n",
    "\n",
    "We apply this general rule to portfolios. Investment advisors and publications encourage young investors to have portfolios that contain 80% stocks and 20% bonds. Stocks have a sizably greater risk profile than bonds. We consider a portfolio that allocates 80% to stocks to have a greater risk, but it should attain solid growth over time.\n",
    "\n",
    "As an investor ages, we advise them to evolve that portfolio allocation to eventually contain 40% stocks and 60% bonds. The investor still incurs some risk, allowing the portfolio to take advantage of economic growth. However, a healthy bond allocation offsets the risk for that growth, protecting a large part of their investment.\n",
    "\n",
    "## Assess Diversification\n",
    "\n",
    "One way to manage risk within a portfolio is to own various stocks in the stock sleeve, or section, of the portfolio and various bonds in the bond sleeve. Investing the entire stock portion of your portfolio in one stock is risky. This is especially true if that stock has large values for risk metrics, like the standard deviation and the Sharpe ratio. In contrast, if that stock has small values for risk metrics, you might miss out on the portfolio’s return. A well-managed stock sleeve has a combination of stocks from various industries and sectors, all of which exhibit different risk characteristics.\n",
    "\n",
    "Portfolio diversification helps investors meet their investment goals while managing the risk they take on to reach those goals. The portfolio diversification strategy can change over time as the investor’s goals change. The goals might start with growing their portfolio (when the risk tolerance is high), move to preparing for a home and family, and then go all the way to saving for retirement (when the risk tolerance is low).\n",
    "\n",
    "## Using the Variance\n",
    "You never want all the stocks in a single portfolio to have a high-risk profile. Some should, but others should act as a stabilizing force. Quantitative analysts use a volatility metric, called the variance, to help distinguish the riskier stocks from the more stable ones.\n",
    "\n",
    "The variance is the measurement of how far the numbers in a dataset spread around their mean. For example, say that Stock A has an average price of $50 but varies from $5 to $90. Stock B averages $50 but varies from $40 to $60. Stock A, exhibiting the larger price range, has a greater variance than Stock B, which has a narrower price range.\n",
    "\n"
   ]
  },
  {
   "cell_type": "code",
   "execution_count": 51,
   "metadata": {},
   "outputs": [
    {
     "data": {
      "text/plain": [
       "<matplotlib.axes._subplots.AxesSubplot at 0x2663e79e4f0>"
      ]
     },
     "execution_count": 51,
     "metadata": {},
     "output_type": "execute_result"
    },
    {
     "data": {
      "image/png": "[encoded data removed]",
      "text/plain": [
       "<Figure size 720x504 with 1 Axes>"
      ]
     },
     "metadata": {
      "needs_background": "light"
     },
     "output_type": "display_data"
    }
   ],
   "source": [
    "#Calculate the Variance\n",
    "amzn_spx_df = pd.read_csv(\"./amzn_sp500_data.csv\",index_col=\"date\",parse_dates=True,infer_datetime_format=True)\n",
    "daily_returns_amzn_spx = amzn_spx_df.pct_change().dropna()\n",
    "daily_returns_amzn_spx.plot(figsize=(10, 7), title=\"Daily Returns - Amazon & S&P 500\")"
   ]
  },
  {
   "cell_type": "code",
   "execution_count": 52,
   "metadata": {},
   "outputs": [
    {
     "data": {
      "text/plain": [
       "AMZN       0.000363\n",
       "S&P 500    0.000070\n",
       "dtype: float64"
      ]
     },
     "execution_count": 52,
     "metadata": {},
     "output_type": "execute_result"
    }
   ],
   "source": [
    "# Using the Pandas 'var' function, calculate the variance of AMZN and the S&P 500\n",
    "daily_returns_amzn_spx.var()\n"
   ]
  },
  {
   "cell_type": "markdown",
   "metadata": {},
   "source": [
    "These results indicate that AMZN has a greater variance value than the S&P 500, which confirms our initial expectation.\n",
    "\n",
    "An important point is that the variance measures the spread of the data points around the mean over a specified period of time. The variance of an asset changes because of both market conditions and company-specific considerations (such as earnings, corporate announcements, and the competitive landscape).\n",
    "\n",
    "For example, we can calculate the variance for Amazon and the S&P 500 from January 1, 2018 to the end of the dataset. Going back to the plot of daily return information, we can observe that the specific time period seems volatile. Therefore, we can expect that the variance values from this period exceed those that we initially calculated.\n",
    "\n",
    "The following code calculates the variance for this period:"
   ]
  },
  {
   "cell_type": "code",
   "execution_count": 53,
   "metadata": {},
   "outputs": [
    {
     "data": {
      "text/plain": [
       "AMZN       0.000457\n",
       "S&P 500    0.000102\n",
       "dtype: float64"
      ]
     },
     "execution_count": 53,
     "metadata": {},
     "output_type": "execute_result"
    }
   ],
   "source": [
    "# # Calculate the variance for 2018-01-01 through 2019-05-17\n",
    "daily_returns_2018_2019 = daily_returns_amzn_spx.loc['2018-01-01':]\n",
    "daily_returns_2018_2019.var()\n"
   ]
  },
  {
   "cell_type": "markdown",
   "metadata": {},
   "source": [
    "Notice that the variance of AMZN exceeds that of the first calculation (0.000457 vs. 0.000363). This indicates that AMZN was more volatile in this later time period than it was over the entire period of the dataset. Notice that the same thing applies to the variance of the S&P 500 (0.000102 vs. 0.000070).\n",
    "\n",
    "Now, we can compare the magnitude of the change between the two assets. Over the whole period, the difference in the variance between AMZN and the S&P 500 was 0.000293 (0.000363 − 0.000070). Over the shorter period, it was 0.000355 (0.000457 − 0.000102). This indicates that AMZN was more volatile than the market during the 2018–2019 time period than it was over the whole period.\n",
    "\n",
    "To recap, the variance measures the price volatility of a single asset around its mean over time. When building a diversified portfolio, you want assets with a mix of variance levels. They shouldn’t all have a high or a low variance.\n",
    "\n",
    "In our example, AMZN has a higher variance than the S&P 500. To build a portfolio, we might want to find an asset with a higher variance that’s more in line with the S&P 500—or with one that’s even lower. Alternatively, we might want to find an asset with a high variance that tends to move in the opposite direction than that of AMZN. That is, the variance of this asset decreases when the AMZN variance increases and vice versa.\n",
    "\n",
    "This is where the covariance comes in. The covariance is the metric that measures how two assets behave in relation to each other.\n",
    "\n",
    "## Using the Covariance\n",
    "\n",
    "The covariance measures the directional relationship between two variables. It’s a useful metric in quantitative analysis, because it allows us to examine how an asset’s risk moves in relation to another asset’s risk.\n",
    "\n",
    "If the covariance between two stocks is positive, their prices tend to similarly move up and down on a day-to-day basis. For example, Coca-Cola and Pepsi or even General Motors and Ford Motor Company will likely have a positive covariance, because the stock pairs belong to the same industry.\n",
    "\n",
    "If the covariance is negative, the prices of the two stocks tend to move inversely. That is, when one goes up, the other goes down and vice versa. Stocks and bonds provide the go-to example of assets with a negative covariance. Another might consist of a high-flying tech stock, like Tesla, and a consumer product stock, like Procter & Gamble.\n"
   ]
  },
  {
   "cell_type": "code",
   "execution_count": 54,
   "metadata": {},
   "outputs": [
    {
     "name": "stdout",
     "output_type": "stream",
     "text": [
      " 0.00009344 \n"
     ]
    }
   ],
   "source": [
    "# Calculate covariance of all daily returns of AMZN vs. S&P 500\n",
    "covariance = daily_returns_amzn_spx['AMZN'].cov(daily_returns_amzn_spx['S&P 500'])\n",
    "# Display the covariance\n",
    "print(f\"{covariance: .8f} \")"
   ]
  },
  {
   "cell_type": "markdown",
   "metadata": {},
   "source": [
    "With the covariance, we’re more interested in whether it’s positive or negative than we are in the actual number. In the case of the AMZN covariance with the S&P 500, it’s positive. This indicates that the AMZN stock price tends to move in the same direction as that of the S&P 500. (When the S&P 500 goes up, the AMZN price tends to go up, as well.) This makes sense, because AMZN is one of the five largest stocks in the S&P 500.\n",
    "\n",
    "## Using the Beta\n",
    "\n",
    "The beta measures how much an asset's return value is likely to change relative to changes in the overall market’s return value, as follows:\n",
    "\n",
    "- A beta of 1.0 indicates that the asset's return value will likely be exactly the same as that of the market.\n",
    "- A beta that’s greater than 1.0 indicates that the change in the asset's return value will likely be greater than the change in the market’s return value.\n",
    "- A beta that’s less than 1.0 indicates that the change in the asset's return value will likely be less than that of the market.\n",
    "\n",
    ">In terms of risk, the more that an asset’s beta exceeds 1.0, the greater the risk of that asset. This is because the asset’s movement is more volatile and uncertain than that of the overall market.\n",
    "\n",
    "   ### Calculate the Beta\n",
    "               To calculate the beta, we divide the covariance of an asset (that is, the asset’s relationship to the market) by the:\n",
    "                                          \n",
    "                                          \n",
    "                                          beta = Cov / Var\n",
    "           "
   ]
  },
  {
   "cell_type": "code",
   "execution_count": 55,
   "metadata": {},
   "outputs": [
    {
     "data": {
      "text/plain": [
       "1.3290230173974698"
      ]
     },
     "execution_count": 55,
     "metadata": {},
     "output_type": "execute_result"
    }
   ],
   "source": [
    "# Divide the covariance of AMZN versus the S&P 500 by the variance of the S&P 500\n",
    "amzn_beta = daily_returns_amzn_spx['AMZN'].cov(daily_returns_amzn_spx['S&P 500']) / daily_returns_amzn_spx[\"S&P 500\"].var()\n",
    "# Display the AMZN beta\n",
    "amzn_beta"
   ]
  },
  {
   "cell_type": "markdown",
   "metadata": {},
   "source": [
    "Because the AMZN beta calculation of 1.329 is greater than 1.0, we expect the return on AMZN to be more volatile than that of the market. In a perfect world, if the market went up (or down) by 1%, the AMZN price would also go up (or down) by 1.329%. However, that’s not likely. Sometimes, the AMZN stock will return more than 1.329% of the market's move, and sometimes it will return less. This is where the uncertainty arises. The higher the beta, the greater the variability in a stock's expected move relative to the market."
   ]
  },
  {
   "cell_type": "code",
   "execution_count": null,
   "metadata": {},
   "outputs": [],
   "source": []
  }
 ],
 "metadata": {
  "kernelspec": {
   "display_name": "Python 3",
   "language": "python",
   "name": "python3"
  },
  "language_info": {
   "codemirror_mode": {
    "name": "ipython",
    "version": 3
   },
   "file_extension": ".py",
   "mimetype": "text/x-python",
   "name": "python",
   "nbconvert_exporter": "python",
   "pygments_lexer": "ipython3",
   "version": "3.8.3"
  }
 },
 "nbformat": 4,
 "nbformat_minor": 4
}
